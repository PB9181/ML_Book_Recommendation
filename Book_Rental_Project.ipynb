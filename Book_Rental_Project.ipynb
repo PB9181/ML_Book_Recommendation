{
 "cells": [
  {
   "cell_type": "markdown",
   "id": "702cb9de",
   "metadata": {},
   "source": [
    "Book Rental Recommendation .\n",
    "\n",
    "### Description\n",
    "\n",
    "Book Rent is the largest online and offline book rental chain in India. They provide books of various genres, such as thrillers, mysteries, romances, and science fiction. The company charges a fixed rental fee for a book per month. Lately, the company has been losing its user base. The main reason for this is that users are not able to choose the right books for themselves. The company wants to solve this problem and increase its revenue and profit. \n",
    "\n",
    "### Project Objective:\n",
    "\n",
    "You, as an ML expert, should focus on improving the user experience by personalizing it to the user's needs. You have to model a recommendation engine so that users get recommendations for books based on the behavior of similar users. This will ensure that users are renting the books based on their tastes and traits.\n",
    "\n",
    "Note: You have to perform user-based collaborative filtering and item-based collaborative filtering.\n",
    "\n",
    "### Dataset description:\n",
    "\n",
    " - BX-Users: It contains the information of users.\n",
    "\n",
    " - user_id - These have been anonymized and mapped to integers\n",
    "\n",
    " - Location - Demographic data is provided\n",
    "\n",
    " - Age - Demographic data is provided\n",
    "\n",
    " - If available, otherwise, these fields contain NULL-values.\n",
    "\n",
    " \n",
    "\n",
    "### BX-Books: \n",
    "\n",
    " - isbn - Books are identified by their respective ISBNs. Invalid ISBNs have already been removed from the dataset.\n",
    "\n",
    " - book_title\n",
    "\n",
    " - book_author\n",
    "\n",
    " - year_of_publication\n",
    "\n",
    " - publisher\n",
    "\n",
    "\n",
    " \n",
    "\n",
    "### BX-Book-Ratings: Contains the book rating information. \n",
    "\n",
    " - user_id\n",
    "\n",
    " - isbn\n",
    "\n",
    " - rating - Ratings (`Book-Rating`) are either explicit, expressed on a scale from 1–10 (higher values denoting higher appreciation), or implicit, expressed by 0.\n",
    "\n",
    " \n",
    "\n",
    "Note: Download the “BX-Book-Ratings.csv”, “BX-Books.csv”, “BX-Users.csv”, and “Recommend.csv” using the link given in the Book Rental Recommendation project problem statement.\n",
    "\n",
    " \n",
    "\n",
    "### Following operations should be performed:\n",
    "\n",
    " - Read the books dataset and explore it\n",
    "\n",
    " - Clean up NaN values\n",
    "\n",
    " - Read the data where ratings are given by users\n",
    "\n",
    " - Take a quick look at the number of unique users and books\n",
    "\n",
    " - Convert ISBN variables to numeric numbers in the correct order\n",
    "\n",
    " - Convert the user_id variable to numeric numbers in the correct order\n",
    "\n",
    " - Convert both user_id and ISBN to the ordered list, i.e., from 0...n-1\n",
    "\n",
    " - Re-index the columns to build a matrix\n",
    "\n",
    " - Split your data into two sets (training and testing)\n",
    "\n",
    " - Make predictions based on user and item variables\n",
    "\n",
    " - Use RMSE to evaluate the predictions"
   ]
  },
  {
   "cell_type": "code",
   "execution_count": 1,
   "id": "fdf3d835",
   "metadata": {},
   "outputs": [],
   "source": [
    "import pandas as pd\n",
    "import seaborn as sns\n",
    "import numpy as np\n",
    "import matplotlib.pyplot as plt"
   ]
  },
  {
   "cell_type": "code",
   "execution_count": 2,
   "id": "61a616b2",
   "metadata": {},
   "outputs": [],
   "source": [
    "import warnings\n",
    "warnings.filterwarnings(\"ignore\")"
   ]
  },
  {
   "cell_type": "code",
   "execution_count": 3,
   "id": "5ac85a0a",
   "metadata": {},
   "outputs": [],
   "source": [
    "df_user= pd.read_csv(\"BX-Users.csv\", encoding=\"latin-1\")"
   ]
  },
  {
   "cell_type": "markdown",
   "id": "cc2ca6cd",
   "metadata": {},
   "source": [
    " - Encoding is necessary when reading a CSV file to ensure that the text data in the file is correctly interpreted and processed by the Python library.\n",
    "### Read the books dataset and explore it"
   ]
  },
  {
   "cell_type": "code",
   "execution_count": 4,
   "id": "ceb7f8fe",
   "metadata": {},
   "outputs": [
    {
     "data": {
      "text/html": [
       "<div>\n",
       "<style scoped>\n",
       "    .dataframe tbody tr th:only-of-type {\n",
       "        vertical-align: middle;\n",
       "    }\n",
       "\n",
       "    .dataframe tbody tr th {\n",
       "        vertical-align: top;\n",
       "    }\n",
       "\n",
       "    .dataframe thead th {\n",
       "        text-align: right;\n",
       "    }\n",
       "</style>\n",
       "<table border=\"1\" class=\"dataframe\">\n",
       "  <thead>\n",
       "    <tr style=\"text-align: right;\">\n",
       "      <th></th>\n",
       "      <th>user_id</th>\n",
       "      <th>Location</th>\n",
       "      <th>Age</th>\n",
       "    </tr>\n",
       "  </thead>\n",
       "  <tbody>\n",
       "    <tr>\n",
       "      <th>0</th>\n",
       "      <td>1</td>\n",
       "      <td>nyc, new york, usa</td>\n",
       "      <td>NaN</td>\n",
       "    </tr>\n",
       "    <tr>\n",
       "      <th>1</th>\n",
       "      <td>2</td>\n",
       "      <td>stockton, california, usa</td>\n",
       "      <td>18.0</td>\n",
       "    </tr>\n",
       "    <tr>\n",
       "      <th>2</th>\n",
       "      <td>3</td>\n",
       "      <td>moscow, yukon territory, russia</td>\n",
       "      <td>NaN</td>\n",
       "    </tr>\n",
       "    <tr>\n",
       "      <th>3</th>\n",
       "      <td>4</td>\n",
       "      <td>porto, v.n.gaia, portugal</td>\n",
       "      <td>17.0</td>\n",
       "    </tr>\n",
       "    <tr>\n",
       "      <th>4</th>\n",
       "      <td>5</td>\n",
       "      <td>farnborough, hants, united kingdom</td>\n",
       "      <td>NaN</td>\n",
       "    </tr>\n",
       "  </tbody>\n",
       "</table>\n",
       "</div>"
      ],
      "text/plain": [
       "  user_id                            Location   Age\n",
       "0       1                  nyc, new york, usa   NaN\n",
       "1       2           stockton, california, usa  18.0\n",
       "2       3     moscow, yukon territory, russia   NaN\n",
       "3       4           porto, v.n.gaia, portugal  17.0\n",
       "4       5  farnborough, hants, united kingdom   NaN"
      ]
     },
     "execution_count": 4,
     "metadata": {},
     "output_type": "execute_result"
    }
   ],
   "source": [
    "df_user.head()"
   ]
  },
  {
   "cell_type": "code",
   "execution_count": 5,
   "id": "1b7030e7",
   "metadata": {},
   "outputs": [
    {
     "data": {
      "text/html": [
       "<div>\n",
       "<style scoped>\n",
       "    .dataframe tbody tr th:only-of-type {\n",
       "        vertical-align: middle;\n",
       "    }\n",
       "\n",
       "    .dataframe tbody tr th {\n",
       "        vertical-align: top;\n",
       "    }\n",
       "\n",
       "    .dataframe thead th {\n",
       "        text-align: right;\n",
       "    }\n",
       "</style>\n",
       "<table border=\"1\" class=\"dataframe\">\n",
       "  <thead>\n",
       "    <tr style=\"text-align: right;\">\n",
       "      <th></th>\n",
       "      <th>user_id</th>\n",
       "      <th>Location</th>\n",
       "      <th>Age</th>\n",
       "    </tr>\n",
       "  </thead>\n",
       "  <tbody>\n",
       "    <tr>\n",
       "      <th>278854</th>\n",
       "      <td>278854</td>\n",
       "      <td>portland, oregon, usa</td>\n",
       "      <td>NaN</td>\n",
       "    </tr>\n",
       "    <tr>\n",
       "      <th>278855</th>\n",
       "      <td>278855</td>\n",
       "      <td>tacoma, washington, united kingdom</td>\n",
       "      <td>50.0</td>\n",
       "    </tr>\n",
       "    <tr>\n",
       "      <th>278856</th>\n",
       "      <td>278856</td>\n",
       "      <td>brampton, ontario, canada</td>\n",
       "      <td>NaN</td>\n",
       "    </tr>\n",
       "    <tr>\n",
       "      <th>278857</th>\n",
       "      <td>278857</td>\n",
       "      <td>knoxville, tennessee, usa</td>\n",
       "      <td>NaN</td>\n",
       "    </tr>\n",
       "    <tr>\n",
       "      <th>278858</th>\n",
       "      <td>278858</td>\n",
       "      <td>dublin, n/a, ireland</td>\n",
       "      <td>NaN</td>\n",
       "    </tr>\n",
       "  </tbody>\n",
       "</table>\n",
       "</div>"
      ],
      "text/plain": [
       "       user_id                            Location   Age\n",
       "278854  278854               portland, oregon, usa   NaN\n",
       "278855  278855  tacoma, washington, united kingdom  50.0\n",
       "278856  278856           brampton, ontario, canada   NaN\n",
       "278857  278857           knoxville, tennessee, usa   NaN\n",
       "278858  278858                dublin, n/a, ireland   NaN"
      ]
     },
     "execution_count": 5,
     "metadata": {},
     "output_type": "execute_result"
    }
   ],
   "source": [
    "df_user.tail()"
   ]
  },
  {
   "cell_type": "code",
   "execution_count": 6,
   "id": "bb134b2a",
   "metadata": {},
   "outputs": [
    {
     "data": {
      "text/plain": [
       "(278859, 3)"
      ]
     },
     "execution_count": 6,
     "metadata": {},
     "output_type": "execute_result"
    }
   ],
   "source": [
    "df_user.shape"
   ]
  },
  {
   "cell_type": "code",
   "execution_count": 7,
   "id": "e6f61cc6",
   "metadata": {},
   "outputs": [
    {
     "name": "stdout",
     "output_type": "stream",
     "text": [
      "<class 'pandas.core.frame.DataFrame'>\n",
      "RangeIndex: 278859 entries, 0 to 278858\n",
      "Data columns (total 3 columns):\n",
      " #   Column    Non-Null Count   Dtype  \n",
      "---  ------    --------------   -----  \n",
      " 0   user_id   278859 non-null  object \n",
      " 1   Location  278858 non-null  object \n",
      " 2   Age       168096 non-null  float64\n",
      "dtypes: float64(1), object(2)\n",
      "memory usage: 6.4+ MB\n"
     ]
    }
   ],
   "source": [
    "df_user.info()"
   ]
  },
  {
   "cell_type": "markdown",
   "id": "d115e73a",
   "metadata": {},
   "source": [
    "### Clean up NaN values"
   ]
  },
  {
   "cell_type": "code",
   "execution_count": 8,
   "id": "eb7a5375",
   "metadata": {},
   "outputs": [
    {
     "data": {
      "text/plain": [
       "user_id          0\n",
       "Location         1\n",
       "Age         110763\n",
       "dtype: int64"
      ]
     },
     "execution_count": 8,
     "metadata": {},
     "output_type": "execute_result"
    }
   ],
   "source": [
    "df_user.isnull().sum()"
   ]
  },
  {
   "cell_type": "code",
   "execution_count": 9,
   "id": "000117da",
   "metadata": {},
   "outputs": [
    {
     "data": {
      "text/plain": [
       "<Axes: xlabel='Age', ylabel='Density'>"
      ]
     },
     "execution_count": 9,
     "metadata": {},
     "output_type": "execute_result"
    },
    {
     "data": {
      "image/png": "[encoded data removed]",
      "text/plain": [
       "<Figure size 640x480 with 1 Axes>"
      ]
     },
     "metadata": {},
     "output_type": "display_data"
    }
   ],
   "source": [
    "# check how the data is distributed? so we can decide what to use to fill null values\n",
    "sns.distplot(df_user[\"Age\"])"
   ]
  },
  {
   "cell_type": "code",
   "execution_count": 10,
   "id": "ce88f7d9",
   "metadata": {
    "scrolled": true
   },
   "outputs": [
    {
     "name": "stdout",
     "output_type": "stream",
     "text": [
      "[1, 1, 1, 1, 1, 1, 1, 1, 1, 1, 1, 1, 1, 1, 1, 1, 1, 1, 1, 1, 1, 1, 1, 1, 1, 1, 1, 1, 1, 1, 1, 1, 1, 1, 1, 1, 1, 1, 1, 1, 2, 2, 2, 2, 2, 2, 2, 2, 2, 2, 2, 2, 3, 3, 3, 3, 3, 3, 3, 3, 4, 4, 4, 5, 5, 5, 5, 5, 5, 6, 7, 7, 7, 8, 11, 13, 15, 17, 18, 22, 24, 25, 26, 27, 28, 45, 46, 48, 54, 56, 62, 62, 73, 82, 84, 105, 114, 119, 121, 170, 192, 192, 200, 223, 286, 288, 315, 373, 416, 426, 465, 545, 593, 680, 792, 882, 885, 1035, 1125, 1205, 1319, 1692, 1878, 1885, 1962, 2072, 2077, 2140, 2203, 2303, 2340, 2383, 2461, 2512, 2518, 2526, 2570, 2745, 2758, 2816, 2919, 3044, 3142, 3234, 3404, 3582, 3703, 3896, 3950, 4056, 4194, 4438, 4656, 4665, 4699, 4714, 4778, 4781, 5293, 5347, 5383, 5456, 5547, 5618, 5687]\n"
     ]
    }
   ],
   "source": [
    "print(sorted(df_user[\"Age\"].value_counts()))"
   ]
  },
  {
   "cell_type": "markdown",
   "id": "7a311a3f",
   "metadata": {},
   "source": [
    "### Age distribution looks like it has alot of outliers so the next step will be finding the right range."
   ]
  },
  {
   "cell_type": "code",
   "execution_count": 11,
   "id": "4546d23f",
   "metadata": {},
   "outputs": [
    {
     "data": {
      "text/plain": [
       "165"
      ]
     },
     "execution_count": 11,
     "metadata": {},
     "output_type": "execute_result"
    }
   ],
   "source": [
    "df_user[\"Age\"].nunique()"
   ]
  },
  {
   "cell_type": "code",
   "execution_count": 12,
   "id": "b7107017",
   "metadata": {},
   "outputs": [
    {
     "data": {
      "text/plain": [
       "array([ nan,  18.,  17.,  61.,  26.,  14.,  25.,  19.,  46.,  55.,  32.,\n",
       "        24.,  20.,  34.,  23.,  51.,  31.,  21.,  44.,  30.,  57.,  43.,\n",
       "        37.,  41.,  54.,  42.,  50.,  39.,  53.,  47.,  36.,  28.,  35.,\n",
       "        13.,  58.,  49.,  38.,  45.,  62.,  63.,  27.,  33.,  29.,  66.,\n",
       "        40.,  15.,  60.,   0.,  79.,  22.,  16.,  65.,  59.,  48.,  72.,\n",
       "        56.,  67.,   1.,  80.,  52.,  69.,  71.,  73.,  78.,   9.,  64.,\n",
       "       103., 104.,  12.,  74.,  75., 231.,   3.,  76.,  83.,  68., 119.,\n",
       "        11.,  77.,   2.,  70.,  93.,   8.,   7.,   4.,  81., 114., 230.,\n",
       "       239.,  10.,   5., 148., 151.,   6., 101., 201.,  96.,  84.,  82.,\n",
       "        90., 123., 244., 133.,  91., 128.,  94.,  85., 141., 110.,  97.,\n",
       "       219.,  86., 124.,  92., 175., 172., 209., 212., 237.,  87., 162.,\n",
       "       100., 156., 136.,  95.,  89., 106.,  99., 108., 210.,  88., 199.,\n",
       "       147., 168., 132., 159., 186., 152., 102., 116., 200., 115., 226.,\n",
       "       137., 207., 229., 138., 109., 105., 228., 183., 204.,  98., 223.,\n",
       "       113., 208., 107., 157., 111., 146., 118., 220., 143., 140., 189.,\n",
       "       127.])"
      ]
     },
     "execution_count": 12,
     "metadata": {},
     "output_type": "execute_result"
    }
   ],
   "source": [
    "df_user[\"Age\"].unique()"
   ]
  },
  {
   "cell_type": "code",
   "execution_count": 13,
   "id": "af454bde",
   "metadata": {},
   "outputs": [
    {
     "data": {
      "text/plain": [
       "34.75143370454978"
      ]
     },
     "execution_count": 13,
     "metadata": {},
     "output_type": "execute_result"
    }
   ],
   "source": [
    "mean_age= df_user[\"Age\"].mean()\n",
    "mean_age"
   ]
  },
  {
   "cell_type": "code",
   "execution_count": 14,
   "id": "d6afb3ed",
   "metadata": {},
   "outputs": [
    {
     "data": {
      "text/plain": [
       "32.0"
      ]
     },
     "execution_count": 14,
     "metadata": {},
     "output_type": "execute_result"
    }
   ],
   "source": [
    "median_age=df_user[\"Age\"].median()\n",
    "median_age"
   ]
  },
  {
   "cell_type": "code",
   "execution_count": 15,
   "id": "e79acfcd",
   "metadata": {},
   "outputs": [],
   "source": [
    "# Filling Nan value with Median\n",
    "df_user[\"Age\"].fillna(df_user[\"Age\"].median(), inplace=True)"
   ]
  },
  {
   "cell_type": "code",
   "execution_count": 16,
   "id": "d8eb1751",
   "metadata": {},
   "outputs": [
    {
     "data": {
      "text/plain": [
       "0"
      ]
     },
     "execution_count": 16,
     "metadata": {},
     "output_type": "execute_result"
    }
   ],
   "source": [
    "df_user[\"Age\"].isnull().sum()"
   ]
  },
  {
   "cell_type": "code",
   "execution_count": 17,
   "id": "b0c30893",
   "metadata": {},
   "outputs": [
    {
     "data": {
      "text/plain": [
       "<Axes: xlabel='Age'>"
      ]
     },
     "execution_count": 17,
     "metadata": {},
     "output_type": "execute_result"
    },
    {
     "data": {
      "image/png": "[encoded data removed]",
      "text/plain": [
       "<Figure size 640x480 with 1 Axes>"
      ]
     },
     "metadata": {},
     "output_type": "display_data"
    }
   ],
   "source": [
    "sns.boxplot(x=\"Age\", data=df_user)"
   ]
  },
  {
   "cell_type": "code",
   "execution_count": 18,
   "id": "6ac99753",
   "metadata": {},
   "outputs": [],
   "source": [
    "df_user[\"Age\"]=df_user[\"Age\"].apply(lambda x: mean_age if(x < 10 or x > 85) else x)"
   ]
  },
  {
   "cell_type": "code",
   "execution_count": 19,
   "id": "1ef324b2",
   "metadata": {},
   "outputs": [
    {
     "data": {
      "text/plain": [
       "<Axes: xlabel='Age'>"
      ]
     },
     "execution_count": 19,
     "metadata": {},
     "output_type": "execute_result"
    },
    {
     "data": {
      "image/png": "[encoded data removed]",
      "text/plain": [
       "<Figure size 640x480 with 1 Axes>"
      ]
     },
     "metadata": {},
     "output_type": "display_data"
    }
   ],
   "source": [
    "sns.boxplot(x=\"Age\", data=df_user)"
   ]
  },
  {
   "cell_type": "code",
   "execution_count": 20,
   "id": "ffbe8a96",
   "metadata": {},
   "outputs": [
    {
     "data": {
      "text/plain": [
       "user_id     0\n",
       "Location    1\n",
       "Age         0\n",
       "dtype: int64"
      ]
     },
     "execution_count": 20,
     "metadata": {},
     "output_type": "execute_result"
    }
   ],
   "source": [
    "df_user.isnull().sum()"
   ]
  },
  {
   "cell_type": "code",
   "execution_count": 21,
   "id": "3d0222b6",
   "metadata": {},
   "outputs": [],
   "source": [
    "df_user.dropna(inplace=True)"
   ]
  },
  {
   "cell_type": "code",
   "execution_count": 22,
   "id": "5a3cac09",
   "metadata": {},
   "outputs": [
    {
     "data": {
      "text/plain": [
       "user_id     0\n",
       "Location    0\n",
       "Age         0\n",
       "dtype: int64"
      ]
     },
     "execution_count": 22,
     "metadata": {},
     "output_type": "execute_result"
    }
   ],
   "source": [
    "df_user.isnull().sum()"
   ]
  },
  {
   "cell_type": "markdown",
   "id": "8f775d36",
   "metadata": {},
   "source": [
    "### Read the data where ratings are given by users"
   ]
  },
  {
   "cell_type": "code",
   "execution_count": 23,
   "id": "703f29de",
   "metadata": {},
   "outputs": [],
   "source": [
    "# Taking \n",
    "df_ratings=pd.read_csv(\"BX-Book-Ratings.csv\", encoding=\"latin_1\")"
   ]
  },
  {
   "cell_type": "code",
   "execution_count": 24,
   "id": "1918fe69",
   "metadata": {},
   "outputs": [
    {
     "data": {
      "text/plain": [
       "(1048575, 3)"
      ]
     },
     "execution_count": 24,
     "metadata": {},
     "output_type": "execute_result"
    }
   ],
   "source": [
    "df_ratings.shape"
   ]
  },
  {
   "cell_type": "code",
   "execution_count": 25,
   "id": "adf72349",
   "metadata": {},
   "outputs": [
    {
     "data": {
      "text/plain": [
       "user_id    0\n",
       "isbn       0\n",
       "rating     0\n",
       "dtype: int64"
      ]
     },
     "execution_count": 25,
     "metadata": {},
     "output_type": "execute_result"
    }
   ],
   "source": [
    "df_ratings.isnull().sum()"
   ]
  },
  {
   "cell_type": "code",
   "execution_count": 26,
   "id": "51b924e2",
   "metadata": {},
   "outputs": [
    {
     "data": {
      "text/html": [
       "<div>\n",
       "<style scoped>\n",
       "    .dataframe tbody tr th:only-of-type {\n",
       "        vertical-align: middle;\n",
       "    }\n",
       "\n",
       "    .dataframe tbody tr th {\n",
       "        vertical-align: top;\n",
       "    }\n",
       "\n",
       "    .dataframe thead th {\n",
       "        text-align: right;\n",
       "    }\n",
       "</style>\n",
       "<table border=\"1\" class=\"dataframe\">\n",
       "  <thead>\n",
       "    <tr style=\"text-align: right;\">\n",
       "      <th></th>\n",
       "      <th>user_id</th>\n",
       "      <th>isbn</th>\n",
       "      <th>rating</th>\n",
       "    </tr>\n",
       "  </thead>\n",
       "  <tbody>\n",
       "    <tr>\n",
       "      <th>0</th>\n",
       "      <td>276725</td>\n",
       "      <td>034545104X</td>\n",
       "      <td>0</td>\n",
       "    </tr>\n",
       "    <tr>\n",
       "      <th>1</th>\n",
       "      <td>276726</td>\n",
       "      <td>155061224</td>\n",
       "      <td>5</td>\n",
       "    </tr>\n",
       "    <tr>\n",
       "      <th>2</th>\n",
       "      <td>276727</td>\n",
       "      <td>446520802</td>\n",
       "      <td>0</td>\n",
       "    </tr>\n",
       "    <tr>\n",
       "      <th>3</th>\n",
       "      <td>276729</td>\n",
       "      <td>052165615X</td>\n",
       "      <td>3</td>\n",
       "    </tr>\n",
       "    <tr>\n",
       "      <th>4</th>\n",
       "      <td>276729</td>\n",
       "      <td>521795028</td>\n",
       "      <td>6</td>\n",
       "    </tr>\n",
       "  </tbody>\n",
       "</table>\n",
       "</div>"
      ],
      "text/plain": [
       "   user_id        isbn  rating\n",
       "0   276725  034545104X       0\n",
       "1   276726   155061224       5\n",
       "2   276727   446520802       0\n",
       "3   276729  052165615X       3\n",
       "4   276729   521795028       6"
      ]
     },
     "execution_count": 26,
     "metadata": {},
     "output_type": "execute_result"
    }
   ],
   "source": [
    "df_ratings.head()"
   ]
  },
  {
   "cell_type": "markdown",
   "id": "33c99db6",
   "metadata": {},
   "source": [
    "### Read the book data set."
   ]
  },
  {
   "cell_type": "code",
   "execution_count": 27,
   "id": "b4f1abe0",
   "metadata": {},
   "outputs": [
    {
     "name": "stdout",
     "output_type": "stream",
     "text": [
      "Books Data:   (271379, 5)\n"
     ]
    }
   ],
   "source": [
    "df_books=pd.read_csv(\"BX-Books.csv\", encoding=\"latin_1\")\n",
    "print(\"Books Data:  \", df_books.shape)"
   ]
  },
  {
   "cell_type": "code",
   "execution_count": 28,
   "id": "fa9b35dc",
   "metadata": {},
   "outputs": [
    {
     "data": {
      "text/html": [
       "<div>\n",
       "<style scoped>\n",
       "    .dataframe tbody tr th:only-of-type {\n",
       "        vertical-align: middle;\n",
       "    }\n",
       "\n",
       "    .dataframe tbody tr th {\n",
       "        vertical-align: top;\n",
       "    }\n",
       "\n",
       "    .dataframe thead th {\n",
       "        text-align: right;\n",
       "    }\n",
       "</style>\n",
       "<table border=\"1\" class=\"dataframe\">\n",
       "  <thead>\n",
       "    <tr style=\"text-align: right;\">\n",
       "      <th></th>\n",
       "      <th>isbn</th>\n",
       "      <th>book_title</th>\n",
       "      <th>book_author</th>\n",
       "      <th>year_of_publication</th>\n",
       "      <th>publisher</th>\n",
       "    </tr>\n",
       "  </thead>\n",
       "  <tbody>\n",
       "    <tr>\n",
       "      <th>0</th>\n",
       "      <td>195153448</td>\n",
       "      <td>Classical Mythology</td>\n",
       "      <td>Mark P. O. Morford</td>\n",
       "      <td>2002</td>\n",
       "      <td>Oxford University Press</td>\n",
       "    </tr>\n",
       "    <tr>\n",
       "      <th>1</th>\n",
       "      <td>2005018</td>\n",
       "      <td>Clara Callan</td>\n",
       "      <td>Richard Bruce Wright</td>\n",
       "      <td>2001</td>\n",
       "      <td>HarperFlamingo Canada</td>\n",
       "    </tr>\n",
       "    <tr>\n",
       "      <th>2</th>\n",
       "      <td>60973129</td>\n",
       "      <td>Decision in Normandy</td>\n",
       "      <td>Carlo D'Este</td>\n",
       "      <td>1991</td>\n",
       "      <td>HarperPerennial</td>\n",
       "    </tr>\n",
       "    <tr>\n",
       "      <th>3</th>\n",
       "      <td>374157065</td>\n",
       "      <td>Flu: The Story of the Great Influenza Pandemic...</td>\n",
       "      <td>Gina Bari Kolata</td>\n",
       "      <td>1999</td>\n",
       "      <td>Farrar Straus Giroux</td>\n",
       "    </tr>\n",
       "    <tr>\n",
       "      <th>4</th>\n",
       "      <td>393045218</td>\n",
       "      <td>The Mummies of Urumchi</td>\n",
       "      <td>E. J. W. Barber</td>\n",
       "      <td>1999</td>\n",
       "      <td>W. W. Norton &amp;amp; Company</td>\n",
       "    </tr>\n",
       "  </tbody>\n",
       "</table>\n",
       "</div>"
      ],
      "text/plain": [
       "        isbn                                         book_title  \\\n",
       "0  195153448                                Classical Mythology   \n",
       "1    2005018                                       Clara Callan   \n",
       "2   60973129                               Decision in Normandy   \n",
       "3  374157065  Flu: The Story of the Great Influenza Pandemic...   \n",
       "4  393045218                             The Mummies of Urumchi   \n",
       "\n",
       "            book_author year_of_publication                   publisher  \n",
       "0    Mark P. O. Morford                2002     Oxford University Press  \n",
       "1  Richard Bruce Wright                2001       HarperFlamingo Canada  \n",
       "2          Carlo D'Este                1991             HarperPerennial  \n",
       "3      Gina Bari Kolata                1999        Farrar Straus Giroux  \n",
       "4       E. J. W. Barber                1999  W. W. Norton &amp; Company  "
      ]
     },
     "execution_count": 28,
     "metadata": {},
     "output_type": "execute_result"
    }
   ],
   "source": [
    "df_books.head()"
   ]
  },
  {
   "cell_type": "code",
   "execution_count": 29,
   "id": "16f39192",
   "metadata": {},
   "outputs": [
    {
     "data": {
      "text/html": [
       "<div>\n",
       "<style scoped>\n",
       "    .dataframe tbody tr th:only-of-type {\n",
       "        vertical-align: middle;\n",
       "    }\n",
       "\n",
       "    .dataframe tbody tr th {\n",
       "        vertical-align: top;\n",
       "    }\n",
       "\n",
       "    .dataframe thead th {\n",
       "        text-align: right;\n",
       "    }\n",
       "</style>\n",
       "<table border=\"1\" class=\"dataframe\">\n",
       "  <thead>\n",
       "    <tr style=\"text-align: right;\">\n",
       "      <th></th>\n",
       "      <th>isbn</th>\n",
       "      <th>book_title</th>\n",
       "      <th>book_author</th>\n",
       "      <th>year_of_publication</th>\n",
       "      <th>publisher</th>\n",
       "    </tr>\n",
       "  </thead>\n",
       "  <tbody>\n",
       "    <tr>\n",
       "      <th>271374</th>\n",
       "      <td>440400988</td>\n",
       "      <td>There's a Bat in Bunk Five</td>\n",
       "      <td>Paula Danziger</td>\n",
       "      <td>1988</td>\n",
       "      <td>Random House Childrens Pub (Mm)</td>\n",
       "    </tr>\n",
       "    <tr>\n",
       "      <th>271375</th>\n",
       "      <td>525447644</td>\n",
       "      <td>From One to One Hundred</td>\n",
       "      <td>Teri Sloat</td>\n",
       "      <td>1991</td>\n",
       "      <td>Dutton Books</td>\n",
       "    </tr>\n",
       "    <tr>\n",
       "      <th>271376</th>\n",
       "      <td>006008667X</td>\n",
       "      <td>Lily Dale : The True Story of the Town that Ta...</td>\n",
       "      <td>Christine Wicker</td>\n",
       "      <td>2004</td>\n",
       "      <td>HarperSanFrancisco</td>\n",
       "    </tr>\n",
       "    <tr>\n",
       "      <th>271377</th>\n",
       "      <td>192126040</td>\n",
       "      <td>Republic (World's Classics)</td>\n",
       "      <td>Plato</td>\n",
       "      <td>1996</td>\n",
       "      <td>Oxford University Press</td>\n",
       "    </tr>\n",
       "    <tr>\n",
       "      <th>271378</th>\n",
       "      <td>767409752</td>\n",
       "      <td>A Guided Tour of Rene Descartes' Meditations o...</td>\n",
       "      <td>Christopher  Biffle</td>\n",
       "      <td>2000</td>\n",
       "      <td>McGraw-Hill Humanities/Social Sciences/Languages</td>\n",
       "    </tr>\n",
       "  </tbody>\n",
       "</table>\n",
       "</div>"
      ],
      "text/plain": [
       "              isbn                                         book_title  \\\n",
       "271374   440400988                         There's a Bat in Bunk Five   \n",
       "271375   525447644                            From One to One Hundred   \n",
       "271376  006008667X  Lily Dale : The True Story of the Town that Ta...   \n",
       "271377   192126040                        Republic (World's Classics)   \n",
       "271378   767409752  A Guided Tour of Rene Descartes' Meditations o...   \n",
       "\n",
       "                book_author year_of_publication  \\\n",
       "271374       Paula Danziger                1988   \n",
       "271375           Teri Sloat                1991   \n",
       "271376     Christine Wicker                2004   \n",
       "271377                Plato                1996   \n",
       "271378  Christopher  Biffle                2000   \n",
       "\n",
       "                                               publisher  \n",
       "271374                   Random House Childrens Pub (Mm)  \n",
       "271375                                      Dutton Books  \n",
       "271376                                HarperSanFrancisco  \n",
       "271377                           Oxford University Press  \n",
       "271378  McGraw-Hill Humanities/Social Sciences/Languages  "
      ]
     },
     "execution_count": 29,
     "metadata": {},
     "output_type": "execute_result"
    }
   ],
   "source": [
    "df_books.tail()"
   ]
  },
  {
   "cell_type": "code",
   "execution_count": 30,
   "id": "af3ba1ad",
   "metadata": {},
   "outputs": [
    {
     "data": {
      "text/plain": [
       "isbn                   0\n",
       "book_title             0\n",
       "book_author            1\n",
       "year_of_publication    0\n",
       "publisher              2\n",
       "dtype: int64"
      ]
     },
     "execution_count": 30,
     "metadata": {},
     "output_type": "execute_result"
    }
   ],
   "source": [
    "df_books.isnull().sum()"
   ]
  },
  {
   "cell_type": "code",
   "execution_count": 31,
   "id": "060d737f",
   "metadata": {},
   "outputs": [],
   "source": [
    "df_books.dropna(inplace=True)"
   ]
  },
  {
   "cell_type": "code",
   "execution_count": 32,
   "id": "ca7cc703",
   "metadata": {},
   "outputs": [
    {
     "data": {
      "text/plain": [
       "isbn                   0\n",
       "book_title             0\n",
       "book_author            0\n",
       "year_of_publication    0\n",
       "publisher              0\n",
       "dtype: int64"
      ]
     },
     "execution_count": 32,
     "metadata": {},
     "output_type": "execute_result"
    }
   ],
   "source": [
    "df_books.isnull().sum()"
   ]
  },
  {
   "cell_type": "markdown",
   "id": "d4fe7809",
   "metadata": {},
   "source": [
    "### All dataset have no null values.\n",
    "### Data Preprocessing"
   ]
  },
  {
   "cell_type": "code",
   "execution_count": 33,
   "id": "39da99b3",
   "metadata": {},
   "outputs": [
    {
     "data": {
      "text/plain": [
       "202"
      ]
     },
     "execution_count": 33,
     "metadata": {},
     "output_type": "execute_result"
    }
   ],
   "source": [
    "df_books[\"year_of_publication\"].nunique()"
   ]
  },
  {
   "cell_type": "code",
   "execution_count": 34,
   "id": "95c7a601",
   "metadata": {},
   "outputs": [
    {
     "data": {
      "text/plain": [
       "array(['2002', '2001', '1991', '1999', '2000', '1993', '1996', '1988',\n",
       "       '2004', '1998', '1994', '2003', '1997', '1983', '1979', '1995',\n",
       "       '1982', '1985', '1992', '1986', '1978', '1980', '1952', '1987',\n",
       "       '1990', '1981', '1989', '1984', '0', '1968', '1961', '1958',\n",
       "       '1974', '1976', '1971', '1977', '1975', '1965', '1941', '1970',\n",
       "       '1962', '1973', '1972', '1960', '1966', '1920', '1956', '1959',\n",
       "       '1953', '1951', '1942', '1963', '1964', '1969', '1954', '1950',\n",
       "       '1967', '2005', '1957', '1940', '1937', 'John Peterman', '1955',\n",
       "       '1946', '1936', '1930', '2011', '1925', '1948', '1943', '1947',\n",
       "       '1945', '1923', '2020', '1939', '1926', '1938', '2030',\n",
       "       '\\\\\"Freedom Song\\\\\"\"', '1911', '1904', '1949', 'Frank Muir',\n",
       "       '1932', '1928', '1929', '1927', '1931', '1914', '2050', '1934',\n",
       "       '1910', 'ROBERT A. WILSON', '1933', '1902', 'Karen T. Whittenburg',\n",
       "       '1924', '1921', '1900', '2038', '2026', 'George H. Scherr', '1944',\n",
       "       '1917', '1901', 'Salvador de Madariaga', '2010',\n",
       "       'K.C. Constantine', 'Stan Berenstain', '1908', '1906', '1935',\n",
       "       '1806', 'Francine Pascal', '2021', 'Luella Hill', '2012', '2006',\n",
       "       'John Alderson Foote', 'DK Publishing Inc', 'Jules Janin',\n",
       "       'Gallimard', '1909', '2008', '1378', ' &amp', ' Learning\"', '1919',\n",
       "       '1922', '1897', 'Isadora Duncan', '2024', 'Beatrix Potter', '1376',\n",
       "       '2037', 'Bart Rulon', 'Alan Rich', 2000, 1982, 1983, 1989, 1993,\n",
       "       1991, 1990, 1998, 1994, 1995, 1986, 1987, 1974, 1984, 0, 1977,\n",
       "       1996, 1997, 1980, 1988, 2002, 2001, 1981, 1999, 1992, 2003, 2004,\n",
       "       1972, 1976, 1985, 1978, 1979, 1970, 1962, 1975, 1901, 1973, 1955,\n",
       "       1971, 1964, 1963, 1958, 1968, 1969, 1966, 1946, 1943, 1967, 1949,\n",
       "       1965, 1961, 1960, 1930, 1951, 1957, 1959, 1952, 1953, 1956, 1950,\n",
       "       1954, 1920, 2005, 1940, 1929], dtype=object)"
      ]
     },
     "execution_count": 34,
     "metadata": {},
     "output_type": "execute_result"
    }
   ],
   "source": [
    "df_books[\"year_of_publication\"].unique()"
   ]
  },
  {
   "cell_type": "code",
   "execution_count": 35,
   "id": "19cc00a6",
   "metadata": {},
   "outputs": [],
   "source": [
    "pd.set_option(\"display.max_colwidth\",-1)"
   ]
  },
  {
   "cell_type": "code",
   "execution_count": 36,
   "id": "cbdf7a22",
   "metadata": {},
   "outputs": [
    {
     "data": {
      "text/html": [
       "<div>\n",
       "<style scoped>\n",
       "    .dataframe tbody tr th:only-of-type {\n",
       "        vertical-align: middle;\n",
       "    }\n",
       "\n",
       "    .dataframe tbody tr th {\n",
       "        vertical-align: top;\n",
       "    }\n",
       "\n",
       "    .dataframe thead th {\n",
       "        text-align: right;\n",
       "    }\n",
       "</style>\n",
       "<table border=\"1\" class=\"dataframe\">\n",
       "  <thead>\n",
       "    <tr style=\"text-align: right;\">\n",
       "      <th></th>\n",
       "      <th>isbn</th>\n",
       "      <th>book_title</th>\n",
       "      <th>book_author</th>\n",
       "      <th>year_of_publication</th>\n",
       "      <th>publisher</th>\n",
       "    </tr>\n",
       "  </thead>\n",
       "  <tbody>\n",
       "    <tr>\n",
       "      <th>6450</th>\n",
       "      <td>735201994</td>\n",
       "      <td>Peterman Rides Again: Adventures Continue with the Real \\J. Peterman\\\" Through Life &amp;amp</td>\n",
       "      <td>the Catalog Business\"</td>\n",
       "      <td>John Peterman</td>\n",
       "      <td>2000</td>\n",
       "    </tr>\n",
       "  </tbody>\n",
       "</table>\n",
       "</div>"
      ],
      "text/plain": [
       "           isbn  \\\n",
       "6450  735201994   \n",
       "\n",
       "                                                                                    book_title  \\\n",
       "6450  Peterman Rides Again: Adventures Continue with the Real \\J. Peterman\\\" Through Life &amp   \n",
       "\n",
       "                 book_author year_of_publication publisher  \n",
       "6450   the Catalog Business\"  John Peterman       2000      "
      ]
     },
     "execution_count": 36,
     "metadata": {},
     "output_type": "execute_result"
    }
   ],
   "source": [
    "df_books.loc[df_books['year_of_publication'] == 'John Peterman',:]"
   ]
  },
  {
   "cell_type": "code",
   "execution_count": 37,
   "id": "7206932e",
   "metadata": {},
   "outputs": [],
   "source": [
    "text_rows = df_books[df_books['year_of_publication'].str.contains(r'[^0-9]+', regex=True, na=False)]\n"
   ]
  },
  {
   "cell_type": "markdown",
   "id": "624ce75c",
   "metadata": {},
   "source": [
    " - We use the .str.contains() method with a regular expression pattern r'[^0-9]+' to check for any sequence of characters that are not digits (non-numeric values).\n",
    "  - regex=True to indicate that we're using a regular expression pattern.\n",
    " - na=False is set to exclude rows with missing values (NaN) from the result."
   ]
  },
  {
   "cell_type": "code",
   "execution_count": 38,
   "id": "3761f1c7",
   "metadata": {},
   "outputs": [
    {
     "data": {
      "text/plain": [
       "<bound method IndexOpsMixin.value_counts of 0         Oxford University Press                         \n",
       "1         HarperFlamingo Canada                           \n",
       "2         HarperPerennial                                 \n",
       "3         Farrar Straus Giroux                            \n",
       "4         W. W. Norton &amp; Company                      \n",
       "                     ...                                  \n",
       "271374    Random House Childrens Pub (Mm)                 \n",
       "271375    Dutton Books                                    \n",
       "271376    HarperSanFrancisco                              \n",
       "271377    Oxford University Press                         \n",
       "271378    McGraw-Hill Humanities/Social Sciences/Languages\n",
       "Name: publisher, Length: 271376, dtype: object>"
      ]
     },
     "execution_count": 38,
     "metadata": {},
     "output_type": "execute_result"
    }
   ],
   "source": [
    "df_books[\"publisher\"].value_counts"
   ]
  },
  {
   "cell_type": "code",
   "execution_count": 39,
   "id": "66304b37",
   "metadata": {
    "scrolled": true
   },
   "outputs": [
    {
     "data": {
      "text/plain": [
       "isbn                   22\n",
       "book_title             22\n",
       "book_author            21\n",
       "year_of_publication    21\n",
       "publisher              20\n",
       "dtype: int64"
      ]
     },
     "execution_count": 39,
     "metadata": {},
     "output_type": "execute_result"
    }
   ],
   "source": [
    "text_rows.nunique()"
   ]
  },
  {
   "cell_type": "code",
   "execution_count": 40,
   "id": "0761abd8",
   "metadata": {},
   "outputs": [
    {
     "data": {
      "text/plain": [
       "(271376, 5)"
      ]
     },
     "execution_count": 40,
     "metadata": {},
     "output_type": "execute_result"
    }
   ],
   "source": [
    "df_books.shape"
   ]
  },
  {
   "cell_type": "markdown",
   "id": "c41128fd",
   "metadata": {},
   "source": [
    "### Here we have 2 scenarios:\n",
    " - One is to rearrange a data like the example below and assign the right value to the right category\n",
    " - Since the dataset is very big and the rearrangement needed for the \"year_of_publication\" is less than 0.1% of the total dataset, I decided to drop it. Otherwise we can perform the following way to rearrange the value."
   ]
  },
  {
   "cell_type": "code",
   "execution_count": 41,
   "id": "7d0c718a",
   "metadata": {},
   "outputs": [],
   "source": [
    "df_books.at[6450, \"publisher\"]=\"the Catalog Business\"\n",
    "df_books.at[6450, \"book_title\"]=\"Peterman Rides Again: Adventures Continue with the Real\"\n",
    "df_books.at[6450, \"year_of_publication\"]=\"2000\"\n",
    "df_books.at[6450, \"book_author\"]=\"John Peterman\""
   ]
  },
  {
   "cell_type": "code",
   "execution_count": 42,
   "id": "a4b96dc8",
   "metadata": {},
   "outputs": [
    {
     "data": {
      "text/html": [
       "<div>\n",
       "<style scoped>\n",
       "    .dataframe tbody tr th:only-of-type {\n",
       "        vertical-align: middle;\n",
       "    }\n",
       "\n",
       "    .dataframe tbody tr th {\n",
       "        vertical-align: top;\n",
       "    }\n",
       "\n",
       "    .dataframe thead th {\n",
       "        text-align: right;\n",
       "    }\n",
       "</style>\n",
       "<table border=\"1\" class=\"dataframe\">\n",
       "  <thead>\n",
       "    <tr style=\"text-align: right;\">\n",
       "      <th></th>\n",
       "      <th>isbn</th>\n",
       "      <th>book_title</th>\n",
       "      <th>book_author</th>\n",
       "      <th>year_of_publication</th>\n",
       "      <th>publisher</th>\n",
       "    </tr>\n",
       "  </thead>\n",
       "  <tbody>\n",
       "    <tr>\n",
       "      <th>43665</th>\n",
       "      <td>330482750</td>\n",
       "      <td>Three Novels: \\A Strange and Sublime Address\\\"</td>\n",
       "      <td>\\\"Afternoon Raag\\\"</td>\n",
       "      <td>\\\"Freedom Song\\\"\"</td>\n",
       "      <td>Amit Chaudhuri</td>\n",
       "    </tr>\n",
       "    <tr>\n",
       "      <th>51749</th>\n",
       "      <td>413326608</td>\n",
       "      <td>Upon my word!: More stories from \\My word!\\\" a panel game devised by Edward J. Mason &amp;amp</td>\n",
       "      <td>Tony Shryane\"</td>\n",
       "      <td>Frank Muir</td>\n",
       "      <td>1974</td>\n",
       "    </tr>\n",
       "    <tr>\n",
       "      <th>92036</th>\n",
       "      <td>440500702</td>\n",
       "      <td>Schrodinger's Cat Trilogy : \\The Universe Next Door\\\", \\\"The Trick Top Hat\\\", &amp;amp</td>\n",
       "      <td>\\\"The Homing Pigeons\\\"\"</td>\n",
       "      <td>ROBERT A. WILSON</td>\n",
       "      <td>1988</td>\n",
       "    </tr>\n",
       "    <tr>\n",
       "      <th>104317</th>\n",
       "      <td>373166982</td>\n",
       "      <td>Please Say \\I Do\\\"  (Three Weddings &amp;amp</td>\n",
       "      <td>A Hurricane) (Harlequin American Romance, No 698)\"</td>\n",
       "      <td>Karen T. Whittenburg</td>\n",
       "      <td>1997</td>\n",
       "    </tr>\n",
       "    <tr>\n",
       "      <th>121766</th>\n",
       "      <td>894805959</td>\n",
       "      <td>The Best of the Journal of Irreproducible Results: \\Improbable Investigations &amp;amp</td>\n",
       "      <td>Unfounded Findings\\\"\"</td>\n",
       "      <td>George H. Scherr</td>\n",
       "      <td>1989</td>\n",
       "    </tr>\n",
       "  </tbody>\n",
       "</table>\n",
       "</div>"
      ],
      "text/plain": [
       "             isbn  \\\n",
       "43665   330482750   \n",
       "51749   413326608   \n",
       "92036   440500702   \n",
       "104317  373166982   \n",
       "121766  894805959   \n",
       "\n",
       "                                                                                       book_title  \\\n",
       "43665   Three Novels: \\A Strange and Sublime Address\\\"                                              \n",
       "51749   Upon my word!: More stories from \\My word!\\\" a panel game devised by Edward J. Mason &amp   \n",
       "92036   Schrodinger's Cat Trilogy : \\The Universe Next Door\\\", \\\"The Trick Top Hat\\\", &amp          \n",
       "104317  Please Say \\I Do\\\"  (Three Weddings &amp                                                    \n",
       "121766  The Best of the Journal of Irreproducible Results: \\Improbable Investigations &amp          \n",
       "\n",
       "                                                book_author  \\\n",
       "43665    \\\"Afternoon Raag\\\"                                   \n",
       "51749    Tony Shryane\"                                        \n",
       "92036    \\\"The Homing Pigeons\\\"\"                              \n",
       "104317   A Hurricane) (Harlequin American Romance, No 698)\"   \n",
       "121766   Unfounded Findings\\\"\"                                \n",
       "\n",
       "         year_of_publication       publisher  \n",
       "43665   \\\"Freedom Song\\\"\"     Amit Chaudhuri  \n",
       "51749   Frank Muir            1974            \n",
       "92036   ROBERT A. WILSON      1988            \n",
       "104317  Karen T. Whittenburg  1997            \n",
       "121766  George H. Scherr      1989            "
      ]
     },
     "execution_count": 42,
     "metadata": {},
     "output_type": "execute_result"
    }
   ],
   "source": [
    "text_rows_new = df_books[df_books['year_of_publication'].str.contains(r'[^0-9]+', regex=True, na=False)]\n",
    "text_rows_new.head()"
   ]
  },
  {
   "cell_type": "code",
   "execution_count": 43,
   "id": "06903e7d",
   "metadata": {},
   "outputs": [],
   "source": [
    "df_books=df_books.drop(text_rows_new.index)\n"
   ]
  },
  {
   "cell_type": "code",
   "execution_count": 44,
   "id": "02190fd7",
   "metadata": {},
   "outputs": [
    {
     "data": {
      "text/plain": [
       "(271355, 5)"
      ]
     },
     "execution_count": 44,
     "metadata": {},
     "output_type": "execute_result"
    }
   ],
   "source": [
    "df_books.shape"
   ]
  },
  {
   "cell_type": "code",
   "execution_count": 45,
   "id": "472cf547",
   "metadata": {
    "scrolled": true
   },
   "outputs": [
    {
     "data": {
      "text/plain": [
       "array(['2002', '2001', '1991', '1999', '2000', '1993', '1996', '1988',\n",
       "       '2004', '1998', '1994', '2003', '1997', '1983', '1979', '1995',\n",
       "       '1982', '1985', '1992', '1986', '1978', '1980', '1952', '1987',\n",
       "       '1990', '1981', '1989', '1984', '0', '1968', '1961', '1958',\n",
       "       '1974', '1976', '1971', '1977', '1975', '1965', '1941', '1970',\n",
       "       '1962', '1973', '1972', '1960', '1966', '1920', '1956', '1959',\n",
       "       '1953', '1951', '1942', '1963', '1964', '1969', '1954', '1950',\n",
       "       '1967', '2005', '1957', '1940', '1937', '1955', '1946', '1936',\n",
       "       '1930', '2011', '1925', '1948', '1943', '1947', '1945', '1923',\n",
       "       '2020', '1939', '1926', '1938', '2030', '1911', '1904', '1949',\n",
       "       '1932', '1928', '1929', '1927', '1931', '1914', '2050', '1934',\n",
       "       '1910', '1933', '1902', '1924', '1921', '1900', '2038', '2026',\n",
       "       '1944', '1917', '1901', '2010', '1908', '1906', '1935', '1806',\n",
       "       '2021', '2012', '2006', '1909', '2008', '1378', '1919', '1922',\n",
       "       '1897', '2024', '1376', '2037', 2000, 1982, 1983, 1989, 1993, 1991,\n",
       "       1990, 1998, 1994, 1995, 1986, 1987, 1974, 1984, 0, 1977, 1996,\n",
       "       1997, 1980, 1988, 2002, 2001, 1981, 1999, 1992, 2003, 2004, 1972,\n",
       "       1976, 1985, 1978, 1979, 1970, 1962, 1975, 1901, 1973, 1955, 1971,\n",
       "       1964, 1963, 1958, 1968, 1969, 1966, 1946, 1943, 1967, 1949, 1965,\n",
       "       1961, 1960, 1930, 1951, 1957, 1959, 1952, 1953, 1956, 1950, 1954,\n",
       "       1920, 2005, 1940, 1929], dtype=object)"
      ]
     },
     "execution_count": 45,
     "metadata": {},
     "output_type": "execute_result"
    }
   ],
   "source": [
    "df_books[\"year_of_publication\"].unique()"
   ]
  },
  {
   "cell_type": "markdown",
   "id": "1b2d9f44",
   "metadata": {},
   "source": [
    "### Converting \"year_of_publication\" dtype to int"
   ]
  },
  {
   "cell_type": "code",
   "execution_count": 46,
   "id": "462ff0ad",
   "metadata": {},
   "outputs": [],
   "source": [
    "df_books[\"year_of_publication\"]=df_books[\"year_of_publication\"].astype(int)"
   ]
  },
  {
   "cell_type": "code",
   "execution_count": 47,
   "id": "004bdc46",
   "metadata": {},
   "outputs": [
    {
     "data": {
      "text/plain": [
       "array([2002, 2001, 1991, 1999, 2000, 1993, 1996, 1988, 2004, 1998, 1994,\n",
       "       2003, 1997, 1983, 1979, 1995, 1982, 1985, 1992, 1986, 1978, 1980,\n",
       "       1952, 1987, 1990, 1981, 1989, 1984,    0, 1968, 1961, 1958, 1974,\n",
       "       1976, 1971, 1977, 1975, 1965, 1941, 1970, 1962, 1973, 1972, 1960,\n",
       "       1966, 1920, 1956, 1959, 1953, 1951, 1942, 1963, 1964, 1969, 1954,\n",
       "       1950, 1967, 2005, 1957, 1940, 1937, 1955, 1946, 1936, 1930, 2011,\n",
       "       1925, 1948, 1943, 1947, 1945, 1923, 2020, 1939, 1926, 1938, 2030,\n",
       "       1911, 1904, 1949, 1932, 1928, 1929, 1927, 1931, 1914, 2050, 1934,\n",
       "       1910, 1933, 1902, 1924, 1921, 1900, 2038, 2026, 1944, 1917, 1901,\n",
       "       2010, 1908, 1906, 1935, 1806, 2021, 2012, 2006, 1909, 2008, 1378,\n",
       "       1919, 1922, 1897, 2024, 1376, 2037])"
      ]
     },
     "execution_count": 47,
     "metadata": {},
     "output_type": "execute_result"
    }
   ],
   "source": [
    "df_books[\"year_of_publication\"].unique()"
   ]
  },
  {
   "cell_type": "code",
   "execution_count": 48,
   "id": "36881591",
   "metadata": {},
   "outputs": [
    {
     "name": "stdout",
     "output_type": "stream",
     "text": [
      "[0, 1376, 1378, 1806, 1897, 1900, 1901, 1902, 1904, 1906, 1908, 1909, 1910, 1911, 1914, 1917, 1919, 1920, 1921, 1922, 1923, 1924, 1925, 1926, 1927, 1928, 1929, 1930, 1931, 1932, 1933, 1934, 1935, 1936, 1937, 1938, 1939, 1940, 1941, 1942, 1943, 1944, 1945, 1946, 1947, 1948, 1949, 1950, 1951, 1952, 1953, 1954, 1955, 1956, 1957, 1958, 1959, 1960, 1961, 1962, 1963, 1964, 1965, 1966, 1967, 1968, 1969, 1970, 1971, 1972, 1973, 1974, 1975, 1976, 1977, 1978, 1979, 1980, 1981, 1982, 1983, 1984, 1985, 1986, 1987, 1988, 1989, 1990, 1991, 1992, 1993, 1994, 1995, 1996, 1997, 1998, 1999, 2000, 2001, 2002, 2003, 2004, 2005, 2006, 2008, 2010, 2011, 2012, 2020, 2021, 2024, 2026, 2030, 2037, 2038, 2050]\n"
     ]
    }
   ],
   "source": [
    "print(sorted(list(df_books[\"year_of_publication\"].unique())))"
   ]
  },
  {
   "cell_type": "markdown",
   "id": "ba8bfb4b",
   "metadata": {},
   "source": [
    "### The publication date can't be 0 and it can't be future as well , I am doing this in 2023 so I take 2023 as an ending year. I will use mode to replace all 0 and future publication's date."
   ]
  },
  {
   "cell_type": "code",
   "execution_count": 49,
   "id": "a08699a3",
   "metadata": {},
   "outputs": [
    {
     "data": {
      "text/plain": [
       "0    2002\n",
       "Name: year_of_publication, dtype: int32"
      ]
     },
     "execution_count": 49,
     "metadata": {},
     "output_type": "execute_result"
    }
   ],
   "source": [
    "df_books[\"year_of_publication\"].mode()"
   ]
  },
  {
   "cell_type": "code",
   "execution_count": 50,
   "id": "b7b69991",
   "metadata": {},
   "outputs": [],
   "source": [
    "df_books.loc[df_books[\"year_of_publication\"]>2023, \"year_of_publication\"]=2002"
   ]
  },
  {
   "cell_type": "code",
   "execution_count": 51,
   "id": "d527d796",
   "metadata": {},
   "outputs": [],
   "source": [
    "df_books.loc[df_books[\"year_of_publication\"]==0, \"year_of_publication\"]=2002"
   ]
  },
  {
   "cell_type": "code",
   "execution_count": 52,
   "id": "f898a02b",
   "metadata": {},
   "outputs": [
    {
     "name": "stdout",
     "output_type": "stream",
     "text": [
      "[1376, 1378, 1806, 1897, 1900, 1901, 1902, 1904, 1906, 1908, 1909, 1910, 1911, 1914, 1917, 1919, 1920, 1921, 1922, 1923, 1924, 1925, 1926, 1927, 1928, 1929, 1930, 1931, 1932, 1933, 1934, 1935, 1936, 1937, 1938, 1939, 1940, 1941, 1942, 1943, 1944, 1945, 1946, 1947, 1948, 1949, 1950, 1951, 1952, 1953, 1954, 1955, 1956, 1957, 1958, 1959, 1960, 1961, 1962, 1963, 1964, 1965, 1966, 1967, 1968, 1969, 1970, 1971, 1972, 1973, 1974, 1975, 1976, 1977, 1978, 1979, 1980, 1981, 1982, 1983, 1984, 1985, 1986, 1987, 1988, 1989, 1990, 1991, 1992, 1993, 1994, 1995, 1996, 1997, 1998, 1999, 2000, 2001, 2002, 2003, 2004, 2005, 2006, 2008, 2010, 2011, 2012, 2020, 2021]\n"
     ]
    }
   ],
   "source": [
    "print(sorted(list(df_books[\"year_of_publication\"].unique())))"
   ]
  },
  {
   "cell_type": "code",
   "execution_count": 53,
   "id": "3e9fa73e",
   "metadata": {},
   "outputs": [
    {
     "data": {
      "text/plain": [
       "isbn                   0\n",
       "book_title             0\n",
       "book_author            0\n",
       "year_of_publication    0\n",
       "publisher              0\n",
       "dtype: int64"
      ]
     },
     "execution_count": 53,
     "metadata": {},
     "output_type": "execute_result"
    }
   ],
   "source": [
    "df_books.isna().sum()"
   ]
  },
  {
   "cell_type": "code",
   "execution_count": 54,
   "id": "657ab024",
   "metadata": {},
   "outputs": [],
   "source": [
    "duplicates= df_books.duplicated()"
   ]
  },
  {
   "cell_type": "code",
   "execution_count": 55,
   "id": "5f9effb2",
   "metadata": {},
   "outputs": [
    {
     "data": {
      "text/plain": [
       "0"
      ]
     },
     "execution_count": 55,
     "metadata": {},
     "output_type": "execute_result"
    }
   ],
   "source": [
    "num_of_dublicates = duplicates.sum()\n",
    "num_of_dublicates"
   ]
  },
  {
   "cell_type": "markdown",
   "id": "7afe8934",
   "metadata": {},
   "source": [
    "### No dublication is a df_books dataset"
   ]
  },
  {
   "cell_type": "code",
   "execution_count": 56,
   "id": "1de550b7",
   "metadata": {},
   "outputs": [
    {
     "data": {
      "text/plain": [
       "user_id     0\n",
       "Location    0\n",
       "Age         0\n",
       "dtype: int64"
      ]
     },
     "execution_count": 56,
     "metadata": {},
     "output_type": "execute_result"
    }
   ],
   "source": [
    "df_user.isna().sum()"
   ]
  },
  {
   "cell_type": "code",
   "execution_count": 57,
   "id": "eff1d798",
   "metadata": {},
   "outputs": [
    {
     "data": {
      "text/plain": [
       "0"
      ]
     },
     "execution_count": 57,
     "metadata": {},
     "output_type": "execute_result"
    }
   ],
   "source": [
    "duplicates_user= df_user.duplicated()\n",
    "num_of_dup_user = duplicates_user.sum()\n",
    "num_of_dup_user"
   ]
  },
  {
   "cell_type": "code",
   "execution_count": 58,
   "id": "ba60383f",
   "metadata": {},
   "outputs": [
    {
     "data": {
      "text/plain": [
       "user_id    0\n",
       "isbn       0\n",
       "rating     0\n",
       "dtype: int64"
      ]
     },
     "execution_count": 58,
     "metadata": {},
     "output_type": "execute_result"
    }
   ],
   "source": [
    "df_ratings.isna().sum()"
   ]
  },
  {
   "cell_type": "code",
   "execution_count": 59,
   "id": "8757f870",
   "metadata": {},
   "outputs": [
    {
     "data": {
      "text/plain": [
       "146"
      ]
     },
     "execution_count": 59,
     "metadata": {},
     "output_type": "execute_result"
    }
   ],
   "source": [
    "duplicates_ratings= df_ratings.duplicated()\n",
    "num_of_dup_rat = duplicates_ratings.sum()\n",
    "num_of_dup_rat"
   ]
  },
  {
   "cell_type": "code",
   "execution_count": 60,
   "id": "9988e612",
   "metadata": {
    "scrolled": true
   },
   "outputs": [
    {
     "data": {
      "text/html": [
       "<div>\n",
       "<style scoped>\n",
       "    .dataframe tbody tr th:only-of-type {\n",
       "        vertical-align: middle;\n",
       "    }\n",
       "\n",
       "    .dataframe tbody tr th {\n",
       "        vertical-align: top;\n",
       "    }\n",
       "\n",
       "    .dataframe thead th {\n",
       "        text-align: right;\n",
       "    }\n",
       "</style>\n",
       "<table border=\"1\" class=\"dataframe\">\n",
       "  <thead>\n",
       "    <tr style=\"text-align: right;\">\n",
       "      <th></th>\n",
       "      <th>user_id</th>\n",
       "      <th>isbn</th>\n",
       "      <th>rating</th>\n",
       "    </tr>\n",
       "  </thead>\n",
       "  <tbody>\n",
       "    <tr>\n",
       "      <th>11337</th>\n",
       "      <td>709</td>\n",
       "      <td>9.78E+12</td>\n",
       "      <td>9</td>\n",
       "    </tr>\n",
       "    <tr>\n",
       "      <th>11338</th>\n",
       "      <td>709</td>\n",
       "      <td>9.78E+12</td>\n",
       "      <td>9</td>\n",
       "    </tr>\n",
       "    <tr>\n",
       "      <th>21602</th>\n",
       "      <td>4334</td>\n",
       "      <td>6.31E+11</td>\n",
       "      <td>0</td>\n",
       "    </tr>\n",
       "    <tr>\n",
       "      <th>21604</th>\n",
       "      <td>4334</td>\n",
       "      <td>6.31E+11</td>\n",
       "      <td>0</td>\n",
       "    </tr>\n",
       "    <tr>\n",
       "      <th>28621</th>\n",
       "      <td>6575</td>\n",
       "      <td>6.31E+11</td>\n",
       "      <td>0</td>\n",
       "    </tr>\n",
       "  </tbody>\n",
       "</table>\n",
       "</div>"
      ],
      "text/plain": [
       "       user_id      isbn  rating\n",
       "11337  709      9.78E+12  9     \n",
       "11338  709      9.78E+12  9     \n",
       "21602  4334     6.31E+11  0     \n",
       "21604  4334     6.31E+11  0     \n",
       "28621  6575     6.31E+11  0     "
      ]
     },
     "execution_count": 60,
     "metadata": {},
     "output_type": "execute_result"
    }
   ],
   "source": [
    "duplicated_ratings=df_ratings.duplicated(keep=False)\n",
    "dup_rows=df_ratings[duplicated_ratings]\n",
    "dup_rows.head()"
   ]
  },
  {
   "cell_type": "code",
   "execution_count": 61,
   "id": "d5362d58",
   "metadata": {},
   "outputs": [
    {
     "data": {
      "text/plain": [
       "(1048575, 3)"
      ]
     },
     "execution_count": 61,
     "metadata": {},
     "output_type": "execute_result"
    }
   ],
   "source": [
    "df_ratings.shape"
   ]
  },
  {
   "cell_type": "markdown",
   "id": "58d42ae3",
   "metadata": {},
   "source": [
    "### There are 146 duplicates in a ratings dataset. I will drop all duplicates rows from a rating df"
   ]
  },
  {
   "cell_type": "code",
   "execution_count": 62,
   "id": "1b360a0a",
   "metadata": {},
   "outputs": [],
   "source": [
    "df_ratings=df_ratings.drop_duplicates()"
   ]
  },
  {
   "cell_type": "code",
   "execution_count": 63,
   "id": "bd238301",
   "metadata": {},
   "outputs": [
    {
     "data": {
      "text/plain": [
       "(1048429, 3)"
      ]
     },
     "execution_count": 63,
     "metadata": {},
     "output_type": "execute_result"
    }
   ],
   "source": [
    "df_ratings.shape"
   ]
  },
  {
   "cell_type": "code",
   "execution_count": 64,
   "id": "b0515d99",
   "metadata": {},
   "outputs": [
    {
     "data": {
      "text/html": [
       "<div>\n",
       "<style scoped>\n",
       "    .dataframe tbody tr th:only-of-type {\n",
       "        vertical-align: middle;\n",
       "    }\n",
       "\n",
       "    .dataframe tbody tr th {\n",
       "        vertical-align: top;\n",
       "    }\n",
       "\n",
       "    .dataframe thead th {\n",
       "        text-align: right;\n",
       "    }\n",
       "</style>\n",
       "<table border=\"1\" class=\"dataframe\">\n",
       "  <thead>\n",
       "    <tr style=\"text-align: right;\">\n",
       "      <th></th>\n",
       "      <th>user_id</th>\n",
       "      <th>isbn</th>\n",
       "      <th>rating</th>\n",
       "    </tr>\n",
       "  </thead>\n",
       "  <tbody>\n",
       "    <tr>\n",
       "      <th>0</th>\n",
       "      <td>276725</td>\n",
       "      <td>034545104X</td>\n",
       "      <td>0</td>\n",
       "    </tr>\n",
       "    <tr>\n",
       "      <th>1</th>\n",
       "      <td>276726</td>\n",
       "      <td>155061224</td>\n",
       "      <td>5</td>\n",
       "    </tr>\n",
       "    <tr>\n",
       "      <th>2</th>\n",
       "      <td>276727</td>\n",
       "      <td>446520802</td>\n",
       "      <td>0</td>\n",
       "    </tr>\n",
       "    <tr>\n",
       "      <th>3</th>\n",
       "      <td>276729</td>\n",
       "      <td>052165615X</td>\n",
       "      <td>3</td>\n",
       "    </tr>\n",
       "    <tr>\n",
       "      <th>4</th>\n",
       "      <td>276729</td>\n",
       "      <td>521795028</td>\n",
       "      <td>6</td>\n",
       "    </tr>\n",
       "  </tbody>\n",
       "</table>\n",
       "</div>"
      ],
      "text/plain": [
       "   user_id        isbn  rating\n",
       "0  276725   034545104X  0     \n",
       "1  276726   155061224   5     \n",
       "2  276727   446520802   0     \n",
       "3  276729   052165615X  3     \n",
       "4  276729   521795028   6     "
      ]
     },
     "execution_count": 64,
     "metadata": {},
     "output_type": "execute_result"
    }
   ],
   "source": [
    "df_ratings.head()"
   ]
  },
  {
   "cell_type": "code",
   "execution_count": 65,
   "id": "8fdc6e50",
   "metadata": {},
   "outputs": [
    {
     "data": {
      "text/html": [
       "<div>\n",
       "<style scoped>\n",
       "    .dataframe tbody tr th:only-of-type {\n",
       "        vertical-align: middle;\n",
       "    }\n",
       "\n",
       "    .dataframe tbody tr th {\n",
       "        vertical-align: top;\n",
       "    }\n",
       "\n",
       "    .dataframe thead th {\n",
       "        text-align: right;\n",
       "    }\n",
       "</style>\n",
       "<table border=\"1\" class=\"dataframe\">\n",
       "  <thead>\n",
       "    <tr style=\"text-align: right;\">\n",
       "      <th></th>\n",
       "      <th>user_id</th>\n",
       "      <th>isbn</th>\n",
       "      <th>rating</th>\n",
       "    </tr>\n",
       "  </thead>\n",
       "  <tbody>\n",
       "    <tr>\n",
       "      <th>1048570</th>\n",
       "      <td>250764</td>\n",
       "      <td>451410777</td>\n",
       "      <td>0</td>\n",
       "    </tr>\n",
       "    <tr>\n",
       "      <th>1048571</th>\n",
       "      <td>250764</td>\n",
       "      <td>452264464</td>\n",
       "      <td>8</td>\n",
       "    </tr>\n",
       "    <tr>\n",
       "      <th>1048572</th>\n",
       "      <td>250764</td>\n",
       "      <td>048623715X</td>\n",
       "      <td>0</td>\n",
       "    </tr>\n",
       "    <tr>\n",
       "      <th>1048573</th>\n",
       "      <td>250764</td>\n",
       "      <td>486256588</td>\n",
       "      <td>0</td>\n",
       "    </tr>\n",
       "    <tr>\n",
       "      <th>1048574</th>\n",
       "      <td>250764</td>\n",
       "      <td>515069434</td>\n",
       "      <td>0</td>\n",
       "    </tr>\n",
       "  </tbody>\n",
       "</table>\n",
       "</div>"
      ],
      "text/plain": [
       "         user_id        isbn  rating\n",
       "1048570  250764   451410777   0     \n",
       "1048571  250764   452264464   8     \n",
       "1048572  250764   048623715X  0     \n",
       "1048573  250764   486256588   0     \n",
       "1048574  250764   515069434   0     "
      ]
     },
     "execution_count": 65,
     "metadata": {},
     "output_type": "execute_result"
    }
   ],
   "source": [
    "df_ratings.tail()"
   ]
  },
  {
   "cell_type": "code",
   "execution_count": 66,
   "id": "dbd317b4",
   "metadata": {},
   "outputs": [
    {
     "data": {
      "text/html": [
       "<div>\n",
       "<style scoped>\n",
       "    .dataframe tbody tr th:only-of-type {\n",
       "        vertical-align: middle;\n",
       "    }\n",
       "\n",
       "    .dataframe tbody tr th {\n",
       "        vertical-align: top;\n",
       "    }\n",
       "\n",
       "    .dataframe thead th {\n",
       "        text-align: right;\n",
       "    }\n",
       "</style>\n",
       "<table border=\"1\" class=\"dataframe\">\n",
       "  <thead>\n",
       "    <tr style=\"text-align: right;\">\n",
       "      <th></th>\n",
       "      <th>user_id</th>\n",
       "      <th>Location</th>\n",
       "      <th>Age</th>\n",
       "    </tr>\n",
       "  </thead>\n",
       "  <tbody>\n",
       "    <tr>\n",
       "      <th>0</th>\n",
       "      <td>1</td>\n",
       "      <td>nyc, new york, usa</td>\n",
       "      <td>32.0</td>\n",
       "    </tr>\n",
       "    <tr>\n",
       "      <th>1</th>\n",
       "      <td>2</td>\n",
       "      <td>stockton, california, usa</td>\n",
       "      <td>18.0</td>\n",
       "    </tr>\n",
       "    <tr>\n",
       "      <th>2</th>\n",
       "      <td>3</td>\n",
       "      <td>moscow, yukon territory, russia</td>\n",
       "      <td>32.0</td>\n",
       "    </tr>\n",
       "    <tr>\n",
       "      <th>3</th>\n",
       "      <td>4</td>\n",
       "      <td>porto, v.n.gaia, portugal</td>\n",
       "      <td>17.0</td>\n",
       "    </tr>\n",
       "    <tr>\n",
       "      <th>4</th>\n",
       "      <td>5</td>\n",
       "      <td>farnborough, hants, united kingdom</td>\n",
       "      <td>32.0</td>\n",
       "    </tr>\n",
       "  </tbody>\n",
       "</table>\n",
       "</div>"
      ],
      "text/plain": [
       "  user_id                            Location   Age\n",
       "0  1       nyc, new york, usa                  32.0\n",
       "1  2       stockton, california, usa           18.0\n",
       "2  3       moscow, yukon territory, russia     32.0\n",
       "3  4       porto, v.n.gaia, portugal           17.0\n",
       "4  5       farnborough, hants, united kingdom  32.0"
      ]
     },
     "execution_count": 66,
     "metadata": {},
     "output_type": "execute_result"
    }
   ],
   "source": [
    "df_user.head()"
   ]
  },
  {
   "cell_type": "code",
   "execution_count": 67,
   "id": "b518a3e6",
   "metadata": {
    "scrolled": false
   },
   "outputs": [
    {
     "data": {
      "text/html": [
       "<div>\n",
       "<style scoped>\n",
       "    .dataframe tbody tr th:only-of-type {\n",
       "        vertical-align: middle;\n",
       "    }\n",
       "\n",
       "    .dataframe tbody tr th {\n",
       "        vertical-align: top;\n",
       "    }\n",
       "\n",
       "    .dataframe thead th {\n",
       "        text-align: right;\n",
       "    }\n",
       "</style>\n",
       "<table border=\"1\" class=\"dataframe\">\n",
       "  <thead>\n",
       "    <tr style=\"text-align: right;\">\n",
       "      <th></th>\n",
       "      <th>user_id</th>\n",
       "      <th>Location</th>\n",
       "      <th>Age</th>\n",
       "    </tr>\n",
       "  </thead>\n",
       "  <tbody>\n",
       "    <tr>\n",
       "      <th>278854</th>\n",
       "      <td>278854</td>\n",
       "      <td>portland, oregon, usa</td>\n",
       "      <td>32.0</td>\n",
       "    </tr>\n",
       "    <tr>\n",
       "      <th>278855</th>\n",
       "      <td>278855</td>\n",
       "      <td>tacoma, washington, united kingdom</td>\n",
       "      <td>50.0</td>\n",
       "    </tr>\n",
       "    <tr>\n",
       "      <th>278856</th>\n",
       "      <td>278856</td>\n",
       "      <td>brampton, ontario, canada</td>\n",
       "      <td>32.0</td>\n",
       "    </tr>\n",
       "    <tr>\n",
       "      <th>278857</th>\n",
       "      <td>278857</td>\n",
       "      <td>knoxville, tennessee, usa</td>\n",
       "      <td>32.0</td>\n",
       "    </tr>\n",
       "    <tr>\n",
       "      <th>278858</th>\n",
       "      <td>278858</td>\n",
       "      <td>dublin, n/a, ireland</td>\n",
       "      <td>32.0</td>\n",
       "    </tr>\n",
       "  </tbody>\n",
       "</table>\n",
       "</div>"
      ],
      "text/plain": [
       "       user_id                            Location   Age\n",
       "278854  278854  portland, oregon, usa               32.0\n",
       "278855  278855  tacoma, washington, united kingdom  50.0\n",
       "278856  278856  brampton, ontario, canada           32.0\n",
       "278857  278857  knoxville, tennessee, usa           32.0\n",
       "278858  278858  dublin, n/a, ireland                32.0"
      ]
     },
     "execution_count": 67,
     "metadata": {},
     "output_type": "execute_result"
    }
   ],
   "source": [
    "df_user.tail()"
   ]
  },
  {
   "cell_type": "code",
   "execution_count": 68,
   "id": "45e9dde9",
   "metadata": {
    "scrolled": true
   },
   "outputs": [
    {
     "data": {
      "text/plain": [
       "array(['nyc, new york, usa', 'stockton, california, usa',\n",
       "       'moscow, yukon territory, russia', ...,\n",
       "       'sergnano, lombardia, italy', 'stranraer, n/a, united kingdom',\n",
       "       'tacoma, washington, united kingdom'], dtype=object)"
      ]
     },
     "execution_count": 68,
     "metadata": {},
     "output_type": "execute_result"
    }
   ],
   "source": [
    "df_user.Location.unique()"
   ]
  },
  {
   "cell_type": "code",
   "execution_count": 69,
   "id": "be2c3acd",
   "metadata": {
    "scrolled": true
   },
   "outputs": [
    {
     "data": {
      "text/plain": [
       "57339"
      ]
     },
     "execution_count": 69,
     "metadata": {},
     "output_type": "execute_result"
    }
   ],
   "source": [
    "df_user.Location.nunique()"
   ]
  },
  {
   "cell_type": "markdown",
   "id": "28cd30ce",
   "metadata": {},
   "source": [
    "### 28846 unique value is very tidious to perform any tasks so lets seperate the data and assign a column with country. We can seperate into city and country as well"
   ]
  },
  {
   "cell_type": "code",
   "execution_count": 70,
   "id": "5aaa8640",
   "metadata": {},
   "outputs": [
    {
     "data": {
      "text/html": [
       "<div>\n",
       "<style scoped>\n",
       "    .dataframe tbody tr th:only-of-type {\n",
       "        vertical-align: middle;\n",
       "    }\n",
       "\n",
       "    .dataframe tbody tr th {\n",
       "        vertical-align: top;\n",
       "    }\n",
       "\n",
       "    .dataframe thead th {\n",
       "        text-align: right;\n",
       "    }\n",
       "</style>\n",
       "<table border=\"1\" class=\"dataframe\">\n",
       "  <thead>\n",
       "    <tr style=\"text-align: right;\">\n",
       "      <th></th>\n",
       "      <th>isbn</th>\n",
       "      <th>book_title</th>\n",
       "      <th>book_author</th>\n",
       "      <th>year_of_publication</th>\n",
       "      <th>publisher</th>\n",
       "    </tr>\n",
       "  </thead>\n",
       "  <tbody>\n",
       "    <tr>\n",
       "      <th>0</th>\n",
       "      <td>195153448</td>\n",
       "      <td>Classical Mythology</td>\n",
       "      <td>Mark P. O. Morford</td>\n",
       "      <td>2002</td>\n",
       "      <td>Oxford University Press</td>\n",
       "    </tr>\n",
       "    <tr>\n",
       "      <th>1</th>\n",
       "      <td>2005018</td>\n",
       "      <td>Clara Callan</td>\n",
       "      <td>Richard Bruce Wright</td>\n",
       "      <td>2001</td>\n",
       "      <td>HarperFlamingo Canada</td>\n",
       "    </tr>\n",
       "  </tbody>\n",
       "</table>\n",
       "</div>"
      ],
      "text/plain": [
       "        isbn           book_title           book_author  year_of_publication  \\\n",
       "0  195153448  Classical Mythology  Mark P. O. Morford    2002                  \n",
       "1  2005018    Clara Callan         Richard Bruce Wright  2001                  \n",
       "\n",
       "                 publisher  \n",
       "0  Oxford University Press  \n",
       "1  HarperFlamingo Canada    "
      ]
     },
     "execution_count": 70,
     "metadata": {},
     "output_type": "execute_result"
    }
   ],
   "source": [
    "df_books.head(2)"
   ]
  },
  {
   "cell_type": "code",
   "execution_count": 71,
   "id": "f0f3bdb4",
   "metadata": {
    "scrolled": true
   },
   "outputs": [
    {
     "data": {
      "text/html": [
       "<div>\n",
       "<style scoped>\n",
       "    .dataframe tbody tr th:only-of-type {\n",
       "        vertical-align: middle;\n",
       "    }\n",
       "\n",
       "    .dataframe tbody tr th {\n",
       "        vertical-align: top;\n",
       "    }\n",
       "\n",
       "    .dataframe thead th {\n",
       "        text-align: right;\n",
       "    }\n",
       "</style>\n",
       "<table border=\"1\" class=\"dataframe\">\n",
       "  <thead>\n",
       "    <tr style=\"text-align: right;\">\n",
       "      <th></th>\n",
       "      <th>isbn</th>\n",
       "      <th>book_title</th>\n",
       "      <th>book_author</th>\n",
       "      <th>year_of_publication</th>\n",
       "      <th>publisher</th>\n",
       "    </tr>\n",
       "  </thead>\n",
       "  <tbody>\n",
       "    <tr>\n",
       "      <th>271377</th>\n",
       "      <td>192126040</td>\n",
       "      <td>Republic (World's Classics)</td>\n",
       "      <td>Plato</td>\n",
       "      <td>1996</td>\n",
       "      <td>Oxford University Press</td>\n",
       "    </tr>\n",
       "    <tr>\n",
       "      <th>271378</th>\n",
       "      <td>767409752</td>\n",
       "      <td>A Guided Tour of Rene Descartes' Meditations on First Philosophy with Complete Translations of the Meditations by Ronald Rubin</td>\n",
       "      <td>Christopher  Biffle</td>\n",
       "      <td>2000</td>\n",
       "      <td>McGraw-Hill Humanities/Social Sciences/Languages</td>\n",
       "    </tr>\n",
       "  </tbody>\n",
       "</table>\n",
       "</div>"
      ],
      "text/plain": [
       "             isbn  \\\n",
       "271377  192126040   \n",
       "271378  767409752   \n",
       "\n",
       "                                                                                                                            book_title  \\\n",
       "271377  Republic (World's Classics)                                                                                                      \n",
       "271378  A Guided Tour of Rene Descartes' Meditations on First Philosophy with Complete Translations of the Meditations by Ronald Rubin   \n",
       "\n",
       "                book_author  year_of_publication  \\\n",
       "271377  Plato                1996                  \n",
       "271378  Christopher  Biffle  2000                  \n",
       "\n",
       "                                               publisher  \n",
       "271377  Oxford University Press                           \n",
       "271378  McGraw-Hill Humanities/Social Sciences/Languages  "
      ]
     },
     "execution_count": 71,
     "metadata": {},
     "output_type": "execute_result"
    }
   ],
   "source": [
    "df_books.tail(2)"
   ]
  },
  {
   "cell_type": "markdown",
   "id": "c329d932",
   "metadata": {},
   "source": [
    " - Convert ISBN variables to numeric numbers in the correct order\n",
    "\n",
    " - Convert the user_id variable to numeric numbers in the correct order\n",
    "\n",
    " - Convert both user_id and ISBN to the ordered list, i.e., from 0...n-1"
   ]
  },
  {
   "cell_type": "code",
   "execution_count": 72,
   "id": "763591cc",
   "metadata": {
    "scrolled": true
   },
   "outputs": [
    {
     "data": {
      "text/html": [
       "<div>\n",
       "<style scoped>\n",
       "    .dataframe tbody tr th:only-of-type {\n",
       "        vertical-align: middle;\n",
       "    }\n",
       "\n",
       "    .dataframe tbody tr th {\n",
       "        vertical-align: top;\n",
       "    }\n",
       "\n",
       "    .dataframe thead th {\n",
       "        text-align: right;\n",
       "    }\n",
       "</style>\n",
       "<table border=\"1\" class=\"dataframe\">\n",
       "  <thead>\n",
       "    <tr style=\"text-align: right;\">\n",
       "      <th></th>\n",
       "      <th>user_id</th>\n",
       "      <th>Location</th>\n",
       "      <th>Age</th>\n",
       "    </tr>\n",
       "  </thead>\n",
       "  <tbody>\n",
       "    <tr>\n",
       "      <th>0</th>\n",
       "      <td>1</td>\n",
       "      <td>nyc, new york, usa</td>\n",
       "      <td>32.0</td>\n",
       "    </tr>\n",
       "    <tr>\n",
       "      <th>1</th>\n",
       "      <td>2</td>\n",
       "      <td>stockton, california, usa</td>\n",
       "      <td>18.0</td>\n",
       "    </tr>\n",
       "    <tr>\n",
       "      <th>2</th>\n",
       "      <td>3</td>\n",
       "      <td>moscow, yukon territory, russia</td>\n",
       "      <td>32.0</td>\n",
       "    </tr>\n",
       "    <tr>\n",
       "      <th>3</th>\n",
       "      <td>4</td>\n",
       "      <td>porto, v.n.gaia, portugal</td>\n",
       "      <td>17.0</td>\n",
       "    </tr>\n",
       "    <tr>\n",
       "      <th>4</th>\n",
       "      <td>5</td>\n",
       "      <td>farnborough, hants, united kingdom</td>\n",
       "      <td>32.0</td>\n",
       "    </tr>\n",
       "  </tbody>\n",
       "</table>\n",
       "</div>"
      ],
      "text/plain": [
       "  user_id                            Location   Age\n",
       "0  1       nyc, new york, usa                  32.0\n",
       "1  2       stockton, california, usa           18.0\n",
       "2  3       moscow, yukon territory, russia     32.0\n",
       "3  4       porto, v.n.gaia, portugal           17.0\n",
       "4  5       farnborough, hants, united kingdom  32.0"
      ]
     },
     "execution_count": 72,
     "metadata": {},
     "output_type": "execute_result"
    }
   ],
   "source": [
    "df_user.head()"
   ]
  },
  {
   "cell_type": "code",
   "execution_count": 73,
   "id": "41474f46",
   "metadata": {},
   "outputs": [],
   "source": [
    "for i in df_user:\n",
    "    df_user[\"Country\"]= df_user.Location.str.extract(r'\\,+\\s?(\\w*\\s?\\w*)\\\"*$')"
   ]
  },
  {
   "cell_type": "code",
   "execution_count": 74,
   "id": "5e72bf1b",
   "metadata": {},
   "outputs": [
    {
     "data": {
      "text/plain": [
       "529"
      ]
     },
     "execution_count": 74,
     "metadata": {},
     "output_type": "execute_result"
    }
   ],
   "source": [
    "df_user.Country.nunique()"
   ]
  },
  {
   "cell_type": "code",
   "execution_count": 75,
   "id": "c2d6ce1c",
   "metadata": {
    "scrolled": true
   },
   "outputs": [
    {
     "data": {
      "text/plain": [
       "array(['usa', 'russia', 'portugal', 'united kingdom', 'canada', 'spain',\n",
       "       'australia', 'brazil', '', 'germany', 'mexico', 'china', 'italy',\n",
       "       'distrito federal', 'france', 'netherlands', 'iraq', 'finland',\n",
       "       'new zealand', 'india', 'ghana', 'switzerland', 'slovenia', 'iran',\n",
       "       'peru', nan, 'vietnam', 'sri lanka', 'pakistan', 'denmark',\n",
       "       'belgium', 'malaysia', 'turkey', 'philippines', 'greece',\n",
       "       'colombia', 'norway', 'kuwait', 'chile', 'quit', 'lj', 'taiwan',\n",
       "       'españa', 'sweden', 'argentina', 'nigeria', 'london', 'bulgaria',\n",
       "       'austria', 'romania'], dtype=object)"
      ]
     },
     "execution_count": 75,
     "metadata": {},
     "output_type": "execute_result"
    }
   ],
   "source": [
    "df_user.Country.unique()[:50]"
   ]
  },
  {
   "cell_type": "code",
   "execution_count": 76,
   "id": "27908a66",
   "metadata": {},
   "outputs": [],
   "source": [
    "df_user[\"Country\"] = df_user[\"Country\"].astype(\"str\")"
   ]
  },
  {
   "cell_type": "markdown",
   "id": "d0616155",
   "metadata": {},
   "source": [
    "### Further Analysis of changing spelling, upper case and etc can be performed to make a Data more accurate and pleasant"
   ]
  },
  {
   "cell_type": "code",
   "execution_count": 77,
   "id": "782cb72a",
   "metadata": {},
   "outputs": [
    {
     "data": {
      "text/html": [
       "<div>\n",
       "<style scoped>\n",
       "    .dataframe tbody tr th:only-of-type {\n",
       "        vertical-align: middle;\n",
       "    }\n",
       "\n",
       "    .dataframe tbody tr th {\n",
       "        vertical-align: top;\n",
       "    }\n",
       "\n",
       "    .dataframe thead th {\n",
       "        text-align: right;\n",
       "    }\n",
       "</style>\n",
       "<table border=\"1\" class=\"dataframe\">\n",
       "  <thead>\n",
       "    <tr style=\"text-align: right;\">\n",
       "      <th></th>\n",
       "      <th>user_id</th>\n",
       "      <th>Location</th>\n",
       "      <th>Age</th>\n",
       "      <th>Country</th>\n",
       "    </tr>\n",
       "  </thead>\n",
       "  <tbody>\n",
       "    <tr>\n",
       "      <th>0</th>\n",
       "      <td>1</td>\n",
       "      <td>nyc, new york, usa</td>\n",
       "      <td>32.0</td>\n",
       "      <td>usa</td>\n",
       "    </tr>\n",
       "    <tr>\n",
       "      <th>1</th>\n",
       "      <td>2</td>\n",
       "      <td>stockton, california, usa</td>\n",
       "      <td>18.0</td>\n",
       "      <td>usa</td>\n",
       "    </tr>\n",
       "    <tr>\n",
       "      <th>2</th>\n",
       "      <td>3</td>\n",
       "      <td>moscow, yukon territory, russia</td>\n",
       "      <td>32.0</td>\n",
       "      <td>russia</td>\n",
       "    </tr>\n",
       "    <tr>\n",
       "      <th>3</th>\n",
       "      <td>4</td>\n",
       "      <td>porto, v.n.gaia, portugal</td>\n",
       "      <td>17.0</td>\n",
       "      <td>portugal</td>\n",
       "    </tr>\n",
       "    <tr>\n",
       "      <th>4</th>\n",
       "      <td>5</td>\n",
       "      <td>farnborough, hants, united kingdom</td>\n",
       "      <td>32.0</td>\n",
       "      <td>united kingdom</td>\n",
       "    </tr>\n",
       "  </tbody>\n",
       "</table>\n",
       "</div>"
      ],
      "text/plain": [
       "  user_id                            Location   Age         Country\n",
       "0  1       nyc, new york, usa                  32.0  usa           \n",
       "1  2       stockton, california, usa           18.0  usa           \n",
       "2  3       moscow, yukon territory, russia     32.0  russia        \n",
       "3  4       porto, v.n.gaia, portugal           17.0  portugal      \n",
       "4  5       farnborough, hants, united kingdom  32.0  united kingdom"
      ]
     },
     "execution_count": 77,
     "metadata": {},
     "output_type": "execute_result"
    }
   ],
   "source": [
    "df_user.head()"
   ]
  },
  {
   "cell_type": "markdown",
   "id": "4cf713c3",
   "metadata": {},
   "source": [
    "### Dropping Location column"
   ]
  },
  {
   "cell_type": "code",
   "execution_count": 78,
   "id": "79f75244",
   "metadata": {},
   "outputs": [],
   "source": [
    "df_user.drop(\"Location\", axis=1, inplace=True)"
   ]
  },
  {
   "cell_type": "code",
   "execution_count": 79,
   "id": "15965216",
   "metadata": {
    "scrolled": true
   },
   "outputs": [
    {
     "data": {
      "text/html": [
       "<div>\n",
       "<style scoped>\n",
       "    .dataframe tbody tr th:only-of-type {\n",
       "        vertical-align: middle;\n",
       "    }\n",
       "\n",
       "    .dataframe tbody tr th {\n",
       "        vertical-align: top;\n",
       "    }\n",
       "\n",
       "    .dataframe thead th {\n",
       "        text-align: right;\n",
       "    }\n",
       "</style>\n",
       "<table border=\"1\" class=\"dataframe\">\n",
       "  <thead>\n",
       "    <tr style=\"text-align: right;\">\n",
       "      <th></th>\n",
       "      <th>user_id</th>\n",
       "      <th>Age</th>\n",
       "      <th>Country</th>\n",
       "    </tr>\n",
       "  </thead>\n",
       "  <tbody>\n",
       "    <tr>\n",
       "      <th>0</th>\n",
       "      <td>1</td>\n",
       "      <td>32.0</td>\n",
       "      <td>usa</td>\n",
       "    </tr>\n",
       "    <tr>\n",
       "      <th>1</th>\n",
       "      <td>2</td>\n",
       "      <td>18.0</td>\n",
       "      <td>usa</td>\n",
       "    </tr>\n",
       "    <tr>\n",
       "      <th>2</th>\n",
       "      <td>3</td>\n",
       "      <td>32.0</td>\n",
       "      <td>russia</td>\n",
       "    </tr>\n",
       "    <tr>\n",
       "      <th>3</th>\n",
       "      <td>4</td>\n",
       "      <td>17.0</td>\n",
       "      <td>portugal</td>\n",
       "    </tr>\n",
       "    <tr>\n",
       "      <th>4</th>\n",
       "      <td>5</td>\n",
       "      <td>32.0</td>\n",
       "      <td>united kingdom</td>\n",
       "    </tr>\n",
       "  </tbody>\n",
       "</table>\n",
       "</div>"
      ],
      "text/plain": [
       "  user_id   Age         Country\n",
       "0  1       32.0  usa           \n",
       "1  2       18.0  usa           \n",
       "2  3       32.0  russia        \n",
       "3  4       17.0  portugal      \n",
       "4  5       32.0  united kingdom"
      ]
     },
     "execution_count": 79,
     "metadata": {},
     "output_type": "execute_result"
    }
   ],
   "source": [
    "df_user.head()"
   ]
  },
  {
   "cell_type": "code",
   "execution_count": 80,
   "id": "4269fa2e",
   "metadata": {},
   "outputs": [],
   "source": [
    "from pandas.api.types import is_numeric_dtype"
   ]
  },
  {
   "cell_type": "code",
   "execution_count": 81,
   "id": "d56f1f76",
   "metadata": {},
   "outputs": [
    {
     "name": "stdout",
     "output_type": "stream",
     "text": [
      "False\n"
     ]
    }
   ],
   "source": [
    "print(is_numeric_dtype(df_user[\"user_id\"]))"
   ]
  },
  {
   "cell_type": "code",
   "execution_count": 82,
   "id": "0b8861b6",
   "metadata": {},
   "outputs": [
    {
     "name": "stdout",
     "output_type": "stream",
     "text": [
      "True\n"
     ]
    }
   ],
   "source": [
    "print(is_numeric_dtype(df_ratings[\"rating\"]))"
   ]
  },
  {
   "cell_type": "code",
   "execution_count": 83,
   "id": "48f8a93d",
   "metadata": {
    "scrolled": true
   },
   "outputs": [
    {
     "name": "stdout",
     "output_type": "stream",
     "text": [
      "False\n"
     ]
    }
   ],
   "source": [
    "print(is_numeric_dtype(df_books[\"isbn\"]))"
   ]
  },
  {
   "cell_type": "markdown",
   "id": "5eff1dc3",
   "metadata": {},
   "source": [
    "### Merge all database before performing any task"
   ]
  },
  {
   "cell_type": "code",
   "execution_count": 84,
   "id": "0ee7b43f",
   "metadata": {
    "scrolled": false
   },
   "outputs": [
    {
     "data": {
      "text/html": [
       "<div>\n",
       "<style scoped>\n",
       "    .dataframe tbody tr th:only-of-type {\n",
       "        vertical-align: middle;\n",
       "    }\n",
       "\n",
       "    .dataframe tbody tr th {\n",
       "        vertical-align: top;\n",
       "    }\n",
       "\n",
       "    .dataframe thead th {\n",
       "        text-align: right;\n",
       "    }\n",
       "</style>\n",
       "<table border=\"1\" class=\"dataframe\">\n",
       "  <thead>\n",
       "    <tr style=\"text-align: right;\">\n",
       "      <th></th>\n",
       "      <th>user_id</th>\n",
       "      <th>Age</th>\n",
       "      <th>Country</th>\n",
       "    </tr>\n",
       "  </thead>\n",
       "  <tbody>\n",
       "    <tr>\n",
       "      <th>0</th>\n",
       "      <td>1</td>\n",
       "      <td>32.0</td>\n",
       "      <td>usa</td>\n",
       "    </tr>\n",
       "    <tr>\n",
       "      <th>1</th>\n",
       "      <td>2</td>\n",
       "      <td>18.0</td>\n",
       "      <td>usa</td>\n",
       "    </tr>\n",
       "  </tbody>\n",
       "</table>\n",
       "</div>"
      ],
      "text/plain": [
       "  user_id   Age Country\n",
       "0  1       32.0  usa   \n",
       "1  2       18.0  usa   "
      ]
     },
     "execution_count": 84,
     "metadata": {},
     "output_type": "execute_result"
    }
   ],
   "source": [
    "df_user.head(2)"
   ]
  },
  {
   "cell_type": "code",
   "execution_count": 85,
   "id": "02d14217",
   "metadata": {
    "scrolled": true
   },
   "outputs": [
    {
     "data": {
      "text/html": [
       "<div>\n",
       "<style scoped>\n",
       "    .dataframe tbody tr th:only-of-type {\n",
       "        vertical-align: middle;\n",
       "    }\n",
       "\n",
       "    .dataframe tbody tr th {\n",
       "        vertical-align: top;\n",
       "    }\n",
       "\n",
       "    .dataframe thead th {\n",
       "        text-align: right;\n",
       "    }\n",
       "</style>\n",
       "<table border=\"1\" class=\"dataframe\">\n",
       "  <thead>\n",
       "    <tr style=\"text-align: right;\">\n",
       "      <th></th>\n",
       "      <th>user_id</th>\n",
       "      <th>isbn</th>\n",
       "      <th>rating</th>\n",
       "    </tr>\n",
       "  </thead>\n",
       "  <tbody>\n",
       "    <tr>\n",
       "      <th>0</th>\n",
       "      <td>276725</td>\n",
       "      <td>034545104X</td>\n",
       "      <td>0</td>\n",
       "    </tr>\n",
       "    <tr>\n",
       "      <th>1</th>\n",
       "      <td>276726</td>\n",
       "      <td>155061224</td>\n",
       "      <td>5</td>\n",
       "    </tr>\n",
       "  </tbody>\n",
       "</table>\n",
       "</div>"
      ],
      "text/plain": [
       "   user_id        isbn  rating\n",
       "0  276725   034545104X  0     \n",
       "1  276726   155061224   5     "
      ]
     },
     "execution_count": 85,
     "metadata": {},
     "output_type": "execute_result"
    }
   ],
   "source": [
    "df_ratings.head(2)"
   ]
  },
  {
   "cell_type": "code",
   "execution_count": 86,
   "id": "36d10621",
   "metadata": {
    "scrolled": true
   },
   "outputs": [
    {
     "data": {
      "text/html": [
       "<div>\n",
       "<style scoped>\n",
       "    .dataframe tbody tr th:only-of-type {\n",
       "        vertical-align: middle;\n",
       "    }\n",
       "\n",
       "    .dataframe tbody tr th {\n",
       "        vertical-align: top;\n",
       "    }\n",
       "\n",
       "    .dataframe thead th {\n",
       "        text-align: right;\n",
       "    }\n",
       "</style>\n",
       "<table border=\"1\" class=\"dataframe\">\n",
       "  <thead>\n",
       "    <tr style=\"text-align: right;\">\n",
       "      <th></th>\n",
       "      <th>isbn</th>\n",
       "      <th>book_title</th>\n",
       "      <th>book_author</th>\n",
       "      <th>year_of_publication</th>\n",
       "      <th>publisher</th>\n",
       "    </tr>\n",
       "  </thead>\n",
       "  <tbody>\n",
       "    <tr>\n",
       "      <th>0</th>\n",
       "      <td>195153448</td>\n",
       "      <td>Classical Mythology</td>\n",
       "      <td>Mark P. O. Morford</td>\n",
       "      <td>2002</td>\n",
       "      <td>Oxford University Press</td>\n",
       "    </tr>\n",
       "    <tr>\n",
       "      <th>1</th>\n",
       "      <td>2005018</td>\n",
       "      <td>Clara Callan</td>\n",
       "      <td>Richard Bruce Wright</td>\n",
       "      <td>2001</td>\n",
       "      <td>HarperFlamingo Canada</td>\n",
       "    </tr>\n",
       "  </tbody>\n",
       "</table>\n",
       "</div>"
      ],
      "text/plain": [
       "        isbn           book_title           book_author  year_of_publication  \\\n",
       "0  195153448  Classical Mythology  Mark P. O. Morford    2002                  \n",
       "1  2005018    Clara Callan         Richard Bruce Wright  2001                  \n",
       "\n",
       "                 publisher  \n",
       "0  Oxford University Press  \n",
       "1  HarperFlamingo Canada    "
      ]
     },
     "execution_count": 86,
     "metadata": {},
     "output_type": "execute_result"
    }
   ],
   "source": [
    "df_books.head(2)"
   ]
  },
  {
   "cell_type": "code",
   "execution_count": 87,
   "id": "b0fbaa99",
   "metadata": {},
   "outputs": [],
   "source": [
    "df=pd.merge(df_user,df_ratings, on=\"user_id\", how=\"inner\")"
   ]
  },
  {
   "cell_type": "code",
   "execution_count": 88,
   "id": "c4c7b4c8",
   "metadata": {},
   "outputs": [],
   "source": [
    "df=pd.merge(df,df_books, on=\"isbn\", how=\"inner\")"
   ]
  },
  {
   "cell_type": "code",
   "execution_count": 89,
   "id": "7e563f40",
   "metadata": {},
   "outputs": [
    {
     "data": {
      "text/plain": [
       "(932668, 9)"
      ]
     },
     "execution_count": 89,
     "metadata": {},
     "output_type": "execute_result"
    }
   ],
   "source": [
    "df.shape"
   ]
  },
  {
   "cell_type": "code",
   "execution_count": 90,
   "id": "65b593d0",
   "metadata": {
    "scrolled": true
   },
   "outputs": [
    {
     "name": "stdout",
     "output_type": "stream",
     "text": [
      "<class 'pandas.core.frame.DataFrame'>\n",
      "Int64Index: 932668 entries, 0 to 932667\n",
      "Data columns (total 9 columns):\n",
      " #   Column               Non-Null Count   Dtype  \n",
      "---  ------               --------------   -----  \n",
      " 0   user_id              932668 non-null  object \n",
      " 1   Age                  932668 non-null  float64\n",
      " 2   Country              932668 non-null  object \n",
      " 3   isbn                 932668 non-null  object \n",
      " 4   rating               932668 non-null  int64  \n",
      " 5   book_title           932668 non-null  object \n",
      " 6   book_author          932668 non-null  object \n",
      " 7   year_of_publication  932668 non-null  int32  \n",
      " 8   publisher            932668 non-null  object \n",
      "dtypes: float64(1), int32(1), int64(1), object(6)\n",
      "memory usage: 67.6+ MB\n"
     ]
    }
   ],
   "source": [
    "df.info()"
   ]
  },
  {
   "cell_type": "markdown",
   "id": "4590da87",
   "metadata": {},
   "source": [
    "### Converting user_ID and ISBN into numeric numbers in the correct order"
   ]
  },
  {
   "cell_type": "code",
   "execution_count": 91,
   "id": "900aa84e",
   "metadata": {},
   "outputs": [
    {
     "data": {
      "text/plain": [
       "user_id                0\n",
       "Age                    0\n",
       "Country                0\n",
       "isbn                   0\n",
       "rating                 0\n",
       "book_title             0\n",
       "book_author            0\n",
       "year_of_publication    0\n",
       "publisher              0\n",
       "dtype: int64"
      ]
     },
     "execution_count": 91,
     "metadata": {},
     "output_type": "execute_result"
    }
   ],
   "source": [
    "df.isnull().sum()"
   ]
  },
  {
   "cell_type": "code",
   "execution_count": 96,
   "id": "90cf033c",
   "metadata": {},
   "outputs": [
    {
     "data": {
      "text/html": [
       "<div>\n",
       "<style scoped>\n",
       "    .dataframe tbody tr th:only-of-type {\n",
       "        vertical-align: middle;\n",
       "    }\n",
       "\n",
       "    .dataframe tbody tr th {\n",
       "        vertical-align: top;\n",
       "    }\n",
       "\n",
       "    .dataframe thead th {\n",
       "        text-align: right;\n",
       "    }\n",
       "</style>\n",
       "<table border=\"1\" class=\"dataframe\">\n",
       "  <thead>\n",
       "    <tr style=\"text-align: right;\">\n",
       "      <th></th>\n",
       "      <th>user_id</th>\n",
       "      <th>Age</th>\n",
       "      <th>Country</th>\n",
       "      <th>isbn</th>\n",
       "      <th>rating</th>\n",
       "      <th>book_title</th>\n",
       "      <th>book_author</th>\n",
       "      <th>year_of_publication</th>\n",
       "      <th>publisher</th>\n",
       "    </tr>\n",
       "  </thead>\n",
       "  <tbody>\n",
       "    <tr>\n",
       "      <th>0</th>\n",
       "      <td>2</td>\n",
       "      <td>18.0</td>\n",
       "      <td>usa</td>\n",
       "      <td>195153448</td>\n",
       "      <td>0</td>\n",
       "      <td>Classical Mythology</td>\n",
       "      <td>Mark P. O. Morford</td>\n",
       "      <td>2002</td>\n",
       "      <td>Oxford University Press</td>\n",
       "    </tr>\n",
       "    <tr>\n",
       "      <th>1</th>\n",
       "      <td>8</td>\n",
       "      <td>32.0</td>\n",
       "      <td>canada</td>\n",
       "      <td>2005018</td>\n",
       "      <td>5</td>\n",
       "      <td>Clara Callan</td>\n",
       "      <td>Richard Bruce Wright</td>\n",
       "      <td>2001</td>\n",
       "      <td>HarperFlamingo Canada</td>\n",
       "    </tr>\n",
       "    <tr>\n",
       "      <th>2</th>\n",
       "      <td>11400</td>\n",
       "      <td>49.0</td>\n",
       "      <td>canada</td>\n",
       "      <td>2005018</td>\n",
       "      <td>0</td>\n",
       "      <td>Clara Callan</td>\n",
       "      <td>Richard Bruce Wright</td>\n",
       "      <td>2001</td>\n",
       "      <td>HarperFlamingo Canada</td>\n",
       "    </tr>\n",
       "    <tr>\n",
       "      <th>3</th>\n",
       "      <td>11676</td>\n",
       "      <td>32.0</td>\n",
       "      <td>nan</td>\n",
       "      <td>2005018</td>\n",
       "      <td>8</td>\n",
       "      <td>Clara Callan</td>\n",
       "      <td>Richard Bruce Wright</td>\n",
       "      <td>2001</td>\n",
       "      <td>HarperFlamingo Canada</td>\n",
       "    </tr>\n",
       "    <tr>\n",
       "      <th>4</th>\n",
       "      <td>41385</td>\n",
       "      <td>32.0</td>\n",
       "      <td>canada</td>\n",
       "      <td>2005018</td>\n",
       "      <td>0</td>\n",
       "      <td>Clara Callan</td>\n",
       "      <td>Richard Bruce Wright</td>\n",
       "      <td>2001</td>\n",
       "      <td>HarperFlamingo Canada</td>\n",
       "    </tr>\n",
       "  </tbody>\n",
       "</table>\n",
       "</div>"
      ],
      "text/plain": [
       "  user_id   Age Country       isbn  rating           book_title  \\\n",
       "0  2       18.0  usa     195153448  0       Classical Mythology   \n",
       "1  8       32.0  canada  2005018    5       Clara Callan          \n",
       "2  11400   49.0  canada  2005018    0       Clara Callan          \n",
       "3  11676   32.0  nan     2005018    8       Clara Callan          \n",
       "4  41385   32.0  canada  2005018    0       Clara Callan          \n",
       "\n",
       "            book_author  year_of_publication                publisher  \n",
       "0  Mark P. O. Morford    2002                 Oxford University Press  \n",
       "1  Richard Bruce Wright  2001                 HarperFlamingo Canada    \n",
       "2  Richard Bruce Wright  2001                 HarperFlamingo Canada    \n",
       "3  Richard Bruce Wright  2001                 HarperFlamingo Canada    \n",
       "4  Richard Bruce Wright  2001                 HarperFlamingo Canada    "
      ]
     },
     "execution_count": 96,
     "metadata": {},
     "output_type": "execute_result"
    }
   ],
   "source": [
    "df.head(5)"
   ]
  },
  {
   "cell_type": "code",
   "execution_count": 97,
   "id": "02391ed0",
   "metadata": {},
   "outputs": [],
   "source": [
    "#userid_list=df.user_id.unique()"
   ]
  },
  {
   "cell_type": "code",
   "execution_count": 98,
   "id": "636b0b5d",
   "metadata": {},
   "outputs": [
    {
     "data": {
      "text/plain": [
       "'def get_userid(user_id):\\n    itemindex=np.where(userid_list==user_id)\\n    return itemindex[0][0]'"
      ]
     },
     "execution_count": 98,
     "metadata": {},
     "output_type": "execute_result"
    }
   ],
   "source": [
    "\"\"\"def get_userid(user_id):\n",
    "    itemindex=np.where(userid_list==user_id)\n",
    "    return itemindex[0][0]\"\"\""
   ]
  },
  {
   "cell_type": "code",
   "execution_count": 99,
   "id": "856b1ce2",
   "metadata": {},
   "outputs": [],
   "source": [
    "#df[\"user_id_num\"]=df[\"user_id\"].apply(get_userid)"
   ]
  },
  {
   "cell_type": "code",
   "execution_count": null,
   "id": "0f3ae0ca",
   "metadata": {},
   "outputs": [],
   "source": [
    "# isbnid_list=df.isbn.unique()"
   ]
  },
  {
   "cell_type": "code",
   "execution_count": null,
   "id": "c25325a1",
   "metadata": {},
   "outputs": [],
   "source": [
    "\"\"\"def get_isbn_number(isbn):\n",
    "    itemindex=np.where(isbnid_list==isbn)\n",
    "    return itemindex[0][0]\"\"\""
   ]
  },
  {
   "cell_type": "code",
   "execution_count": null,
   "id": "e8ed6571",
   "metadata": {},
   "outputs": [],
   "source": [
    "#df[\"isbn_id\"]=df[\"isbn\"].apply(get_isbn_number)"
   ]
  },
  {
   "cell_type": "code",
   "execution_count": 100,
   "id": "665327c7",
   "metadata": {},
   "outputs": [
    {
     "data": {
      "text/html": [
       "<div>\n",
       "<style scoped>\n",
       "    .dataframe tbody tr th:only-of-type {\n",
       "        vertical-align: middle;\n",
       "    }\n",
       "\n",
       "    .dataframe tbody tr th {\n",
       "        vertical-align: top;\n",
       "    }\n",
       "\n",
       "    .dataframe thead th {\n",
       "        text-align: right;\n",
       "    }\n",
       "</style>\n",
       "<table border=\"1\" class=\"dataframe\">\n",
       "  <thead>\n",
       "    <tr style=\"text-align: right;\">\n",
       "      <th></th>\n",
       "      <th>user_id</th>\n",
       "      <th>Age</th>\n",
       "      <th>Country</th>\n",
       "      <th>isbn</th>\n",
       "      <th>rating</th>\n",
       "      <th>book_title</th>\n",
       "      <th>book_author</th>\n",
       "      <th>year_of_publication</th>\n",
       "      <th>publisher</th>\n",
       "    </tr>\n",
       "  </thead>\n",
       "  <tbody>\n",
       "    <tr>\n",
       "      <th>0</th>\n",
       "      <td>2</td>\n",
       "      <td>18.0</td>\n",
       "      <td>usa</td>\n",
       "      <td>195153448</td>\n",
       "      <td>0</td>\n",
       "      <td>Classical Mythology</td>\n",
       "      <td>Mark P. O. Morford</td>\n",
       "      <td>2002</td>\n",
       "      <td>Oxford University Press</td>\n",
       "    </tr>\n",
       "    <tr>\n",
       "      <th>1</th>\n",
       "      <td>8</td>\n",
       "      <td>32.0</td>\n",
       "      <td>canada</td>\n",
       "      <td>2005018</td>\n",
       "      <td>5</td>\n",
       "      <td>Clara Callan</td>\n",
       "      <td>Richard Bruce Wright</td>\n",
       "      <td>2001</td>\n",
       "      <td>HarperFlamingo Canada</td>\n",
       "    </tr>\n",
       "    <tr>\n",
       "      <th>2</th>\n",
       "      <td>11400</td>\n",
       "      <td>49.0</td>\n",
       "      <td>canada</td>\n",
       "      <td>2005018</td>\n",
       "      <td>0</td>\n",
       "      <td>Clara Callan</td>\n",
       "      <td>Richard Bruce Wright</td>\n",
       "      <td>2001</td>\n",
       "      <td>HarperFlamingo Canada</td>\n",
       "    </tr>\n",
       "    <tr>\n",
       "      <th>3</th>\n",
       "      <td>11676</td>\n",
       "      <td>32.0</td>\n",
       "      <td>nan</td>\n",
       "      <td>2005018</td>\n",
       "      <td>8</td>\n",
       "      <td>Clara Callan</td>\n",
       "      <td>Richard Bruce Wright</td>\n",
       "      <td>2001</td>\n",
       "      <td>HarperFlamingo Canada</td>\n",
       "    </tr>\n",
       "    <tr>\n",
       "      <th>4</th>\n",
       "      <td>41385</td>\n",
       "      <td>32.0</td>\n",
       "      <td>canada</td>\n",
       "      <td>2005018</td>\n",
       "      <td>0</td>\n",
       "      <td>Clara Callan</td>\n",
       "      <td>Richard Bruce Wright</td>\n",
       "      <td>2001</td>\n",
       "      <td>HarperFlamingo Canada</td>\n",
       "    </tr>\n",
       "  </tbody>\n",
       "</table>\n",
       "</div>"
      ],
      "text/plain": [
       "  user_id   Age Country       isbn  rating           book_title  \\\n",
       "0  2       18.0  usa     195153448  0       Classical Mythology   \n",
       "1  8       32.0  canada  2005018    5       Clara Callan          \n",
       "2  11400   49.0  canada  2005018    0       Clara Callan          \n",
       "3  11676   32.0  nan     2005018    8       Clara Callan          \n",
       "4  41385   32.0  canada  2005018    0       Clara Callan          \n",
       "\n",
       "            book_author  year_of_publication                publisher  \n",
       "0  Mark P. O. Morford    2002                 Oxford University Press  \n",
       "1  Richard Bruce Wright  2001                 HarperFlamingo Canada    \n",
       "2  Richard Bruce Wright  2001                 HarperFlamingo Canada    \n",
       "3  Richard Bruce Wright  2001                 HarperFlamingo Canada    \n",
       "4  Richard Bruce Wright  2001                 HarperFlamingo Canada    "
      ]
     },
     "execution_count": 100,
     "metadata": {},
     "output_type": "execute_result"
    }
   ],
   "source": [
    "#df.head()"
   ]
  },
  {
   "cell_type": "markdown",
   "id": "c31108a5",
   "metadata": {},
   "source": [
    "### Re-index the columns to build a matrix"
   ]
  },
  {
   "cell_type": "code",
   "execution_count": null,
   "id": "d47ca175",
   "metadata": {},
   "outputs": [],
   "source": [
    "#df.columns"
   ]
  },
  {
   "cell_type": "code",
   "execution_count": null,
   "id": "7f6f00f6",
   "metadata": {},
   "outputs": [],
   "source": [
    "#new_col_order=['user_id_num','isbn_id','rating','Age', 'book_title','book_author', 'year_of_publication', 'publisher', 'Country', 'user_id','isbn']"
   ]
  },
  {
   "cell_type": "code",
   "execution_count": null,
   "id": "7b28bb8b",
   "metadata": {},
   "outputs": [],
   "source": [
    "#new_col_order"
   ]
  },
  {
   "cell_type": "code",
   "execution_count": null,
   "id": "1e7bc63c",
   "metadata": {},
   "outputs": [],
   "source": [
    "#df1=df.reindex(columns=new_col_order)"
   ]
  },
  {
   "cell_type": "code",
   "execution_count": null,
   "id": "759dff1d",
   "metadata": {},
   "outputs": [],
   "source": [
    "#df1.head(2)"
   ]
  },
  {
   "cell_type": "code",
   "execution_count": null,
   "id": "ba7bc477",
   "metadata": {},
   "outputs": [],
   "source": [
    "# Keeping df1 incase if we do mistake along the way!\n",
    "#df=df1.copy()"
   ]
  },
  {
   "cell_type": "code",
   "execution_count": 101,
   "id": "1ba9ff33",
   "metadata": {},
   "outputs": [
    {
     "data": {
      "text/plain": [
       "(932668, 9)"
      ]
     },
     "execution_count": 101,
     "metadata": {},
     "output_type": "execute_result"
    }
   ],
   "source": [
    "df.shape"
   ]
  },
  {
   "cell_type": "markdown",
   "id": "c29ed7d1",
   "metadata": {},
   "source": [
    "### Data Visualization"
   ]
  },
  {
   "cell_type": "code",
   "execution_count": 102,
   "id": "37b00462",
   "metadata": {},
   "outputs": [
    {
     "data": {
      "text/plain": [
       "Text(0.5, 1.0, 'Highest number of Customers by country')"
      ]
     },
     "execution_count": 102,
     "metadata": {},
     "output_type": "execute_result"
    },
    {
     "data": {
      "image/png": "[encoded data removed]",
      "text/plain": [
       "<Figure size 1500x700 with 1 Axes>"
      ]
     },
     "metadata": {},
     "output_type": "display_data"
    }
   ],
   "source": [
    "plt.figure(figsize=(15,7))\n",
    "sns.countplot(y=\"Country\",data=df, order=pd.value_counts(df[\"Country\"]).iloc[:10].index)\n",
    "plt.title(\"Highest number of Customers by country\")"
   ]
  },
  {
   "cell_type": "markdown",
   "id": "e61a830a",
   "metadata": {},
   "source": [
    "### The country data needs some filtering but the project is for the ratings so we do not need to put more emphasis to clean dataset for the country."
   ]
  },
  {
   "cell_type": "code",
   "execution_count": 103,
   "id": "882624fc",
   "metadata": {
    "scrolled": true
   },
   "outputs": [
    {
     "data": {
      "text/plain": [
       "usa               674184\n",
       "canada            83812 \n",
       "united kingdom    30493 \n",
       "germany           25376 \n",
       "                  22435 \n",
       "australia         16245 \n",
       "spain             13461 \n",
       "Name: Country, dtype: int64"
      ]
     },
     "execution_count": 103,
     "metadata": {},
     "output_type": "execute_result"
    }
   ],
   "source": [
    "df[\"Country\"].value_counts().head(7)"
   ]
  },
  {
   "cell_type": "code",
   "execution_count": 106,
   "id": "a9b87ff5",
   "metadata": {},
   "outputs": [
    {
     "data": {
      "text/plain": [
       "Text(0.5, 1.0, 'Number of books by Author')"
      ]
     },
     "execution_count": 106,
     "metadata": {},
     "output_type": "execute_result"
    },
    {
     "data": {
      "image/png": "[encoded data removed]",
      "text/plain": [
       "<Figure size 1500x700 with 1 Axes>"
      ]
     },
     "metadata": {},
     "output_type": "display_data"
    }
   ],
   "source": [
    "plt.figure(figsize=(15,7))\n",
    "sns.countplot(y=\"book_author\",data=df, order=pd.value_counts(df[\"book_author\"]).iloc[:10].index)\n",
    "plt.title(\"Number of books by Author\")"
   ]
  },
  {
   "cell_type": "code",
   "execution_count": 107,
   "id": "12d3ac6b",
   "metadata": {
    "scrolled": true
   },
   "outputs": [
    {
     "data": {
      "text/plain": [
       "Text(0.5, 1.0, 'Number of ratings for a book')"
      ]
     },
     "execution_count": 107,
     "metadata": {},
     "output_type": "execute_result"
    },
    {
     "data": {
      "image/png": "[encoded data removed]",
      "text/plain": [
       "<Figure size 1500x700 with 1 Axes>"
      ]
     },
     "metadata": {},
     "output_type": "display_data"
    }
   ],
   "source": [
    "plt.figure(figsize=(15,7))\n",
    "sns.countplot(y=\"book_title\", data=df, order=df[\"book_title\"].value_counts().index[:10])\n",
    "plt.title(\"Number of ratings for a book\")"
   ]
  },
  {
   "cell_type": "markdown",
   "id": "66970c70",
   "metadata": {},
   "source": [
    "### The book title Wild Animus has the highest number of ratings, Lets find more information here"
   ]
  },
  {
   "cell_type": "code",
   "execution_count": 108,
   "id": "d255f052",
   "metadata": {},
   "outputs": [
    {
     "data": {
      "text/html": [
       "<div>\n",
       "<style scoped>\n",
       "    .dataframe tbody tr th:only-of-type {\n",
       "        vertical-align: middle;\n",
       "    }\n",
       "\n",
       "    .dataframe tbody tr th {\n",
       "        vertical-align: top;\n",
       "    }\n",
       "\n",
       "    .dataframe thead th {\n",
       "        text-align: right;\n",
       "    }\n",
       "</style>\n",
       "<table border=\"1\" class=\"dataframe\">\n",
       "  <thead>\n",
       "    <tr style=\"text-align: right;\">\n",
       "      <th></th>\n",
       "      <th>user_id</th>\n",
       "      <th>Age</th>\n",
       "      <th>Country</th>\n",
       "      <th>isbn</th>\n",
       "      <th>rating</th>\n",
       "      <th>book_title</th>\n",
       "      <th>book_author</th>\n",
       "      <th>year_of_publication</th>\n",
       "      <th>publisher</th>\n",
       "    </tr>\n",
       "  </thead>\n",
       "  <tbody>\n",
       "    <tr>\n",
       "      <th>0</th>\n",
       "      <td>2</td>\n",
       "      <td>18.0</td>\n",
       "      <td>usa</td>\n",
       "      <td>195153448</td>\n",
       "      <td>0</td>\n",
       "      <td>Classical Mythology</td>\n",
       "      <td>Mark P. O. Morford</td>\n",
       "      <td>2002</td>\n",
       "      <td>Oxford University Press</td>\n",
       "    </tr>\n",
       "    <tr>\n",
       "      <th>1</th>\n",
       "      <td>8</td>\n",
       "      <td>32.0</td>\n",
       "      <td>canada</td>\n",
       "      <td>2005018</td>\n",
       "      <td>5</td>\n",
       "      <td>Clara Callan</td>\n",
       "      <td>Richard Bruce Wright</td>\n",
       "      <td>2001</td>\n",
       "      <td>HarperFlamingo Canada</td>\n",
       "    </tr>\n",
       "  </tbody>\n",
       "</table>\n",
       "</div>"
      ],
      "text/plain": [
       "  user_id   Age Country       isbn  rating           book_title  \\\n",
       "0  2       18.0  usa     195153448  0       Classical Mythology   \n",
       "1  8       32.0  canada  2005018    5       Clara Callan          \n",
       "\n",
       "            book_author  year_of_publication                publisher  \n",
       "0  Mark P. O. Morford    2002                 Oxford University Press  \n",
       "1  Richard Bruce Wright  2001                 HarperFlamingo Canada    "
      ]
     },
     "execution_count": 108,
     "metadata": {},
     "output_type": "execute_result"
    }
   ],
   "source": [
    "df.head(2)"
   ]
  },
  {
   "cell_type": "code",
   "execution_count": 109,
   "id": "78c1532b",
   "metadata": {},
   "outputs": [],
   "source": [
    "rating_count =pd.DataFrame(df.groupby(\"isbn\")[\"rating\"].count())"
   ]
  },
  {
   "cell_type": "code",
   "execution_count": 110,
   "id": "0f041322",
   "metadata": {
    "scrolled": true
   },
   "outputs": [
    {
     "data": {
      "text/html": [
       "<div>\n",
       "<style scoped>\n",
       "    .dataframe tbody tr th:only-of-type {\n",
       "        vertical-align: middle;\n",
       "    }\n",
       "\n",
       "    .dataframe tbody tr th {\n",
       "        vertical-align: top;\n",
       "    }\n",
       "\n",
       "    .dataframe thead th {\n",
       "        text-align: right;\n",
       "    }\n",
       "</style>\n",
       "<table border=\"1\" class=\"dataframe\">\n",
       "  <thead>\n",
       "    <tr style=\"text-align: right;\">\n",
       "      <th></th>\n",
       "      <th>rating</th>\n",
       "    </tr>\n",
       "    <tr>\n",
       "      <th>isbn</th>\n",
       "      <th></th>\n",
       "    </tr>\n",
       "  </thead>\n",
       "  <tbody>\n",
       "    <tr>\n",
       "      <th>971880107</th>\n",
       "      <td>2249</td>\n",
       "    </tr>\n",
       "    <tr>\n",
       "      <th>316666343</th>\n",
       "      <td>1156</td>\n",
       "    </tr>\n",
       "    <tr>\n",
       "      <th>385504209</th>\n",
       "      <td>809</td>\n",
       "    </tr>\n",
       "    <tr>\n",
       "      <th>312195516</th>\n",
       "      <td>663</td>\n",
       "    </tr>\n",
       "    <tr>\n",
       "      <th>60928336</th>\n",
       "      <td>659</td>\n",
       "    </tr>\n",
       "  </tbody>\n",
       "</table>\n",
       "</div>"
      ],
      "text/plain": [
       "           rating\n",
       "isbn             \n",
       "971880107  2249  \n",
       "316666343  1156  \n",
       "385504209  809   \n",
       "312195516  663   \n",
       "60928336   659   "
      ]
     },
     "execution_count": 110,
     "metadata": {},
     "output_type": "execute_result"
    }
   ],
   "source": [
    "rating_count.sort_values(\"rating\", ascending=False).head(5)"
   ]
  },
  {
   "cell_type": "code",
   "execution_count": 111,
   "id": "2bdafa33",
   "metadata": {
    "scrolled": true
   },
   "outputs": [
    {
     "data": {
      "text/plain": [
       "Index(['User_id', 'Age', 'Country', 'Isbn', 'Rating', 'Book_title',\n",
       "       'Book_author', 'Year_of_publication', 'Publisher'],\n",
       "      dtype='object')"
      ]
     },
     "execution_count": 111,
     "metadata": {},
     "output_type": "execute_result"
    }
   ],
   "source": [
    "# Capitalizing the columns first alphabet.\n",
    "def cap(s):\n",
    "    return s[0].capitalize()+s[1:]\n",
    "df.columns=[cap(col) for col in df.columns] \n",
    "df.columns"
   ]
  },
  {
   "cell_type": "code",
   "execution_count": 112,
   "id": "d1f60aa7",
   "metadata": {},
   "outputs": [
    {
     "data": {
      "text/plain": [
       "Text(0.5, 1.0, 'Number of books by a publisher')"
      ]
     },
     "execution_count": 112,
     "metadata": {},
     "output_type": "execute_result"
    },
    {
     "data": {
      "image/png": "[encoded data removed]",
      "text/plain": [
       "<Figure size 1500x600 with 1 Axes>"
      ]
     },
     "metadata": {},
     "output_type": "display_data"
    }
   ],
   "source": [
    "plt.figure(figsize=(15,6))\n",
    "sns.countplot(y=\"Publisher\", data=df, order=df[\"Publisher\"].value_counts().index[:10])\n",
    "plt.title(\"Number of books by a publisher\")"
   ]
  },
  {
   "cell_type": "code",
   "execution_count": 113,
   "id": "820d87c0",
   "metadata": {},
   "outputs": [
    {
     "data": {
      "text/plain": [
       "Text(0.5, 1.0, \"Top 10 ISBN number= Book's Title\")"
      ]
     },
     "execution_count": 113,
     "metadata": {},
     "output_type": "execute_result"
    },
    {
     "data": {
      "image/png": "[encoded data removed]",
      "text/plain": [
       "<Figure size 1600x600 with 1 Axes>"
      ]
     },
     "metadata": {},
     "output_type": "display_data"
    }
   ],
   "source": [
    "plt.figure(figsize=(16,6))\n",
    "sns.countplot(y=\"Isbn\", data=df, order=df[\"Isbn\"].value_counts().index[:10])\n",
    "plt.title(\"Top 10 ISBN number= Book's Title\")"
   ]
  },
  {
   "cell_type": "code",
   "execution_count": 114,
   "id": "b11a1eef",
   "metadata": {},
   "outputs": [
    {
     "data": {
      "text/plain": [
       "Text(0.5, 1.0, 'Ratings')"
      ]
     },
     "execution_count": 114,
     "metadata": {},
     "output_type": "execute_result"
    },
    {
     "data": {
      "image/png": "[encoded data removed]",
      "text/plain": [
       "<Figure size 800x600 with 1 Axes>"
      ]
     },
     "metadata": {},
     "output_type": "display_data"
    }
   ],
   "source": [
    "plt.figure(figsize=(8,6))\n",
    "sns.countplot(x=\"Rating\", data=df)\n",
    "plt.title(\"Ratings\")"
   ]
  },
  {
   "cell_type": "markdown",
   "id": "19081d48",
   "metadata": {},
   "source": [
    "### Rating is the most influential part for sales. This database is very big so we can focus on the business objective"
   ]
  },
  {
   "cell_type": "code",
   "execution_count": 115,
   "id": "d18e164d",
   "metadata": {
    "scrolled": true
   },
   "outputs": [
    {
     "data": {
      "text/plain": [
       "(932668, 9)"
      ]
     },
     "execution_count": 115,
     "metadata": {},
     "output_type": "execute_result"
    }
   ],
   "source": [
    "df.shape"
   ]
  },
  {
   "cell_type": "code",
   "execution_count": 116,
   "id": "13055202",
   "metadata": {},
   "outputs": [],
   "source": [
    "filtered_ratings= df[(df[\"Rating\"] >=1) & (df[\"Rating\"]<=10)]"
   ]
  },
  {
   "cell_type": "code",
   "execution_count": 117,
   "id": "c1130f97",
   "metadata": {
    "scrolled": false
   },
   "outputs": [
    {
     "data": {
      "text/plain": [
       "(349755, 9)"
      ]
     },
     "execution_count": 117,
     "metadata": {},
     "output_type": "execute_result"
    }
   ],
   "source": [
    "filtered_ratings.shape"
   ]
  },
  {
   "cell_type": "code",
   "execution_count": null,
   "id": "7ad5f9af",
   "metadata": {},
   "outputs": [],
   "source": [
    "#rating_with_zero=df[df[\"Rating\"]==0]"
   ]
  },
  {
   "cell_type": "code",
   "execution_count": null,
   "id": "bcf075ad",
   "metadata": {
    "scrolled": true
   },
   "outputs": [],
   "source": [
    "rating_with_zero.shape"
   ]
  },
  {
   "cell_type": "code",
   "execution_count": null,
   "id": "17a5da88",
   "metadata": {},
   "outputs": [],
   "source": [
    "#df_new= df[(df[\"Rating\"] >=1) & (df[\"Rating\"]<=10)]"
   ]
  },
  {
   "cell_type": "markdown",
   "id": "61bfcc3a",
   "metadata": {},
   "source": [
    "### ### The data contains both Explicit and Implicit ratings. Since the project is based on the ratings. Both evaluation and prediction is based on ratings, we can elimainate the ratings that has \"0\" to simplify the project."
   ]
  },
  {
   "cell_type": "code",
   "execution_count": 118,
   "id": "0af186bc",
   "metadata": {
    "scrolled": true
   },
   "outputs": [
    {
     "data": {
      "text/plain": [
       "<Axes: xlabel='Rating', ylabel='count'>"
      ]
     },
     "execution_count": 118,
     "metadata": {},
     "output_type": "execute_result"
    },
    {
     "data": {
      "image/png": "[encoded data removed]",
      "text/plain": [
       "<Figure size 800x600 with 1 Axes>"
      ]
     },
     "metadata": {},
     "output_type": "display_data"
    }
   ],
   "source": [
    "plt.figure(figsize=(8,6))\n",
    "plt.style.use('fivethirtyeight')\n",
    "sns.countplot(x=\"Rating\", data=filtered_ratings)"
   ]
  },
  {
   "cell_type": "code",
   "execution_count": 122,
   "id": "e8966ff2",
   "metadata": {
    "scrolled": true
   },
   "outputs": [
    {
     "data": {
      "text/plain": [
       "Text(0.5, 1.0, 'Age Distribution')"
      ]
     },
     "execution_count": 122,
     "metadata": {},
     "output_type": "execute_result"
    },
    {
     "data": {
      "image/png": "[encoded data removed]",
      "text/plain": [
       "<Figure size 800x600 with 1 Axes>"
      ]
     },
     "metadata": {},
     "output_type": "display_data"
    }
   ],
   "source": [
    "# Age Distribution of Readers\n",
    "plt.figure(figsize=(8,6))\n",
    "sns.histplot(x=\"Age\", data=df, bins=range(10,100,10))\n",
    "plt.title(\"Age Distribution\")\n"
   ]
  },
  {
   "cell_type": "markdown",
   "id": "3d3acbd8",
   "metadata": {},
   "source": [
    "### Majority of the readers are between 30-40. This shows the right target market for the marketing team."
   ]
  },
  {
   "cell_type": "markdown",
   "id": "811280b1",
   "metadata": {},
   "source": [
    "Split your data into two sets (training and testing)\n",
    "\n",
    "Make predictions based on user and item variables\n",
    "\n",
    "Use RMSE to evaluate the predictions"
   ]
  },
  {
   "cell_type": "markdown",
   "id": "b473bdfd",
   "metadata": {},
   "source": []
  },
  {
   "cell_type": "code",
   "execution_count": 124,
   "id": "c762ffeb",
   "metadata": {
    "scrolled": true
   },
   "outputs": [
    {
     "data": {
      "text/html": [
       "<div>\n",
       "<style scoped>\n",
       "    .dataframe tbody tr th:only-of-type {\n",
       "        vertical-align: middle;\n",
       "    }\n",
       "\n",
       "    .dataframe tbody tr th {\n",
       "        vertical-align: top;\n",
       "    }\n",
       "\n",
       "    .dataframe thead th {\n",
       "        text-align: right;\n",
       "    }\n",
       "</style>\n",
       "<table border=\"1\" class=\"dataframe\">\n",
       "  <thead>\n",
       "    <tr style=\"text-align: right;\">\n",
       "      <th></th>\n",
       "      <th>User_id</th>\n",
       "      <th>Age</th>\n",
       "      <th>Country</th>\n",
       "      <th>Isbn</th>\n",
       "      <th>Rating</th>\n",
       "      <th>Book_title</th>\n",
       "      <th>Book_author</th>\n",
       "      <th>Year_of_publication</th>\n",
       "      <th>Publisher</th>\n",
       "    </tr>\n",
       "  </thead>\n",
       "  <tbody>\n",
       "    <tr>\n",
       "      <th>0</th>\n",
       "      <td>2</td>\n",
       "      <td>18.0</td>\n",
       "      <td>usa</td>\n",
       "      <td>195153448</td>\n",
       "      <td>0</td>\n",
       "      <td>Classical Mythology</td>\n",
       "      <td>Mark P. O. Morford</td>\n",
       "      <td>2002</td>\n",
       "      <td>Oxford University Press</td>\n",
       "    </tr>\n",
       "    <tr>\n",
       "      <th>1</th>\n",
       "      <td>8</td>\n",
       "      <td>32.0</td>\n",
       "      <td>canada</td>\n",
       "      <td>2005018</td>\n",
       "      <td>5</td>\n",
       "      <td>Clara Callan</td>\n",
       "      <td>Richard Bruce Wright</td>\n",
       "      <td>2001</td>\n",
       "      <td>HarperFlamingo Canada</td>\n",
       "    </tr>\n",
       "    <tr>\n",
       "      <th>2</th>\n",
       "      <td>11400</td>\n",
       "      <td>49.0</td>\n",
       "      <td>canada</td>\n",
       "      <td>2005018</td>\n",
       "      <td>0</td>\n",
       "      <td>Clara Callan</td>\n",
       "      <td>Richard Bruce Wright</td>\n",
       "      <td>2001</td>\n",
       "      <td>HarperFlamingo Canada</td>\n",
       "    </tr>\n",
       "    <tr>\n",
       "      <th>3</th>\n",
       "      <td>11676</td>\n",
       "      <td>32.0</td>\n",
       "      <td>nan</td>\n",
       "      <td>2005018</td>\n",
       "      <td>8</td>\n",
       "      <td>Clara Callan</td>\n",
       "      <td>Richard Bruce Wright</td>\n",
       "      <td>2001</td>\n",
       "      <td>HarperFlamingo Canada</td>\n",
       "    </tr>\n",
       "    <tr>\n",
       "      <th>4</th>\n",
       "      <td>41385</td>\n",
       "      <td>32.0</td>\n",
       "      <td>canada</td>\n",
       "      <td>2005018</td>\n",
       "      <td>0</td>\n",
       "      <td>Clara Callan</td>\n",
       "      <td>Richard Bruce Wright</td>\n",
       "      <td>2001</td>\n",
       "      <td>HarperFlamingo Canada</td>\n",
       "    </tr>\n",
       "  </tbody>\n",
       "</table>\n",
       "</div>"
      ],
      "text/plain": [
       "  User_id   Age Country       Isbn  Rating           Book_title  \\\n",
       "0  2       18.0  usa     195153448  0       Classical Mythology   \n",
       "1  8       32.0  canada  2005018    5       Clara Callan          \n",
       "2  11400   49.0  canada  2005018    0       Clara Callan          \n",
       "3  11676   32.0  nan     2005018    8       Clara Callan          \n",
       "4  41385   32.0  canada  2005018    0       Clara Callan          \n",
       "\n",
       "            Book_author  Year_of_publication                Publisher  \n",
       "0  Mark P. O. Morford    2002                 Oxford University Press  \n",
       "1  Richard Bruce Wright  2001                 HarperFlamingo Canada    \n",
       "2  Richard Bruce Wright  2001                 HarperFlamingo Canada    \n",
       "3  Richard Bruce Wright  2001                 HarperFlamingo Canada    \n",
       "4  Richard Bruce Wright  2001                 HarperFlamingo Canada    "
      ]
     },
     "execution_count": 124,
     "metadata": {},
     "output_type": "execute_result"
    }
   ],
   "source": [
    "df.head()"
   ]
  },
  {
   "cell_type": "code",
   "execution_count": 125,
   "id": "2368ea7c",
   "metadata": {},
   "outputs": [],
   "source": [
    "from sklearn.model_selection import train_test_split\n",
    "train_data, test_data= train_test_split(df, test_size=0.25)"
   ]
  },
  {
   "cell_type": "code",
   "execution_count": 126,
   "id": "e501e20a",
   "metadata": {},
   "outputs": [
    {
     "name": "stdout",
     "output_type": "stream",
     "text": [
      "Training data: 699501\n"
     ]
    }
   ],
   "source": [
    "print(f\"Training data: {len(train_data)}\")"
   ]
  },
  {
   "cell_type": "code",
   "execution_count": 127,
   "id": "a9b09ecb",
   "metadata": {},
   "outputs": [
    {
     "name": "stdout",
     "output_type": "stream",
     "text": [
      "Test data: 233167\n"
     ]
    }
   ],
   "source": [
    "print(f\"Test data: {len(test_data)}\")"
   ]
  },
  {
   "cell_type": "code",
   "execution_count": 128,
   "id": "3cbacfee",
   "metadata": {
    "scrolled": true
   },
   "outputs": [
    {
     "data": {
      "text/plain": [
       "(699501, 9)"
      ]
     },
     "execution_count": 128,
     "metadata": {},
     "output_type": "execute_result"
    }
   ],
   "source": [
    "train_data.shape"
   ]
  },
  {
   "cell_type": "code",
   "execution_count": 129,
   "id": "7cca88a7",
   "metadata": {
    "scrolled": true
   },
   "outputs": [
    {
     "data": {
      "text/plain": [
       "(233167, 9)"
      ]
     },
     "execution_count": 129,
     "metadata": {},
     "output_type": "execute_result"
    }
   ],
   "source": [
    "test_data.shape"
   ]
  },
  {
   "cell_type": "code",
   "execution_count": 130,
   "id": "20cef292",
   "metadata": {
    "scrolled": true
   },
   "outputs": [
    {
     "name": "stdout",
     "output_type": "stream",
     "text": [
      "Number of unique users 82900\n"
     ]
    }
   ],
   "source": [
    "num_users=df.User_id.nunique()\n",
    "print('Number of unique users',num_users)"
   ]
  },
  {
   "cell_type": "code",
   "execution_count": 131,
   "id": "4165bb39",
   "metadata": {
    "scrolled": true
   },
   "outputs": [
    {
     "name": "stdout",
     "output_type": "stream",
     "text": [
      "Number of unique books 256145\n"
     ]
    }
   ],
   "source": [
    "num_books =df.Isbn.nunique()\n",
    "print('Number of unique books',num_books)"
   ]
  },
  {
   "cell_type": "markdown",
   "id": "71f507c6",
   "metadata": {},
   "source": [
    "### Make predictions based on user and item variables: To make this prediction we need to create a matrix."
   ]
  },
  {
   "cell_type": "markdown",
   "id": "dc18ab20",
   "metadata": {},
   "source": [
    "###  The goal of the recommender system is to predict user preference for a set of items based on the past experience. Two the most popular approaches are Content-Based and Collaborative Filtering."
   ]
  },
  {
   "attachments": {
    "download.png": {
     "image/png": "[encoded data removed]"
    }
   },
   "cell_type": "markdown",
   "id": "6eb285f2",
   "metadata": {},
   "source": [
    "![download.png](attachment:download.png)"
   ]
  },
  {
   "cell_type": "code",
   "execution_count": 203,
   "id": "9a41f235",
   "metadata": {
    "scrolled": true
   },
   "outputs": [
    {
     "data": {
      "text/html": [
       "<div>\n",
       "<style scoped>\n",
       "    .dataframe tbody tr th:only-of-type {\n",
       "        vertical-align: middle;\n",
       "    }\n",
       "\n",
       "    .dataframe tbody tr th {\n",
       "        vertical-align: top;\n",
       "    }\n",
       "\n",
       "    .dataframe thead th {\n",
       "        text-align: right;\n",
       "    }\n",
       "</style>\n",
       "<table border=\"1\" class=\"dataframe\">\n",
       "  <thead>\n",
       "    <tr style=\"text-align: right;\">\n",
       "      <th></th>\n",
       "      <th>User_id</th>\n",
       "      <th>Age</th>\n",
       "      <th>Country</th>\n",
       "      <th>Isbn</th>\n",
       "      <th>Rating</th>\n",
       "      <th>Book_title</th>\n",
       "      <th>Book_author</th>\n",
       "      <th>Year_of_publication</th>\n",
       "      <th>Publisher</th>\n",
       "    </tr>\n",
       "  </thead>\n",
       "  <tbody>\n",
       "    <tr>\n",
       "      <th>0</th>\n",
       "      <td>2</td>\n",
       "      <td>18.0</td>\n",
       "      <td>usa</td>\n",
       "      <td>195153448</td>\n",
       "      <td>0</td>\n",
       "      <td>Classical Mythology</td>\n",
       "      <td>Mark P. O. Morford</td>\n",
       "      <td>2002</td>\n",
       "      <td>Oxford University Press</td>\n",
       "    </tr>\n",
       "    <tr>\n",
       "      <th>1</th>\n",
       "      <td>8</td>\n",
       "      <td>32.0</td>\n",
       "      <td>canada</td>\n",
       "      <td>2005018</td>\n",
       "      <td>5</td>\n",
       "      <td>Clara Callan</td>\n",
       "      <td>Richard Bruce Wright</td>\n",
       "      <td>2001</td>\n",
       "      <td>HarperFlamingo Canada</td>\n",
       "    </tr>\n",
       "  </tbody>\n",
       "</table>\n",
       "</div>"
      ],
      "text/plain": [
       "  User_id   Age Country       Isbn  Rating           Book_title  \\\n",
       "0  2       18.0  usa     195153448  0       Classical Mythology   \n",
       "1  8       32.0  canada  2005018    5       Clara Callan          \n",
       "\n",
       "            Book_author  Year_of_publication                Publisher  \n",
       "0  Mark P. O. Morford    2002                 Oxford University Press  \n",
       "1  Richard Bruce Wright  2001                 HarperFlamingo Canada    "
      ]
     },
     "execution_count": 203,
     "metadata": {},
     "output_type": "execute_result"
    }
   ],
   "source": [
    "df.head(2)"
   ]
  },
  {
   "cell_type": "code",
   "execution_count": 267,
   "id": "9c294131",
   "metadata": {},
   "outputs": [],
   "source": [
    "ratings_with_name= df_ratings.merge(df_books, on=\"Isbn\")"
   ]
  },
  {
   "cell_type": "code",
   "execution_count": 268,
   "id": "5e0972df",
   "metadata": {},
   "outputs": [
    {
     "data": {
      "text/html": [
       "<div>\n",
       "<style scoped>\n",
       "    .dataframe tbody tr th:only-of-type {\n",
       "        vertical-align: middle;\n",
       "    }\n",
       "\n",
       "    .dataframe tbody tr th {\n",
       "        vertical-align: top;\n",
       "    }\n",
       "\n",
       "    .dataframe thead th {\n",
       "        text-align: right;\n",
       "    }\n",
       "</style>\n",
       "<table border=\"1\" class=\"dataframe\">\n",
       "  <thead>\n",
       "    <tr style=\"text-align: right;\">\n",
       "      <th></th>\n",
       "      <th>User_id</th>\n",
       "      <th>Isbn</th>\n",
       "      <th>Rating</th>\n",
       "      <th>Book_title</th>\n",
       "      <th>Book_author</th>\n",
       "      <th>Year_of_publication</th>\n",
       "      <th>Publisher</th>\n",
       "    </tr>\n",
       "  </thead>\n",
       "  <tbody>\n",
       "    <tr>\n",
       "      <th>0</th>\n",
       "      <td>276725</td>\n",
       "      <td>034545104X</td>\n",
       "      <td>0</td>\n",
       "      <td>Flesh Tones: A Novel</td>\n",
       "      <td>M. J. Rose</td>\n",
       "      <td>2002</td>\n",
       "      <td>Ballantine Books</td>\n",
       "    </tr>\n",
       "    <tr>\n",
       "      <th>1</th>\n",
       "      <td>2313</td>\n",
       "      <td>034545104X</td>\n",
       "      <td>5</td>\n",
       "      <td>Flesh Tones: A Novel</td>\n",
       "      <td>M. J. Rose</td>\n",
       "      <td>2002</td>\n",
       "      <td>Ballantine Books</td>\n",
       "    </tr>\n",
       "    <tr>\n",
       "      <th>2</th>\n",
       "      <td>6543</td>\n",
       "      <td>034545104X</td>\n",
       "      <td>0</td>\n",
       "      <td>Flesh Tones: A Novel</td>\n",
       "      <td>M. J. Rose</td>\n",
       "      <td>2002</td>\n",
       "      <td>Ballantine Books</td>\n",
       "    </tr>\n",
       "    <tr>\n",
       "      <th>3</th>\n",
       "      <td>8680</td>\n",
       "      <td>034545104X</td>\n",
       "      <td>5</td>\n",
       "      <td>Flesh Tones: A Novel</td>\n",
       "      <td>M. J. Rose</td>\n",
       "      <td>2002</td>\n",
       "      <td>Ballantine Books</td>\n",
       "    </tr>\n",
       "    <tr>\n",
       "      <th>4</th>\n",
       "      <td>10314</td>\n",
       "      <td>034545104X</td>\n",
       "      <td>9</td>\n",
       "      <td>Flesh Tones: A Novel</td>\n",
       "      <td>M. J. Rose</td>\n",
       "      <td>2002</td>\n",
       "      <td>Ballantine Books</td>\n",
       "    </tr>\n",
       "    <tr>\n",
       "      <th>...</th>\n",
       "      <td>...</td>\n",
       "      <td>...</td>\n",
       "      <td>...</td>\n",
       "      <td>...</td>\n",
       "      <td>...</td>\n",
       "      <td>...</td>\n",
       "      <td>...</td>\n",
       "    </tr>\n",
       "    <tr>\n",
       "      <th>941098</th>\n",
       "      <td>250764</td>\n",
       "      <td>440106575</td>\n",
       "      <td>0</td>\n",
       "      <td>HIDDEN FIRES</td>\n",
       "      <td>JANETTE RADCLIFFE</td>\n",
       "      <td>1978</td>\n",
       "      <td>Dell</td>\n",
       "    </tr>\n",
       "    <tr>\n",
       "      <th>941099</th>\n",
       "      <td>250764</td>\n",
       "      <td>451157516</td>\n",
       "      <td>0</td>\n",
       "      <td>Cheyenne (Fortunes West, No 2)</td>\n",
       "      <td>A.R. Riefe</td>\n",
       "      <td>1988</td>\n",
       "      <td>New Amer Library (Mm)</td>\n",
       "    </tr>\n",
       "    <tr>\n",
       "      <th>941100</th>\n",
       "      <td>250764</td>\n",
       "      <td>048623715X</td>\n",
       "      <td>0</td>\n",
       "      <td>Glamorous Movie Stars of the Thirties: Paper Dolls</td>\n",
       "      <td>Tom Tierney</td>\n",
       "      <td>1982</td>\n",
       "      <td>Dover Publications</td>\n",
       "    </tr>\n",
       "    <tr>\n",
       "      <th>941101</th>\n",
       "      <td>250764</td>\n",
       "      <td>486256588</td>\n",
       "      <td>0</td>\n",
       "      <td>Schiaparelli Fashion Review: Paper Dolls in Full Color</td>\n",
       "      <td>Tom Tierney</td>\n",
       "      <td>1988</td>\n",
       "      <td>Dover Publications</td>\n",
       "    </tr>\n",
       "    <tr>\n",
       "      <th>941102</th>\n",
       "      <td>250764</td>\n",
       "      <td>515069434</td>\n",
       "      <td>0</td>\n",
       "      <td>Lady Laughing Eyes (To Have and to Hold)</td>\n",
       "      <td>Lee Damon</td>\n",
       "      <td>1984</td>\n",
       "      <td>Jove Books</td>\n",
       "    </tr>\n",
       "  </tbody>\n",
       "</table>\n",
       "<p>941103 rows × 7 columns</p>\n",
       "</div>"
      ],
      "text/plain": [
       "        User_id        Isbn  Rating  \\\n",
       "0       276725   034545104X  0        \n",
       "1       2313     034545104X  5        \n",
       "2       6543     034545104X  0        \n",
       "3       8680     034545104X  5        \n",
       "4       10314    034545104X  9        \n",
       "...       ...           ... ..        \n",
       "941098  250764   440106575   0        \n",
       "941099  250764   451157516   0        \n",
       "941100  250764   048623715X  0        \n",
       "941101  250764   486256588   0        \n",
       "941102  250764   515069434   0        \n",
       "\n",
       "                                                    Book_title  \\\n",
       "0       Flesh Tones: A Novel                                     \n",
       "1       Flesh Tones: A Novel                                     \n",
       "2       Flesh Tones: A Novel                                     \n",
       "3       Flesh Tones: A Novel                                     \n",
       "4       Flesh Tones: A Novel                                     \n",
       "...                      ...                                     \n",
       "941098  HIDDEN FIRES                                             \n",
       "941099  Cheyenne (Fortunes West, No 2)                           \n",
       "941100  Glamorous Movie Stars of the Thirties: Paper Dolls       \n",
       "941101  Schiaparelli Fashion Review: Paper Dolls in Full Color   \n",
       "941102  Lady Laughing Eyes (To Have and to Hold)                 \n",
       "\n",
       "              Book_author  Year_of_publication              Publisher  \n",
       "0       M. J. Rose         2002                 Ballantine Books       \n",
       "1       M. J. Rose         2002                 Ballantine Books       \n",
       "2       M. J. Rose         2002                 Ballantine Books       \n",
       "3       M. J. Rose         2002                 Ballantine Books       \n",
       "4       M. J. Rose         2002                 Ballantine Books       \n",
       "...            ...          ...                              ...       \n",
       "941098  JANETTE RADCLIFFE  1978                 Dell                   \n",
       "941099  A.R. Riefe         1988                 New Amer Library (Mm)  \n",
       "941100  Tom Tierney        1982                 Dover Publications     \n",
       "941101  Tom Tierney        1988                 Dover Publications     \n",
       "941102  Lee Damon          1984                 Jove Books             \n",
       "\n",
       "[941103 rows x 7 columns]"
      ]
     },
     "execution_count": 268,
     "metadata": {},
     "output_type": "execute_result"
    }
   ],
   "source": [
    "ratings_with_name"
   ]
  },
  {
   "cell_type": "markdown",
   "id": "79bb72e5",
   "metadata": {},
   "source": [
    "#### Find out the average ratings of each book and only consider books that has 200+ ratings"
   ]
  },
  {
   "cell_type": "code",
   "execution_count": 243,
   "id": "43aa3efb",
   "metadata": {},
   "outputs": [],
   "source": [
    "num_rating_df=df.groupby(\"Book_title\").count()[\"Rating\"].reset_index()"
   ]
  },
  {
   "cell_type": "code",
   "execution_count": 244,
   "id": "344e093b",
   "metadata": {},
   "outputs": [],
   "source": [
    "num_rating_df.rename(columns={\"Rating\":\"Num Of Ratings\"}, inplace=True)"
   ]
  },
  {
   "cell_type": "code",
   "execution_count": 245,
   "id": "10e22ce1",
   "metadata": {},
   "outputs": [
    {
     "data": {
      "text/html": [
       "<div>\n",
       "<style scoped>\n",
       "    .dataframe tbody tr th:only-of-type {\n",
       "        vertical-align: middle;\n",
       "    }\n",
       "\n",
       "    .dataframe tbody tr th {\n",
       "        vertical-align: top;\n",
       "    }\n",
       "\n",
       "    .dataframe thead th {\n",
       "        text-align: right;\n",
       "    }\n",
       "</style>\n",
       "<table border=\"1\" class=\"dataframe\">\n",
       "  <thead>\n",
       "    <tr style=\"text-align: right;\">\n",
       "      <th></th>\n",
       "      <th>Book_title</th>\n",
       "      <th>Num Of Ratings</th>\n",
       "    </tr>\n",
       "  </thead>\n",
       "  <tbody>\n",
       "    <tr>\n",
       "      <th>0</th>\n",
       "      <td>A Light in the Storm: The Civil War Diary of Amelia Martin, Fenwick Island, Delaware, 1861 (Dear America)</td>\n",
       "      <td>4</td>\n",
       "    </tr>\n",
       "    <tr>\n",
       "      <th>1</th>\n",
       "      <td>Always Have Popsicles</td>\n",
       "      <td>1</td>\n",
       "    </tr>\n",
       "    <tr>\n",
       "      <th>2</th>\n",
       "      <td>Apple Magic (The Collector's series)</td>\n",
       "      <td>1</td>\n",
       "    </tr>\n",
       "    <tr>\n",
       "      <th>3</th>\n",
       "      <td>Beyond IBM: Leadership Marketing and Finance for the 1990s</td>\n",
       "      <td>1</td>\n",
       "    </tr>\n",
       "    <tr>\n",
       "      <th>4</th>\n",
       "      <td>Clifford Visita El Hospital (Clifford El Gran Perro Colorado)</td>\n",
       "      <td>1</td>\n",
       "    </tr>\n",
       "    <tr>\n",
       "      <th>...</th>\n",
       "      <td>...</td>\n",
       "      <td>...</td>\n",
       "    </tr>\n",
       "    <tr>\n",
       "      <th>228728</th>\n",
       "      <td>Ã?Â?l- Connection.</td>\n",
       "      <td>1</td>\n",
       "    </tr>\n",
       "    <tr>\n",
       "      <th>228729</th>\n",
       "      <td>Ã?Â?lpiraten.</td>\n",
       "      <td>2</td>\n",
       "    </tr>\n",
       "    <tr>\n",
       "      <th>228730</th>\n",
       "      <td>Ã?Â?rger mit Produkt X. Roman.</td>\n",
       "      <td>4</td>\n",
       "    </tr>\n",
       "    <tr>\n",
       "      <th>228731</th>\n",
       "      <td>Ã?Â?stlich der Berge.</td>\n",
       "      <td>2</td>\n",
       "    </tr>\n",
       "    <tr>\n",
       "      <th>228732</th>\n",
       "      <td>Ã?Â?thique en toc</td>\n",
       "      <td>2</td>\n",
       "    </tr>\n",
       "  </tbody>\n",
       "</table>\n",
       "<p>228733 rows × 2 columns</p>\n",
       "</div>"
      ],
      "text/plain": [
       "                                                                                                        Book_title  \\\n",
       "0        A Light in the Storm: The Civil War Diary of Amelia Martin, Fenwick Island, Delaware, 1861 (Dear America)   \n",
       "1        Always Have Popsicles                                                                                       \n",
       "2        Apple Magic (The Collector's series)                                                                        \n",
       "3        Beyond IBM: Leadership Marketing and Finance for the 1990s                                                  \n",
       "4        Clifford Visita El Hospital (Clifford El Gran Perro Colorado)                                               \n",
       "...                                                                ...                                               \n",
       "228728  Ã?Â?l- Connection.                                                                                           \n",
       "228729  Ã?Â?lpiraten.                                                                                                \n",
       "228730  Ã?Â?rger mit Produkt X. Roman.                                                                               \n",
       "228731  Ã?Â?stlich der Berge.                                                                                        \n",
       "228732  Ã?Â?thique en toc                                                                                            \n",
       "\n",
       "        Num Of Ratings  \n",
       "0       4               \n",
       "1       1               \n",
       "2       1               \n",
       "3       1               \n",
       "4       1               \n",
       "...    ..               \n",
       "228728  1               \n",
       "228729  2               \n",
       "228730  4               \n",
       "228731  2               \n",
       "228732  2               \n",
       "\n",
       "[228733 rows x 2 columns]"
      ]
     },
     "execution_count": 245,
     "metadata": {},
     "output_type": "execute_result"
    }
   ],
   "source": [
    "num_rating_df"
   ]
  },
  {
   "cell_type": "code",
   "execution_count": 246,
   "id": "a4419e2a",
   "metadata": {},
   "outputs": [
    {
     "data": {
      "text/html": [
       "<div>\n",
       "<style scoped>\n",
       "    .dataframe tbody tr th:only-of-type {\n",
       "        vertical-align: middle;\n",
       "    }\n",
       "\n",
       "    .dataframe tbody tr th {\n",
       "        vertical-align: top;\n",
       "    }\n",
       "\n",
       "    .dataframe thead th {\n",
       "        text-align: right;\n",
       "    }\n",
       "</style>\n",
       "<table border=\"1\" class=\"dataframe\">\n",
       "  <thead>\n",
       "    <tr style=\"text-align: right;\">\n",
       "      <th></th>\n",
       "      <th>Book_title</th>\n",
       "      <th>Rating</th>\n",
       "    </tr>\n",
       "  </thead>\n",
       "  <tbody>\n",
       "    <tr>\n",
       "      <th>0</th>\n",
       "      <td>A Light in the Storm: The Civil War Diary of Amelia Martin, Fenwick Island, Delaware, 1861 (Dear America)</td>\n",
       "      <td>2.25</td>\n",
       "    </tr>\n",
       "    <tr>\n",
       "      <th>1</th>\n",
       "      <td>Always Have Popsicles</td>\n",
       "      <td>0.00</td>\n",
       "    </tr>\n",
       "    <tr>\n",
       "      <th>2</th>\n",
       "      <td>Apple Magic (The Collector's series)</td>\n",
       "      <td>0.00</td>\n",
       "    </tr>\n",
       "    <tr>\n",
       "      <th>3</th>\n",
       "      <td>Beyond IBM: Leadership Marketing and Finance for the 1990s</td>\n",
       "      <td>0.00</td>\n",
       "    </tr>\n",
       "    <tr>\n",
       "      <th>4</th>\n",
       "      <td>Clifford Visita El Hospital (Clifford El Gran Perro Colorado)</td>\n",
       "      <td>0.00</td>\n",
       "    </tr>\n",
       "    <tr>\n",
       "      <th>...</th>\n",
       "      <td>...</td>\n",
       "      <td>...</td>\n",
       "    </tr>\n",
       "    <tr>\n",
       "      <th>228728</th>\n",
       "      <td>Ã?Â?l- Connection.</td>\n",
       "      <td>0.00</td>\n",
       "    </tr>\n",
       "    <tr>\n",
       "      <th>228729</th>\n",
       "      <td>Ã?Â?lpiraten.</td>\n",
       "      <td>0.00</td>\n",
       "    </tr>\n",
       "    <tr>\n",
       "      <th>228730</th>\n",
       "      <td>Ã?Â?rger mit Produkt X. Roman.</td>\n",
       "      <td>5.25</td>\n",
       "    </tr>\n",
       "    <tr>\n",
       "      <th>228731</th>\n",
       "      <td>Ã?Â?stlich der Berge.</td>\n",
       "      <td>4.00</td>\n",
       "    </tr>\n",
       "    <tr>\n",
       "      <th>228732</th>\n",
       "      <td>Ã?Â?thique en toc</td>\n",
       "      <td>4.00</td>\n",
       "    </tr>\n",
       "  </tbody>\n",
       "</table>\n",
       "<p>228733 rows × 2 columns</p>\n",
       "</div>"
      ],
      "text/plain": [
       "                                                                                                        Book_title  \\\n",
       "0        A Light in the Storm: The Civil War Diary of Amelia Martin, Fenwick Island, Delaware, 1861 (Dear America)   \n",
       "1        Always Have Popsicles                                                                                       \n",
       "2        Apple Magic (The Collector's series)                                                                        \n",
       "3        Beyond IBM: Leadership Marketing and Finance for the 1990s                                                  \n",
       "4        Clifford Visita El Hospital (Clifford El Gran Perro Colorado)                                               \n",
       "...                                                                ...                                               \n",
       "228728  Ã?Â?l- Connection.                                                                                           \n",
       "228729  Ã?Â?lpiraten.                                                                                                \n",
       "228730  Ã?Â?rger mit Produkt X. Roman.                                                                               \n",
       "228731  Ã?Â?stlich der Berge.                                                                                        \n",
       "228732  Ã?Â?thique en toc                                                                                            \n",
       "\n",
       "        Rating  \n",
       "0       2.25    \n",
       "1       0.00    \n",
       "2       0.00    \n",
       "3       0.00    \n",
       "4       0.00    \n",
       "...      ...    \n",
       "228728  0.00    \n",
       "228729  0.00    \n",
       "228730  5.25    \n",
       "228731  4.00    \n",
       "228732  4.00    \n",
       "\n",
       "[228733 rows x 2 columns]"
      ]
     },
     "execution_count": 246,
     "metadata": {},
     "output_type": "execute_result"
    }
   ],
   "source": [
    "average_rating= df.groupby(\"Book_title\").mean()[\"Rating\"].reset_index()\n",
    "average_rating"
   ]
  },
  {
   "cell_type": "code",
   "execution_count": 247,
   "id": "5a392b81",
   "metadata": {},
   "outputs": [],
   "source": [
    "average_rating.rename(columns={\"Rating\": \"Avg_rating\"}, inplace=True)"
   ]
  },
  {
   "cell_type": "code",
   "execution_count": 248,
   "id": "e2394543",
   "metadata": {},
   "outputs": [
    {
     "data": {
      "text/html": [
       "<div>\n",
       "<style scoped>\n",
       "    .dataframe tbody tr th:only-of-type {\n",
       "        vertical-align: middle;\n",
       "    }\n",
       "\n",
       "    .dataframe tbody tr th {\n",
       "        vertical-align: top;\n",
       "    }\n",
       "\n",
       "    .dataframe thead th {\n",
       "        text-align: right;\n",
       "    }\n",
       "</style>\n",
       "<table border=\"1\" class=\"dataframe\">\n",
       "  <thead>\n",
       "    <tr style=\"text-align: right;\">\n",
       "      <th></th>\n",
       "      <th>Book_title</th>\n",
       "      <th>Avg_rating</th>\n",
       "    </tr>\n",
       "  </thead>\n",
       "  <tbody>\n",
       "    <tr>\n",
       "      <th>0</th>\n",
       "      <td>A Light in the Storm: The Civil War Diary of Amelia Martin, Fenwick Island, Delaware, 1861 (Dear America)</td>\n",
       "      <td>2.25</td>\n",
       "    </tr>\n",
       "    <tr>\n",
       "      <th>1</th>\n",
       "      <td>Always Have Popsicles</td>\n",
       "      <td>0.00</td>\n",
       "    </tr>\n",
       "    <tr>\n",
       "      <th>2</th>\n",
       "      <td>Apple Magic (The Collector's series)</td>\n",
       "      <td>0.00</td>\n",
       "    </tr>\n",
       "    <tr>\n",
       "      <th>3</th>\n",
       "      <td>Beyond IBM: Leadership Marketing and Finance for the 1990s</td>\n",
       "      <td>0.00</td>\n",
       "    </tr>\n",
       "    <tr>\n",
       "      <th>4</th>\n",
       "      <td>Clifford Visita El Hospital (Clifford El Gran Perro Colorado)</td>\n",
       "      <td>0.00</td>\n",
       "    </tr>\n",
       "    <tr>\n",
       "      <th>...</th>\n",
       "      <td>...</td>\n",
       "      <td>...</td>\n",
       "    </tr>\n",
       "    <tr>\n",
       "      <th>228728</th>\n",
       "      <td>Ã?Â?l- Connection.</td>\n",
       "      <td>0.00</td>\n",
       "    </tr>\n",
       "    <tr>\n",
       "      <th>228729</th>\n",
       "      <td>Ã?Â?lpiraten.</td>\n",
       "      <td>0.00</td>\n",
       "    </tr>\n",
       "    <tr>\n",
       "      <th>228730</th>\n",
       "      <td>Ã?Â?rger mit Produkt X. Roman.</td>\n",
       "      <td>5.25</td>\n",
       "    </tr>\n",
       "    <tr>\n",
       "      <th>228731</th>\n",
       "      <td>Ã?Â?stlich der Berge.</td>\n",
       "      <td>4.00</td>\n",
       "    </tr>\n",
       "    <tr>\n",
       "      <th>228732</th>\n",
       "      <td>Ã?Â?thique en toc</td>\n",
       "      <td>4.00</td>\n",
       "    </tr>\n",
       "  </tbody>\n",
       "</table>\n",
       "<p>228733 rows × 2 columns</p>\n",
       "</div>"
      ],
      "text/plain": [
       "                                                                                                        Book_title  \\\n",
       "0        A Light in the Storm: The Civil War Diary of Amelia Martin, Fenwick Island, Delaware, 1861 (Dear America)   \n",
       "1        Always Have Popsicles                                                                                       \n",
       "2        Apple Magic (The Collector's series)                                                                        \n",
       "3        Beyond IBM: Leadership Marketing and Finance for the 1990s                                                  \n",
       "4        Clifford Visita El Hospital (Clifford El Gran Perro Colorado)                                               \n",
       "...                                                                ...                                               \n",
       "228728  Ã?Â?l- Connection.                                                                                           \n",
       "228729  Ã?Â?lpiraten.                                                                                                \n",
       "228730  Ã?Â?rger mit Produkt X. Roman.                                                                               \n",
       "228731  Ã?Â?stlich der Berge.                                                                                        \n",
       "228732  Ã?Â?thique en toc                                                                                            \n",
       "\n",
       "        Avg_rating  \n",
       "0       2.25        \n",
       "1       0.00        \n",
       "2       0.00        \n",
       "3       0.00        \n",
       "4       0.00        \n",
       "...      ...        \n",
       "228728  0.00        \n",
       "228729  0.00        \n",
       "228730  5.25        \n",
       "228731  4.00        \n",
       "228732  4.00        \n",
       "\n",
       "[228733 rows x 2 columns]"
      ]
     },
     "execution_count": 248,
     "metadata": {},
     "output_type": "execute_result"
    }
   ],
   "source": [
    "average_rating"
   ]
  },
  {
   "cell_type": "code",
   "execution_count": 249,
   "id": "15fff92e",
   "metadata": {},
   "outputs": [
    {
     "data": {
      "text/html": [
       "<div>\n",
       "<style scoped>\n",
       "    .dataframe tbody tr th:only-of-type {\n",
       "        vertical-align: middle;\n",
       "    }\n",
       "\n",
       "    .dataframe tbody tr th {\n",
       "        vertical-align: top;\n",
       "    }\n",
       "\n",
       "    .dataframe thead th {\n",
       "        text-align: right;\n",
       "    }\n",
       "</style>\n",
       "<table border=\"1\" class=\"dataframe\">\n",
       "  <thead>\n",
       "    <tr style=\"text-align: right;\">\n",
       "      <th></th>\n",
       "      <th>Book_title</th>\n",
       "      <th>Num Of Ratings</th>\n",
       "      <th>Avg_rating</th>\n",
       "    </tr>\n",
       "  </thead>\n",
       "  <tbody>\n",
       "    <tr>\n",
       "      <th>0</th>\n",
       "      <td>A Light in the Storm: The Civil War Diary of Amelia Martin, Fenwick Island, Delaware, 1861 (Dear America)</td>\n",
       "      <td>4</td>\n",
       "      <td>2.25</td>\n",
       "    </tr>\n",
       "    <tr>\n",
       "      <th>1</th>\n",
       "      <td>Always Have Popsicles</td>\n",
       "      <td>1</td>\n",
       "      <td>0.00</td>\n",
       "    </tr>\n",
       "    <tr>\n",
       "      <th>2</th>\n",
       "      <td>Apple Magic (The Collector's series)</td>\n",
       "      <td>1</td>\n",
       "      <td>0.00</td>\n",
       "    </tr>\n",
       "    <tr>\n",
       "      <th>3</th>\n",
       "      <td>Beyond IBM: Leadership Marketing and Finance for the 1990s</td>\n",
       "      <td>1</td>\n",
       "      <td>0.00</td>\n",
       "    </tr>\n",
       "    <tr>\n",
       "      <th>4</th>\n",
       "      <td>Clifford Visita El Hospital (Clifford El Gran Perro Colorado)</td>\n",
       "      <td>1</td>\n",
       "      <td>0.00</td>\n",
       "    </tr>\n",
       "    <tr>\n",
       "      <th>...</th>\n",
       "      <td>...</td>\n",
       "      <td>...</td>\n",
       "      <td>...</td>\n",
       "    </tr>\n",
       "    <tr>\n",
       "      <th>228728</th>\n",
       "      <td>Ã?Â?l- Connection.</td>\n",
       "      <td>1</td>\n",
       "      <td>0.00</td>\n",
       "    </tr>\n",
       "    <tr>\n",
       "      <th>228729</th>\n",
       "      <td>Ã?Â?lpiraten.</td>\n",
       "      <td>2</td>\n",
       "      <td>0.00</td>\n",
       "    </tr>\n",
       "    <tr>\n",
       "      <th>228730</th>\n",
       "      <td>Ã?Â?rger mit Produkt X. Roman.</td>\n",
       "      <td>4</td>\n",
       "      <td>5.25</td>\n",
       "    </tr>\n",
       "    <tr>\n",
       "      <th>228731</th>\n",
       "      <td>Ã?Â?stlich der Berge.</td>\n",
       "      <td>2</td>\n",
       "      <td>4.00</td>\n",
       "    </tr>\n",
       "    <tr>\n",
       "      <th>228732</th>\n",
       "      <td>Ã?Â?thique en toc</td>\n",
       "      <td>2</td>\n",
       "      <td>4.00</td>\n",
       "    </tr>\n",
       "  </tbody>\n",
       "</table>\n",
       "<p>228733 rows × 3 columns</p>\n",
       "</div>"
      ],
      "text/plain": [
       "                                                                                                        Book_title  \\\n",
       "0        A Light in the Storm: The Civil War Diary of Amelia Martin, Fenwick Island, Delaware, 1861 (Dear America)   \n",
       "1        Always Have Popsicles                                                                                       \n",
       "2        Apple Magic (The Collector's series)                                                                        \n",
       "3        Beyond IBM: Leadership Marketing and Finance for the 1990s                                                  \n",
       "4        Clifford Visita El Hospital (Clifford El Gran Perro Colorado)                                               \n",
       "...                                                                ...                                               \n",
       "228728  Ã?Â?l- Connection.                                                                                           \n",
       "228729  Ã?Â?lpiraten.                                                                                                \n",
       "228730  Ã?Â?rger mit Produkt X. Roman.                                                                               \n",
       "228731  Ã?Â?stlich der Berge.                                                                                        \n",
       "228732  Ã?Â?thique en toc                                                                                            \n",
       "\n",
       "        Num Of Ratings  Avg_rating  \n",
       "0       4               2.25        \n",
       "1       1               0.00        \n",
       "2       1               0.00        \n",
       "3       1               0.00        \n",
       "4       1               0.00        \n",
       "...    ..                ...        \n",
       "228728  1               0.00        \n",
       "228729  2               0.00        \n",
       "228730  4               5.25        \n",
       "228731  2               4.00        \n",
       "228732  2               4.00        \n",
       "\n",
       "[228733 rows x 3 columns]"
      ]
     },
     "execution_count": 249,
     "metadata": {},
     "output_type": "execute_result"
    }
   ],
   "source": [
    "popular= num_rating_df.merge(average_rating, on=\"Book_title\")\n",
    "popular"
   ]
  },
  {
   "cell_type": "code",
   "execution_count": 250,
   "id": "4389da55",
   "metadata": {},
   "outputs": [
    {
     "data": {
      "text/html": [
       "<div>\n",
       "<style scoped>\n",
       "    .dataframe tbody tr th:only-of-type {\n",
       "        vertical-align: middle;\n",
       "    }\n",
       "\n",
       "    .dataframe tbody tr th {\n",
       "        vertical-align: top;\n",
       "    }\n",
       "\n",
       "    .dataframe thead th {\n",
       "        text-align: right;\n",
       "    }\n",
       "</style>\n",
       "<table border=\"1\" class=\"dataframe\">\n",
       "  <thead>\n",
       "    <tr style=\"text-align: right;\">\n",
       "      <th></th>\n",
       "      <th>Book_title</th>\n",
       "      <th>Num Of Ratings</th>\n",
       "      <th>Avg_rating</th>\n",
       "    </tr>\n",
       "  </thead>\n",
       "  <tbody>\n",
       "    <tr>\n",
       "      <th>190</th>\n",
       "      <td>10 Lb. Penalty</td>\n",
       "      <td>54</td>\n",
       "      <td>2.370370</td>\n",
       "    </tr>\n",
       "    <tr>\n",
       "      <th>663</th>\n",
       "      <td>16 Lighthouse Road</td>\n",
       "      <td>58</td>\n",
       "      <td>2.137931</td>\n",
       "    </tr>\n",
       "    <tr>\n",
       "      <th>725</th>\n",
       "      <td>1984</td>\n",
       "      <td>257</td>\n",
       "      <td>4.428016</td>\n",
       "    </tr>\n",
       "    <tr>\n",
       "      <th>776</th>\n",
       "      <td>1st to Die: A Novel</td>\n",
       "      <td>466</td>\n",
       "      <td>3.618026</td>\n",
       "    </tr>\n",
       "    <tr>\n",
       "      <th>897</th>\n",
       "      <td>2010: Odyssey Two</td>\n",
       "      <td>80</td>\n",
       "      <td>2.837500</td>\n",
       "    </tr>\n",
       "    <tr>\n",
       "      <th>...</th>\n",
       "      <td>...</td>\n",
       "      <td>...</td>\n",
       "      <td>...</td>\n",
       "    </tr>\n",
       "    <tr>\n",
       "      <th>227582</th>\n",
       "      <td>Young Wives</td>\n",
       "      <td>53</td>\n",
       "      <td>2.547170</td>\n",
       "    </tr>\n",
       "    <tr>\n",
       "      <th>228113</th>\n",
       "      <td>Zen and the Art of Motorcycle Maintenance: An Inquiry into Values</td>\n",
       "      <td>190</td>\n",
       "      <td>3.252632</td>\n",
       "    </tr>\n",
       "    <tr>\n",
       "      <th>228357</th>\n",
       "      <td>Zoya</td>\n",
       "      <td>92</td>\n",
       "      <td>1.565217</td>\n",
       "    </tr>\n",
       "    <tr>\n",
       "      <th>228536</th>\n",
       "      <td>\\O\\\" Is for Outlaw\"</td>\n",
       "      <td>239</td>\n",
       "      <td>2.987448</td>\n",
       "    </tr>\n",
       "    <tr>\n",
       "      <th>228550</th>\n",
       "      <td>\\Surely You're Joking, Mr. Feynman!\\\": Adventures of a Curious Character\"</td>\n",
       "      <td>51</td>\n",
       "      <td>3.843137</td>\n",
       "    </tr>\n",
       "  </tbody>\n",
       "</table>\n",
       "<p>2160 rows × 3 columns</p>\n",
       "</div>"
      ],
      "text/plain": [
       "                                                                       Book_title  \\\n",
       "190     10 Lb. Penalty                                                              \n",
       "663     16 Lighthouse Road                                                          \n",
       "725     1984                                                                        \n",
       "776     1st to Die: A Novel                                                         \n",
       "897     2010: Odyssey Two                                                           \n",
       "...                   ...                                                           \n",
       "227582  Young Wives                                                                 \n",
       "228113  Zen and the Art of Motorcycle Maintenance: An Inquiry into Values           \n",
       "228357  Zoya                                                                        \n",
       "228536  \\O\\\" Is for Outlaw\"                                                         \n",
       "228550  \\Surely You're Joking, Mr. Feynman!\\\": Adventures of a Curious Character\"   \n",
       "\n",
       "        Num Of Ratings  Avg_rating  \n",
       "190     54              2.370370    \n",
       "663     58              2.137931    \n",
       "725     257             4.428016    \n",
       "776     466             3.618026    \n",
       "897     80              2.837500    \n",
       "...     ..                   ...    \n",
       "227582  53              2.547170    \n",
       "228113  190             3.252632    \n",
       "228357  92              1.565217    \n",
       "228536  239             2.987448    \n",
       "228550  51              3.843137    \n",
       "\n",
       "[2160 rows x 3 columns]"
      ]
     },
     "execution_count": 250,
     "metadata": {},
     "output_type": "execute_result"
    }
   ],
   "source": [
    "# Now lets assume to keep the book that has atleast 50 ratings\n",
    "popular[popular[\"Num Of Ratings\"]>=50]"
   ]
  },
  {
   "cell_type": "code",
   "execution_count": 251,
   "id": "014a1b0c",
   "metadata": {},
   "outputs": [],
   "source": [
    "popular_books_df=popular[popular[\"Num Of Ratings\"]>=50].sort_values(\"Avg_rating\",ascending=False)"
   ]
  },
  {
   "cell_type": "code",
   "execution_count": 252,
   "id": "360ce6e0",
   "metadata": {},
   "outputs": [
    {
     "data": {
      "text/plain": [
       "(2160, 3)"
      ]
     },
     "execution_count": 252,
     "metadata": {},
     "output_type": "execute_result"
    }
   ],
   "source": [
    "popular_books_df.shape"
   ]
  },
  {
   "cell_type": "markdown",
   "id": "28ba9389",
   "metadata": {},
   "source": [
    "### Merging with Books"
   ]
  },
  {
   "cell_type": "code",
   "execution_count": 253,
   "id": "6f60929b",
   "metadata": {},
   "outputs": [
    {
     "data": {
      "text/plain": [
       "Index(['Isbn', 'Book_title', 'Book_author', 'Year_of_publication',\n",
       "       'Publisher'],\n",
       "      dtype='object')"
      ]
     },
     "execution_count": 253,
     "metadata": {},
     "output_type": "execute_result"
    }
   ],
   "source": [
    "def cap(s):\n",
    "    return s[0].capitalize()+s[1:]\n",
    "df_books.columns=[cap(col) for col in df_books.columns] \n",
    "df_books.columns"
   ]
  },
  {
   "cell_type": "code",
   "execution_count": 254,
   "id": "a854a36a",
   "metadata": {},
   "outputs": [
    {
     "data": {
      "text/html": [
       "<div>\n",
       "<style scoped>\n",
       "    .dataframe tbody tr th:only-of-type {\n",
       "        vertical-align: middle;\n",
       "    }\n",
       "\n",
       "    .dataframe tbody tr th {\n",
       "        vertical-align: top;\n",
       "    }\n",
       "\n",
       "    .dataframe thead th {\n",
       "        text-align: right;\n",
       "    }\n",
       "</style>\n",
       "<table border=\"1\" class=\"dataframe\">\n",
       "  <thead>\n",
       "    <tr style=\"text-align: right;\">\n",
       "      <th></th>\n",
       "      <th>Book_title</th>\n",
       "      <th>Book_author</th>\n",
       "      <th>Num Of Ratings</th>\n",
       "      <th>Avg_rating</th>\n",
       "    </tr>\n",
       "  </thead>\n",
       "  <tbody>\n",
       "    <tr>\n",
       "      <th>0</th>\n",
       "      <td>Free</td>\n",
       "      <td>Paul Vincent</td>\n",
       "      <td>51</td>\n",
       "      <td>8.039216</td>\n",
       "    </tr>\n",
       "    <tr>\n",
       "      <th>3</th>\n",
       "      <td>The Stand (The Complete and Uncut Edition)</td>\n",
       "      <td>Stephen King</td>\n",
       "      <td>51</td>\n",
       "      <td>6.078431</td>\n",
       "    </tr>\n",
       "    <tr>\n",
       "      <th>4</th>\n",
       "      <td>Griffin &amp;amp; Sabine: An Extraordinary Correspondence</td>\n",
       "      <td>Nick Bantock</td>\n",
       "      <td>62</td>\n",
       "      <td>5.951613</td>\n",
       "    </tr>\n",
       "    <tr>\n",
       "      <th>5</th>\n",
       "      <td>Harry Potter and the Goblet of Fire (Book 4)</td>\n",
       "      <td>J. K. Rowling</td>\n",
       "      <td>345</td>\n",
       "      <td>5.933333</td>\n",
       "    </tr>\n",
       "    <tr>\n",
       "      <th>7</th>\n",
       "      <td>Harry Potter and the Prisoner of Azkaban (Book 3)</td>\n",
       "      <td>J. K. Rowling</td>\n",
       "      <td>378</td>\n",
       "      <td>5.888889</td>\n",
       "    </tr>\n",
       "    <tr>\n",
       "      <th>...</th>\n",
       "      <td>...</td>\n",
       "      <td>...</td>\n",
       "      <td>...</td>\n",
       "      <td>...</td>\n",
       "    </tr>\n",
       "    <tr>\n",
       "      <th>6407</th>\n",
       "      <td>Man From St Petersburg</td>\n",
       "      <td>Ken Follett</td>\n",
       "      <td>51</td>\n",
       "      <td>1.039216</td>\n",
       "    </tr>\n",
       "    <tr>\n",
       "      <th>6408</th>\n",
       "      <td>Whirlwind</td>\n",
       "      <td>Clavell</td>\n",
       "      <td>52</td>\n",
       "      <td>1.038462</td>\n",
       "    </tr>\n",
       "    <tr>\n",
       "      <th>6410</th>\n",
       "      <td>Wild Animus</td>\n",
       "      <td>Rich Shapero</td>\n",
       "      <td>2249</td>\n",
       "      <td>1.034237</td>\n",
       "    </tr>\n",
       "    <tr>\n",
       "      <th>6411</th>\n",
       "      <td>Ssn</td>\n",
       "      <td>Tom Clancy</td>\n",
       "      <td>56</td>\n",
       "      <td>1.000000</td>\n",
       "    </tr>\n",
       "    <tr>\n",
       "      <th>6412</th>\n",
       "      <td>Ground Zero and Beyond</td>\n",
       "      <td>J. P. McCarthy</td>\n",
       "      <td>62</td>\n",
       "      <td>0.741935</td>\n",
       "    </tr>\n",
       "  </tbody>\n",
       "</table>\n",
       "<p>2160 rows × 4 columns</p>\n",
       "</div>"
      ],
      "text/plain": [
       "                                                 Book_title     Book_author  \\\n",
       "0     Free                                                   Paul Vincent     \n",
       "3     The Stand (The Complete and Uncut Edition)             Stephen King     \n",
       "4     Griffin &amp; Sabine: An Extraordinary Correspondence  Nick Bantock     \n",
       "5     Harry Potter and the Goblet of Fire (Book 4)           J. K. Rowling    \n",
       "7     Harry Potter and the Prisoner of Azkaban (Book 3)      J. K. Rowling    \n",
       "...                                                 ...                ...    \n",
       "6407  Man From St Petersburg                                 Ken Follett      \n",
       "6408  Whirlwind                                              Clavell          \n",
       "6410  Wild Animus                                            Rich Shapero     \n",
       "6411  Ssn                                                    Tom Clancy       \n",
       "6412  Ground Zero and Beyond                                 J. P. McCarthy   \n",
       "\n",
       "      Num Of Ratings  Avg_rating  \n",
       "0     51              8.039216    \n",
       "3     51              6.078431    \n",
       "4     62              5.951613    \n",
       "5     345             5.933333    \n",
       "7     378             5.888889    \n",
       "...   ...                  ...    \n",
       "6407  51              1.039216    \n",
       "6408  52              1.038462    \n",
       "6410  2249            1.034237    \n",
       "6411  56              1.000000    \n",
       "6412  62              0.741935    \n",
       "\n",
       "[2160 rows x 4 columns]"
      ]
     },
     "execution_count": 254,
     "metadata": {},
     "output_type": "execute_result"
    }
   ],
   "source": [
    "popular_df=popular_books_df.merge(df_books, on=\"Book_title\").drop_duplicates(\"Book_title\")[[\"Book_title\",\"Book_author\", \"Num Of Ratings\", \"Avg_rating\"]]\n",
    "popular_df"
   ]
  },
  {
   "cell_type": "code",
   "execution_count": 256,
   "id": "445358c4",
   "metadata": {},
   "outputs": [
    {
     "data": {
      "text/html": [
       "<div>\n",
       "<style scoped>\n",
       "    .dataframe tbody tr th:only-of-type {\n",
       "        vertical-align: middle;\n",
       "    }\n",
       "\n",
       "    .dataframe tbody tr th {\n",
       "        vertical-align: top;\n",
       "    }\n",
       "\n",
       "    .dataframe thead th {\n",
       "        text-align: right;\n",
       "    }\n",
       "</style>\n",
       "<table border=\"1\" class=\"dataframe\">\n",
       "  <thead>\n",
       "    <tr style=\"text-align: right;\">\n",
       "      <th></th>\n",
       "      <th>Book_title</th>\n",
       "      <th>Book_author</th>\n",
       "      <th>Num Of Ratings</th>\n",
       "      <th>Avg_rating</th>\n",
       "    </tr>\n",
       "  </thead>\n",
       "  <tbody>\n",
       "    <tr>\n",
       "      <th>0</th>\n",
       "      <td>Free</td>\n",
       "      <td>Paul Vincent</td>\n",
       "      <td>51</td>\n",
       "      <td>8.039216</td>\n",
       "    </tr>\n",
       "    <tr>\n",
       "      <th>3</th>\n",
       "      <td>The Stand (The Complete and Uncut Edition)</td>\n",
       "      <td>Stephen King</td>\n",
       "      <td>51</td>\n",
       "      <td>6.078431</td>\n",
       "    </tr>\n",
       "    <tr>\n",
       "      <th>4</th>\n",
       "      <td>Griffin &amp;amp; Sabine: An Extraordinary Correspondence</td>\n",
       "      <td>Nick Bantock</td>\n",
       "      <td>62</td>\n",
       "      <td>5.951613</td>\n",
       "    </tr>\n",
       "    <tr>\n",
       "      <th>5</th>\n",
       "      <td>Harry Potter and the Goblet of Fire (Book 4)</td>\n",
       "      <td>J. K. Rowling</td>\n",
       "      <td>345</td>\n",
       "      <td>5.933333</td>\n",
       "    </tr>\n",
       "    <tr>\n",
       "      <th>7</th>\n",
       "      <td>Harry Potter and the Prisoner of Azkaban (Book 3)</td>\n",
       "      <td>J. K. Rowling</td>\n",
       "      <td>378</td>\n",
       "      <td>5.888889</td>\n",
       "    </tr>\n",
       "    <tr>\n",
       "      <th>...</th>\n",
       "      <td>...</td>\n",
       "      <td>...</td>\n",
       "      <td>...</td>\n",
       "      <td>...</td>\n",
       "    </tr>\n",
       "    <tr>\n",
       "      <th>6407</th>\n",
       "      <td>Man From St Petersburg</td>\n",
       "      <td>Ken Follett</td>\n",
       "      <td>51</td>\n",
       "      <td>1.039216</td>\n",
       "    </tr>\n",
       "    <tr>\n",
       "      <th>6408</th>\n",
       "      <td>Whirlwind</td>\n",
       "      <td>Clavell</td>\n",
       "      <td>52</td>\n",
       "      <td>1.038462</td>\n",
       "    </tr>\n",
       "    <tr>\n",
       "      <th>6410</th>\n",
       "      <td>Wild Animus</td>\n",
       "      <td>Rich Shapero</td>\n",
       "      <td>2249</td>\n",
       "      <td>1.034237</td>\n",
       "    </tr>\n",
       "    <tr>\n",
       "      <th>6411</th>\n",
       "      <td>Ssn</td>\n",
       "      <td>Tom Clancy</td>\n",
       "      <td>56</td>\n",
       "      <td>1.000000</td>\n",
       "    </tr>\n",
       "    <tr>\n",
       "      <th>6412</th>\n",
       "      <td>Ground Zero and Beyond</td>\n",
       "      <td>J. P. McCarthy</td>\n",
       "      <td>62</td>\n",
       "      <td>0.741935</td>\n",
       "    </tr>\n",
       "  </tbody>\n",
       "</table>\n",
       "<p>2160 rows × 4 columns</p>\n",
       "</div>"
      ],
      "text/plain": [
       "                                                 Book_title     Book_author  \\\n",
       "0     Free                                                   Paul Vincent     \n",
       "3     The Stand (The Complete and Uncut Edition)             Stephen King     \n",
       "4     Griffin &amp; Sabine: An Extraordinary Correspondence  Nick Bantock     \n",
       "5     Harry Potter and the Goblet of Fire (Book 4)           J. K. Rowling    \n",
       "7     Harry Potter and the Prisoner of Azkaban (Book 3)      J. K. Rowling    \n",
       "...                                                 ...                ...    \n",
       "6407  Man From St Petersburg                                 Ken Follett      \n",
       "6408  Whirlwind                                              Clavell          \n",
       "6410  Wild Animus                                            Rich Shapero     \n",
       "6411  Ssn                                                    Tom Clancy       \n",
       "6412  Ground Zero and Beyond                                 J. P. McCarthy   \n",
       "\n",
       "      Num Of Ratings  Avg_rating  \n",
       "0     51              8.039216    \n",
       "3     51              6.078431    \n",
       "4     62              5.951613    \n",
       "5     345             5.933333    \n",
       "7     378             5.888889    \n",
       "...   ...                  ...    \n",
       "6407  51              1.039216    \n",
       "6408  52              1.038462    \n",
       "6410  2249            1.034237    \n",
       "6411  56              1.000000    \n",
       "6412  62              0.741935    \n",
       "\n",
       "[2160 rows x 4 columns]"
      ]
     },
     "execution_count": 256,
     "metadata": {},
     "output_type": "execute_result"
    }
   ],
   "source": [
    "popular_df"
   ]
  },
  {
   "cell_type": "markdown",
   "id": "6a2ec8fd",
   "metadata": {},
   "source": [
    "### Collaborative Feature Modelling"
   ]
  },
  {
   "cell_type": "code",
   "execution_count": 269,
   "id": "898506c6",
   "metadata": {},
   "outputs": [
    {
     "data": {
      "text/html": [
       "<div>\n",
       "<style scoped>\n",
       "    .dataframe tbody tr th:only-of-type {\n",
       "        vertical-align: middle;\n",
       "    }\n",
       "\n",
       "    .dataframe tbody tr th {\n",
       "        vertical-align: top;\n",
       "    }\n",
       "\n",
       "    .dataframe thead th {\n",
       "        text-align: right;\n",
       "    }\n",
       "</style>\n",
       "<table border=\"1\" class=\"dataframe\">\n",
       "  <thead>\n",
       "    <tr style=\"text-align: right;\">\n",
       "      <th></th>\n",
       "      <th>User_id</th>\n",
       "      <th>Isbn</th>\n",
       "      <th>Rating</th>\n",
       "      <th>Book_title</th>\n",
       "      <th>Book_author</th>\n",
       "      <th>Year_of_publication</th>\n",
       "      <th>Publisher</th>\n",
       "    </tr>\n",
       "  </thead>\n",
       "  <tbody>\n",
       "    <tr>\n",
       "      <th>0</th>\n",
       "      <td>276725</td>\n",
       "      <td>034545104X</td>\n",
       "      <td>0</td>\n",
       "      <td>Flesh Tones: A Novel</td>\n",
       "      <td>M. J. Rose</td>\n",
       "      <td>2002</td>\n",
       "      <td>Ballantine Books</td>\n",
       "    </tr>\n",
       "    <tr>\n",
       "      <th>1</th>\n",
       "      <td>2313</td>\n",
       "      <td>034545104X</td>\n",
       "      <td>5</td>\n",
       "      <td>Flesh Tones: A Novel</td>\n",
       "      <td>M. J. Rose</td>\n",
       "      <td>2002</td>\n",
       "      <td>Ballantine Books</td>\n",
       "    </tr>\n",
       "    <tr>\n",
       "      <th>2</th>\n",
       "      <td>6543</td>\n",
       "      <td>034545104X</td>\n",
       "      <td>0</td>\n",
       "      <td>Flesh Tones: A Novel</td>\n",
       "      <td>M. J. Rose</td>\n",
       "      <td>2002</td>\n",
       "      <td>Ballantine Books</td>\n",
       "    </tr>\n",
       "    <tr>\n",
       "      <th>3</th>\n",
       "      <td>8680</td>\n",
       "      <td>034545104X</td>\n",
       "      <td>5</td>\n",
       "      <td>Flesh Tones: A Novel</td>\n",
       "      <td>M. J. Rose</td>\n",
       "      <td>2002</td>\n",
       "      <td>Ballantine Books</td>\n",
       "    </tr>\n",
       "    <tr>\n",
       "      <th>4</th>\n",
       "      <td>10314</td>\n",
       "      <td>034545104X</td>\n",
       "      <td>9</td>\n",
       "      <td>Flesh Tones: A Novel</td>\n",
       "      <td>M. J. Rose</td>\n",
       "      <td>2002</td>\n",
       "      <td>Ballantine Books</td>\n",
       "    </tr>\n",
       "    <tr>\n",
       "      <th>...</th>\n",
       "      <td>...</td>\n",
       "      <td>...</td>\n",
       "      <td>...</td>\n",
       "      <td>...</td>\n",
       "      <td>...</td>\n",
       "      <td>...</td>\n",
       "      <td>...</td>\n",
       "    </tr>\n",
       "    <tr>\n",
       "      <th>941098</th>\n",
       "      <td>250764</td>\n",
       "      <td>440106575</td>\n",
       "      <td>0</td>\n",
       "      <td>HIDDEN FIRES</td>\n",
       "      <td>JANETTE RADCLIFFE</td>\n",
       "      <td>1978</td>\n",
       "      <td>Dell</td>\n",
       "    </tr>\n",
       "    <tr>\n",
       "      <th>941099</th>\n",
       "      <td>250764</td>\n",
       "      <td>451157516</td>\n",
       "      <td>0</td>\n",
       "      <td>Cheyenne (Fortunes West, No 2)</td>\n",
       "      <td>A.R. Riefe</td>\n",
       "      <td>1988</td>\n",
       "      <td>New Amer Library (Mm)</td>\n",
       "    </tr>\n",
       "    <tr>\n",
       "      <th>941100</th>\n",
       "      <td>250764</td>\n",
       "      <td>048623715X</td>\n",
       "      <td>0</td>\n",
       "      <td>Glamorous Movie Stars of the Thirties: Paper Dolls</td>\n",
       "      <td>Tom Tierney</td>\n",
       "      <td>1982</td>\n",
       "      <td>Dover Publications</td>\n",
       "    </tr>\n",
       "    <tr>\n",
       "      <th>941101</th>\n",
       "      <td>250764</td>\n",
       "      <td>486256588</td>\n",
       "      <td>0</td>\n",
       "      <td>Schiaparelli Fashion Review: Paper Dolls in Full Color</td>\n",
       "      <td>Tom Tierney</td>\n",
       "      <td>1988</td>\n",
       "      <td>Dover Publications</td>\n",
       "    </tr>\n",
       "    <tr>\n",
       "      <th>941102</th>\n",
       "      <td>250764</td>\n",
       "      <td>515069434</td>\n",
       "      <td>0</td>\n",
       "      <td>Lady Laughing Eyes (To Have and to Hold)</td>\n",
       "      <td>Lee Damon</td>\n",
       "      <td>1984</td>\n",
       "      <td>Jove Books</td>\n",
       "    </tr>\n",
       "  </tbody>\n",
       "</table>\n",
       "<p>941103 rows × 7 columns</p>\n",
       "</div>"
      ],
      "text/plain": [
       "        User_id        Isbn  Rating  \\\n",
       "0       276725   034545104X  0        \n",
       "1       2313     034545104X  5        \n",
       "2       6543     034545104X  0        \n",
       "3       8680     034545104X  5        \n",
       "4       10314    034545104X  9        \n",
       "...       ...           ... ..        \n",
       "941098  250764   440106575   0        \n",
       "941099  250764   451157516   0        \n",
       "941100  250764   048623715X  0        \n",
       "941101  250764   486256588   0        \n",
       "941102  250764   515069434   0        \n",
       "\n",
       "                                                    Book_title  \\\n",
       "0       Flesh Tones: A Novel                                     \n",
       "1       Flesh Tones: A Novel                                     \n",
       "2       Flesh Tones: A Novel                                     \n",
       "3       Flesh Tones: A Novel                                     \n",
       "4       Flesh Tones: A Novel                                     \n",
       "...                      ...                                     \n",
       "941098  HIDDEN FIRES                                             \n",
       "941099  Cheyenne (Fortunes West, No 2)                           \n",
       "941100  Glamorous Movie Stars of the Thirties: Paper Dolls       \n",
       "941101  Schiaparelli Fashion Review: Paper Dolls in Full Color   \n",
       "941102  Lady Laughing Eyes (To Have and to Hold)                 \n",
       "\n",
       "              Book_author  Year_of_publication              Publisher  \n",
       "0       M. J. Rose         2002                 Ballantine Books       \n",
       "1       M. J. Rose         2002                 Ballantine Books       \n",
       "2       M. J. Rose         2002                 Ballantine Books       \n",
       "3       M. J. Rose         2002                 Ballantine Books       \n",
       "4       M. J. Rose         2002                 Ballantine Books       \n",
       "...            ...          ...                              ...       \n",
       "941098  JANETTE RADCLIFFE  1978                 Dell                   \n",
       "941099  A.R. Riefe         1988                 New Amer Library (Mm)  \n",
       "941100  Tom Tierney        1982                 Dover Publications     \n",
       "941101  Tom Tierney        1988                 Dover Publications     \n",
       "941102  Lee Damon          1984                 Jove Books             \n",
       "\n",
       "[941103 rows x 7 columns]"
      ]
     },
     "execution_count": 269,
     "metadata": {},
     "output_type": "execute_result"
    }
   ],
   "source": [
    "ratings_with_name"
   ]
  },
  {
   "cell_type": "code",
   "execution_count": 281,
   "id": "326a4ee6",
   "metadata": {
    "scrolled": true
   },
   "outputs": [
    {
     "data": {
      "text/plain": [
       "User_id\n",
       "2         1 \n",
       "8         17\n",
       "9         3 \n",
       "10        1 \n",
       "12        1 \n",
       "         .. \n",
       "278846    1 \n",
       "278849    4 \n",
       "278851    23\n",
       "278852    1 \n",
       "278854    8 \n",
       "Name: Rating, Length: 83644, dtype: int64"
      ]
     },
     "execution_count": 281,
     "metadata": {},
     "output_type": "execute_result"
    }
   ],
   "source": [
    "ratings_with_name.groupby(\"User_id\").count()[\"Rating\"]"
   ]
  },
  {
   "cell_type": "markdown",
   "id": "6d27e0f7",
   "metadata": {},
   "source": [
    "### Out of all users the above code shows that 83644 users have given atleast one ratings for a book\n"
   ]
  },
  {
   "cell_type": "code",
   "execution_count": 286,
   "id": "9c6d0870",
   "metadata": {},
   "outputs": [],
   "source": [
    "# Taking users that has given atleast 40 ratings:\n",
    "x=ratings_with_name.groupby(\"User_id\").count()[\"Rating\"]>=40\n",
    "users_that_gives_more_ratings = x[x].index"
   ]
  },
  {
   "cell_type": "code",
   "execution_count": 287,
   "id": "0f6268cf",
   "metadata": {},
   "outputs": [
    {
     "data": {
      "text/plain": [
       "(3419,)"
      ]
     },
     "execution_count": 287,
     "metadata": {},
     "output_type": "execute_result"
    }
   ],
   "source": [
    "users_that_gives_more_ratings.shape"
   ]
  },
  {
   "cell_type": "code",
   "execution_count": 288,
   "id": "b5d8b7bf",
   "metadata": {},
   "outputs": [
    {
     "data": {
      "text/plain": [
       "0         False\n",
       "1         False\n",
       "2         True \n",
       "3         False\n",
       "4         True \n",
       "          ...  \n",
       "941098    True \n",
       "941099    True \n",
       "941100    True \n",
       "941101    True \n",
       "941102    True \n",
       "Name: User_id, Length: 941103, dtype: bool"
      ]
     },
     "execution_count": 288,
     "metadata": {},
     "output_type": "execute_result"
    }
   ],
   "source": [
    "ratings_with_name[\"User_id\"].isin(users_that_gives_more_ratings)"
   ]
  },
  {
   "cell_type": "code",
   "execution_count": 298,
   "id": "e45770e2",
   "metadata": {},
   "outputs": [],
   "source": [
    "# Users that has given total of 50+ ratings. 660026 rows been created by 3419 users only.\n",
    "filtered_ratings= ratings_with_name[ratings_with_name [\"User_id\"].isin(users_that_gives_more_ratings)]"
   ]
  },
  {
   "cell_type": "code",
   "execution_count": 299,
   "id": "80833e64",
   "metadata": {},
   "outputs": [
    {
     "data": {
      "text/html": [
       "<div>\n",
       "<style scoped>\n",
       "    .dataframe tbody tr th:only-of-type {\n",
       "        vertical-align: middle;\n",
       "    }\n",
       "\n",
       "    .dataframe tbody tr th {\n",
       "        vertical-align: top;\n",
       "    }\n",
       "\n",
       "    .dataframe thead th {\n",
       "        text-align: right;\n",
       "    }\n",
       "</style>\n",
       "<table border=\"1\" class=\"dataframe\">\n",
       "  <thead>\n",
       "    <tr style=\"text-align: right;\">\n",
       "      <th></th>\n",
       "      <th>User_id</th>\n",
       "      <th>Isbn</th>\n",
       "      <th>Rating</th>\n",
       "      <th>Book_title</th>\n",
       "      <th>Book_author</th>\n",
       "      <th>Year_of_publication</th>\n",
       "      <th>Publisher</th>\n",
       "    </tr>\n",
       "  </thead>\n",
       "  <tbody>\n",
       "    <tr>\n",
       "      <th>2</th>\n",
       "      <td>6543</td>\n",
       "      <td>034545104X</td>\n",
       "      <td>0</td>\n",
       "      <td>Flesh Tones: A Novel</td>\n",
       "      <td>M. J. Rose</td>\n",
       "      <td>2002</td>\n",
       "      <td>Ballantine Books</td>\n",
       "    </tr>\n",
       "    <tr>\n",
       "      <th>4</th>\n",
       "      <td>10314</td>\n",
       "      <td>034545104X</td>\n",
       "      <td>9</td>\n",
       "      <td>Flesh Tones: A Novel</td>\n",
       "      <td>M. J. Rose</td>\n",
       "      <td>2002</td>\n",
       "      <td>Ballantine Books</td>\n",
       "    </tr>\n",
       "    <tr>\n",
       "      <th>5</th>\n",
       "      <td>23768</td>\n",
       "      <td>034545104X</td>\n",
       "      <td>0</td>\n",
       "      <td>Flesh Tones: A Novel</td>\n",
       "      <td>M. J. Rose</td>\n",
       "      <td>2002</td>\n",
       "      <td>Ballantine Books</td>\n",
       "    </tr>\n",
       "    <tr>\n",
       "      <th>7</th>\n",
       "      <td>28523</td>\n",
       "      <td>034545104X</td>\n",
       "      <td>0</td>\n",
       "      <td>Flesh Tones: A Novel</td>\n",
       "      <td>M. J. Rose</td>\n",
       "      <td>2002</td>\n",
       "      <td>Ballantine Books</td>\n",
       "    </tr>\n",
       "    <tr>\n",
       "      <th>10</th>\n",
       "      <td>56157</td>\n",
       "      <td>034545104X</td>\n",
       "      <td>0</td>\n",
       "      <td>Flesh Tones: A Novel</td>\n",
       "      <td>M. J. Rose</td>\n",
       "      <td>2002</td>\n",
       "      <td>Ballantine Books</td>\n",
       "    </tr>\n",
       "    <tr>\n",
       "      <th>...</th>\n",
       "      <td>...</td>\n",
       "      <td>...</td>\n",
       "      <td>...</td>\n",
       "      <td>...</td>\n",
       "      <td>...</td>\n",
       "      <td>...</td>\n",
       "      <td>...</td>\n",
       "    </tr>\n",
       "    <tr>\n",
       "      <th>941098</th>\n",
       "      <td>250764</td>\n",
       "      <td>440106575</td>\n",
       "      <td>0</td>\n",
       "      <td>HIDDEN FIRES</td>\n",
       "      <td>JANETTE RADCLIFFE</td>\n",
       "      <td>1978</td>\n",
       "      <td>Dell</td>\n",
       "    </tr>\n",
       "    <tr>\n",
       "      <th>941099</th>\n",
       "      <td>250764</td>\n",
       "      <td>451157516</td>\n",
       "      <td>0</td>\n",
       "      <td>Cheyenne (Fortunes West, No 2)</td>\n",
       "      <td>A.R. Riefe</td>\n",
       "      <td>1988</td>\n",
       "      <td>New Amer Library (Mm)</td>\n",
       "    </tr>\n",
       "    <tr>\n",
       "      <th>941100</th>\n",
       "      <td>250764</td>\n",
       "      <td>048623715X</td>\n",
       "      <td>0</td>\n",
       "      <td>Glamorous Movie Stars of the Thirties: Paper Dolls</td>\n",
       "      <td>Tom Tierney</td>\n",
       "      <td>1982</td>\n",
       "      <td>Dover Publications</td>\n",
       "    </tr>\n",
       "    <tr>\n",
       "      <th>941101</th>\n",
       "      <td>250764</td>\n",
       "      <td>486256588</td>\n",
       "      <td>0</td>\n",
       "      <td>Schiaparelli Fashion Review: Paper Dolls in Full Color</td>\n",
       "      <td>Tom Tierney</td>\n",
       "      <td>1988</td>\n",
       "      <td>Dover Publications</td>\n",
       "    </tr>\n",
       "    <tr>\n",
       "      <th>941102</th>\n",
       "      <td>250764</td>\n",
       "      <td>515069434</td>\n",
       "      <td>0</td>\n",
       "      <td>Lady Laughing Eyes (To Have and to Hold)</td>\n",
       "      <td>Lee Damon</td>\n",
       "      <td>1984</td>\n",
       "      <td>Jove Books</td>\n",
       "    </tr>\n",
       "  </tbody>\n",
       "</table>\n",
       "<p>660026 rows × 7 columns</p>\n",
       "</div>"
      ],
      "text/plain": [
       "        User_id        Isbn  Rating  \\\n",
       "2       6543     034545104X  0        \n",
       "4       10314    034545104X  9        \n",
       "5       23768    034545104X  0        \n",
       "7       28523    034545104X  0        \n",
       "10      56157    034545104X  0        \n",
       "...       ...           ... ..        \n",
       "941098  250764   440106575   0        \n",
       "941099  250764   451157516   0        \n",
       "941100  250764   048623715X  0        \n",
       "941101  250764   486256588   0        \n",
       "941102  250764   515069434   0        \n",
       "\n",
       "                                                    Book_title  \\\n",
       "2       Flesh Tones: A Novel                                     \n",
       "4       Flesh Tones: A Novel                                     \n",
       "5       Flesh Tones: A Novel                                     \n",
       "7       Flesh Tones: A Novel                                     \n",
       "10      Flesh Tones: A Novel                                     \n",
       "...                      ...                                     \n",
       "941098  HIDDEN FIRES                                             \n",
       "941099  Cheyenne (Fortunes West, No 2)                           \n",
       "941100  Glamorous Movie Stars of the Thirties: Paper Dolls       \n",
       "941101  Schiaparelli Fashion Review: Paper Dolls in Full Color   \n",
       "941102  Lady Laughing Eyes (To Have and to Hold)                 \n",
       "\n",
       "              Book_author  Year_of_publication              Publisher  \n",
       "2       M. J. Rose         2002                 Ballantine Books       \n",
       "4       M. J. Rose         2002                 Ballantine Books       \n",
       "5       M. J. Rose         2002                 Ballantine Books       \n",
       "7       M. J. Rose         2002                 Ballantine Books       \n",
       "10      M. J. Rose         2002                 Ballantine Books       \n",
       "...            ...          ...                              ...       \n",
       "941098  JANETTE RADCLIFFE  1978                 Dell                   \n",
       "941099  A.R. Riefe         1988                 New Amer Library (Mm)  \n",
       "941100  Tom Tierney        1982                 Dover Publications     \n",
       "941101  Tom Tierney        1988                 Dover Publications     \n",
       "941102  Lee Damon          1984                 Jove Books             \n",
       "\n",
       "[660026 rows x 7 columns]"
      ]
     },
     "execution_count": 299,
     "metadata": {},
     "output_type": "execute_result"
    }
   ],
   "source": [
    "filtered_ratings"
   ]
  },
  {
   "cell_type": "code",
   "execution_count": 300,
   "id": "67fc471b",
   "metadata": {},
   "outputs": [
    {
     "data": {
      "text/plain": [
       "(1048429, 3)"
      ]
     },
     "execution_count": 300,
     "metadata": {},
     "output_type": "execute_result"
    }
   ],
   "source": [
    "df_ratings.shape"
   ]
  },
  {
   "cell_type": "code",
   "execution_count": 301,
   "id": "3011759a",
   "metadata": {},
   "outputs": [
    {
     "data": {
      "text/plain": [
       "(278858, 3)"
      ]
     },
     "execution_count": 301,
     "metadata": {},
     "output_type": "execute_result"
    }
   ],
   "source": [
    "df_user.shape"
   ]
  },
  {
   "cell_type": "markdown",
   "id": "39d1f473",
   "metadata": {},
   "source": [
    "### Out of 1048429 ratings, 660026  ratings is produced by 3419 users. So basically 0.3 % of the total users did almost 62% of the ratings"
   ]
  },
  {
   "cell_type": "code",
   "execution_count": 317,
   "id": "b00e850a",
   "metadata": {},
   "outputs": [
    {
     "data": {
      "text/plain": [
       "Index([''Salem's Lot', '09-Nov', '10 Lb. Penalty', '101 Dalmatians',\n",
       "       '14,000 Things to Be Happy About', '16 Lighthouse Road', '1984',\n",
       "       '1st to Die: A Novel', '2010: Odyssey Two', '204 Rosewood Lane',\n",
       "       ...\n",
       "       'Zen and the Art of Motorcycle Maintenance: An Inquiry into Values',\n",
       "       'Zia', 'Zlata's Diary: A Child's Life in Sarajevo',\n",
       "       'Zodiac: The Eco-Thriller', 'Zombies of the Gene Pool', 'Zoya',\n",
       "       '\\O\\\" Is for Outlaw\"',\n",
       "       '\\Surely You're Joking, Mr. Feynman!\\\": Adventures of a Curious Character\"',\n",
       "       'e', 'stardust'],\n",
       "      dtype='object', name='Book_title', length=4591)"
      ]
     },
     "execution_count": 317,
     "metadata": {},
     "output_type": "execute_result"
    }
   ],
   "source": [
    "y = filtered_ratings.groupby(\"Book_title\").count()[\"Rating\"]>=20\n",
    "famous_books=y[y].index\n",
    "famous_books"
   ]
  },
  {
   "cell_type": "code",
   "execution_count": 318,
   "id": "9c3480ba",
   "metadata": {},
   "outputs": [
    {
     "data": {
      "text/html": [
       "<div>\n",
       "<style scoped>\n",
       "    .dataframe tbody tr th:only-of-type {\n",
       "        vertical-align: middle;\n",
       "    }\n",
       "\n",
       "    .dataframe tbody tr th {\n",
       "        vertical-align: top;\n",
       "    }\n",
       "\n",
       "    .dataframe thead th {\n",
       "        text-align: right;\n",
       "    }\n",
       "</style>\n",
       "<table border=\"1\" class=\"dataframe\">\n",
       "  <thead>\n",
       "    <tr style=\"text-align: right;\">\n",
       "      <th></th>\n",
       "      <th>User_id</th>\n",
       "      <th>Isbn</th>\n",
       "      <th>Rating</th>\n",
       "      <th>Book_title</th>\n",
       "      <th>Book_author</th>\n",
       "      <th>Year_of_publication</th>\n",
       "      <th>Publisher</th>\n",
       "    </tr>\n",
       "  </thead>\n",
       "  <tbody>\n",
       "    <tr>\n",
       "      <th>2</th>\n",
       "      <td>6543</td>\n",
       "      <td>034545104X</td>\n",
       "      <td>0</td>\n",
       "      <td>Flesh Tones: A Novel</td>\n",
       "      <td>M. J. Rose</td>\n",
       "      <td>2002</td>\n",
       "      <td>Ballantine Books</td>\n",
       "    </tr>\n",
       "    <tr>\n",
       "      <th>4</th>\n",
       "      <td>10314</td>\n",
       "      <td>034545104X</td>\n",
       "      <td>9</td>\n",
       "      <td>Flesh Tones: A Novel</td>\n",
       "      <td>M. J. Rose</td>\n",
       "      <td>2002</td>\n",
       "      <td>Ballantine Books</td>\n",
       "    </tr>\n",
       "    <tr>\n",
       "      <th>5</th>\n",
       "      <td>23768</td>\n",
       "      <td>034545104X</td>\n",
       "      <td>0</td>\n",
       "      <td>Flesh Tones: A Novel</td>\n",
       "      <td>M. J. Rose</td>\n",
       "      <td>2002</td>\n",
       "      <td>Ballantine Books</td>\n",
       "    </tr>\n",
       "    <tr>\n",
       "      <th>7</th>\n",
       "      <td>28523</td>\n",
       "      <td>034545104X</td>\n",
       "      <td>0</td>\n",
       "      <td>Flesh Tones: A Novel</td>\n",
       "      <td>M. J. Rose</td>\n",
       "      <td>2002</td>\n",
       "      <td>Ballantine Books</td>\n",
       "    </tr>\n",
       "    <tr>\n",
       "      <th>10</th>\n",
       "      <td>56157</td>\n",
       "      <td>034545104X</td>\n",
       "      <td>0</td>\n",
       "      <td>Flesh Tones: A Novel</td>\n",
       "      <td>M. J. Rose</td>\n",
       "      <td>2002</td>\n",
       "      <td>Ballantine Books</td>\n",
       "    </tr>\n",
       "    <tr>\n",
       "      <th>...</th>\n",
       "      <td>...</td>\n",
       "      <td>...</td>\n",
       "      <td>...</td>\n",
       "      <td>...</td>\n",
       "      <td>...</td>\n",
       "      <td>...</td>\n",
       "      <td>...</td>\n",
       "    </tr>\n",
       "    <tr>\n",
       "      <th>940847</th>\n",
       "      <td>250405</td>\n",
       "      <td>694521507</td>\n",
       "      <td>0</td>\n",
       "      <td>Worst Fears Realized</td>\n",
       "      <td>Stuart Woods</td>\n",
       "      <td>1999</td>\n",
       "      <td>HarperAudio</td>\n",
       "    </tr>\n",
       "    <tr>\n",
       "      <th>940896</th>\n",
       "      <td>250405</td>\n",
       "      <td>1558002650</td>\n",
       "      <td>0</td>\n",
       "      <td>Memories of Midnight</td>\n",
       "      <td>Sidney Sheldon</td>\n",
       "      <td>1990</td>\n",
       "      <td>Audio Literature</td>\n",
       "    </tr>\n",
       "    <tr>\n",
       "      <th>940909</th>\n",
       "      <td>250405</td>\n",
       "      <td>1570426910</td>\n",
       "      <td>0</td>\n",
       "      <td>The Drowning People</td>\n",
       "      <td>Richard Mason</td>\n",
       "      <td>1999</td>\n",
       "      <td>Time Warner Audio Major</td>\n",
       "    </tr>\n",
       "    <tr>\n",
       "      <th>940956</th>\n",
       "      <td>250510</td>\n",
       "      <td>553502662</td>\n",
       "      <td>7</td>\n",
       "      <td>Disobedience</td>\n",
       "      <td>Jane Hamilton</td>\n",
       "      <td>2000</td>\n",
       "      <td>Random House Audio Publishing Group</td>\n",
       "    </tr>\n",
       "    <tr>\n",
       "      <th>941042</th>\n",
       "      <td>250709</td>\n",
       "      <td>451167120</td>\n",
       "      <td>5</td>\n",
       "      <td>The Fool's Run</td>\n",
       "      <td>John Camp</td>\n",
       "      <td>1990</td>\n",
       "      <td>New Amer Library</td>\n",
       "    </tr>\n",
       "  </tbody>\n",
       "</table>\n",
       "<p>222174 rows × 7 columns</p>\n",
       "</div>"
      ],
      "text/plain": [
       "        User_id        Isbn  Rating            Book_title     Book_author  \\\n",
       "2       6543     034545104X  0       Flesh Tones: A Novel  M. J. Rose       \n",
       "4       10314    034545104X  9       Flesh Tones: A Novel  M. J. Rose       \n",
       "5       23768    034545104X  0       Flesh Tones: A Novel  M. J. Rose       \n",
       "7       28523    034545104X  0       Flesh Tones: A Novel  M. J. Rose       \n",
       "10      56157    034545104X  0       Flesh Tones: A Novel  M. J. Rose       \n",
       "...       ...           ... ..                        ...         ...       \n",
       "940847  250405   694521507   0       Worst Fears Realized  Stuart Woods     \n",
       "940896  250405   1558002650  0       Memories of Midnight  Sidney Sheldon   \n",
       "940909  250405   1570426910  0       The Drowning People   Richard Mason    \n",
       "940956  250510   553502662   7       Disobedience          Jane Hamilton    \n",
       "941042  250709   451167120   5       The Fool's Run        John Camp        \n",
       "\n",
       "        Year_of_publication                            Publisher  \n",
       "2       2002                 Ballantine Books                     \n",
       "4       2002                 Ballantine Books                     \n",
       "5       2002                 Ballantine Books                     \n",
       "7       2002                 Ballantine Books                     \n",
       "10      2002                 Ballantine Books                     \n",
       "...      ...                              ...                     \n",
       "940847  1999                 HarperAudio                          \n",
       "940896  1990                 Audio Literature                     \n",
       "940909  1999                 Time Warner Audio Major              \n",
       "940956  2000                 Random House Audio Publishing Group  \n",
       "941042  1990                 New Amer Library                     \n",
       "\n",
       "[222174 rows x 7 columns]"
      ]
     },
     "execution_count": 318,
     "metadata": {},
     "output_type": "execute_result"
    }
   ],
   "source": [
    "final_ratings=filtered_ratings[filtered_ratings[\"Book_title\"].isin(famous_books)]\n",
    "final_ratings"
   ]
  },
  {
   "cell_type": "code",
   "execution_count": 319,
   "id": "264254e8",
   "metadata": {},
   "outputs": [
    {
     "data": {
      "text/html": [
       "<div>\n",
       "<style scoped>\n",
       "    .dataframe tbody tr th:only-of-type {\n",
       "        vertical-align: middle;\n",
       "    }\n",
       "\n",
       "    .dataframe tbody tr th {\n",
       "        vertical-align: top;\n",
       "    }\n",
       "\n",
       "    .dataframe thead th {\n",
       "        text-align: right;\n",
       "    }\n",
       "</style>\n",
       "<table border=\"1\" class=\"dataframe\">\n",
       "  <thead>\n",
       "    <tr style=\"text-align: right;\">\n",
       "      <th></th>\n",
       "      <th>User_id</th>\n",
       "      <th>Isbn</th>\n",
       "      <th>Rating</th>\n",
       "      <th>Book_title</th>\n",
       "      <th>Book_author</th>\n",
       "      <th>Year_of_publication</th>\n",
       "      <th>Publisher</th>\n",
       "    </tr>\n",
       "  </thead>\n",
       "  <tbody>\n",
       "    <tr>\n",
       "      <th>2</th>\n",
       "      <td>6543</td>\n",
       "      <td>034545104X</td>\n",
       "      <td>0</td>\n",
       "      <td>Flesh Tones: A Novel</td>\n",
       "      <td>M. J. Rose</td>\n",
       "      <td>2002</td>\n",
       "      <td>Ballantine Books</td>\n",
       "    </tr>\n",
       "    <tr>\n",
       "      <th>4</th>\n",
       "      <td>10314</td>\n",
       "      <td>034545104X</td>\n",
       "      <td>9</td>\n",
       "      <td>Flesh Tones: A Novel</td>\n",
       "      <td>M. J. Rose</td>\n",
       "      <td>2002</td>\n",
       "      <td>Ballantine Books</td>\n",
       "    </tr>\n",
       "    <tr>\n",
       "      <th>5</th>\n",
       "      <td>23768</td>\n",
       "      <td>034545104X</td>\n",
       "      <td>0</td>\n",
       "      <td>Flesh Tones: A Novel</td>\n",
       "      <td>M. J. Rose</td>\n",
       "      <td>2002</td>\n",
       "      <td>Ballantine Books</td>\n",
       "    </tr>\n",
       "    <tr>\n",
       "      <th>7</th>\n",
       "      <td>28523</td>\n",
       "      <td>034545104X</td>\n",
       "      <td>0</td>\n",
       "      <td>Flesh Tones: A Novel</td>\n",
       "      <td>M. J. Rose</td>\n",
       "      <td>2002</td>\n",
       "      <td>Ballantine Books</td>\n",
       "    </tr>\n",
       "    <tr>\n",
       "      <th>10</th>\n",
       "      <td>56157</td>\n",
       "      <td>034545104X</td>\n",
       "      <td>0</td>\n",
       "      <td>Flesh Tones: A Novel</td>\n",
       "      <td>M. J. Rose</td>\n",
       "      <td>2002</td>\n",
       "      <td>Ballantine Books</td>\n",
       "    </tr>\n",
       "    <tr>\n",
       "      <th>...</th>\n",
       "      <td>...</td>\n",
       "      <td>...</td>\n",
       "      <td>...</td>\n",
       "      <td>...</td>\n",
       "      <td>...</td>\n",
       "      <td>...</td>\n",
       "      <td>...</td>\n",
       "    </tr>\n",
       "    <tr>\n",
       "      <th>940847</th>\n",
       "      <td>250405</td>\n",
       "      <td>694521507</td>\n",
       "      <td>0</td>\n",
       "      <td>Worst Fears Realized</td>\n",
       "      <td>Stuart Woods</td>\n",
       "      <td>1999</td>\n",
       "      <td>HarperAudio</td>\n",
       "    </tr>\n",
       "    <tr>\n",
       "      <th>940896</th>\n",
       "      <td>250405</td>\n",
       "      <td>1558002650</td>\n",
       "      <td>0</td>\n",
       "      <td>Memories of Midnight</td>\n",
       "      <td>Sidney Sheldon</td>\n",
       "      <td>1990</td>\n",
       "      <td>Audio Literature</td>\n",
       "    </tr>\n",
       "    <tr>\n",
       "      <th>940909</th>\n",
       "      <td>250405</td>\n",
       "      <td>1570426910</td>\n",
       "      <td>0</td>\n",
       "      <td>The Drowning People</td>\n",
       "      <td>Richard Mason</td>\n",
       "      <td>1999</td>\n",
       "      <td>Time Warner Audio Major</td>\n",
       "    </tr>\n",
       "    <tr>\n",
       "      <th>940956</th>\n",
       "      <td>250510</td>\n",
       "      <td>553502662</td>\n",
       "      <td>7</td>\n",
       "      <td>Disobedience</td>\n",
       "      <td>Jane Hamilton</td>\n",
       "      <td>2000</td>\n",
       "      <td>Random House Audio Publishing Group</td>\n",
       "    </tr>\n",
       "    <tr>\n",
       "      <th>941042</th>\n",
       "      <td>250709</td>\n",
       "      <td>451167120</td>\n",
       "      <td>5</td>\n",
       "      <td>The Fool's Run</td>\n",
       "      <td>John Camp</td>\n",
       "      <td>1990</td>\n",
       "      <td>New Amer Library</td>\n",
       "    </tr>\n",
       "  </tbody>\n",
       "</table>\n",
       "<p>222174 rows × 7 columns</p>\n",
       "</div>"
      ],
      "text/plain": [
       "        User_id        Isbn  Rating            Book_title     Book_author  \\\n",
       "2       6543     034545104X  0       Flesh Tones: A Novel  M. J. Rose       \n",
       "4       10314    034545104X  9       Flesh Tones: A Novel  M. J. Rose       \n",
       "5       23768    034545104X  0       Flesh Tones: A Novel  M. J. Rose       \n",
       "7       28523    034545104X  0       Flesh Tones: A Novel  M. J. Rose       \n",
       "10      56157    034545104X  0       Flesh Tones: A Novel  M. J. Rose       \n",
       "...       ...           ... ..                        ...         ...       \n",
       "940847  250405   694521507   0       Worst Fears Realized  Stuart Woods     \n",
       "940896  250405   1558002650  0       Memories of Midnight  Sidney Sheldon   \n",
       "940909  250405   1570426910  0       The Drowning People   Richard Mason    \n",
       "940956  250510   553502662   7       Disobedience          Jane Hamilton    \n",
       "941042  250709   451167120   5       The Fool's Run        John Camp        \n",
       "\n",
       "        Year_of_publication                            Publisher  \n",
       "2       2002                 Ballantine Books                     \n",
       "4       2002                 Ballantine Books                     \n",
       "5       2002                 Ballantine Books                     \n",
       "7       2002                 Ballantine Books                     \n",
       "10      2002                 Ballantine Books                     \n",
       "...      ...                              ...                     \n",
       "940847  1999                 HarperAudio                          \n",
       "940896  1990                 Audio Literature                     \n",
       "940909  1999                 Time Warner Audio Major              \n",
       "940956  2000                 Random House Audio Publishing Group  \n",
       "941042  1990                 New Amer Library                     \n",
       "\n",
       "[222174 rows x 7 columns]"
      ]
     },
     "execution_count": 319,
     "metadata": {},
     "output_type": "execute_result"
    }
   ],
   "source": [
    "final_ratings.drop_duplicates()"
   ]
  },
  {
   "cell_type": "code",
   "execution_count": 321,
   "id": "25a84443",
   "metadata": {},
   "outputs": [],
   "source": [
    "pt=final_ratings.pivot_table(index=\"Book_title\", columns=\"User_id\", values=\"Rating\")"
   ]
  },
  {
   "cell_type": "code",
   "execution_count": 322,
   "id": "8e6388b6",
   "metadata": {},
   "outputs": [
    {
     "data": {
      "text/html": [
       "<div>\n",
       "<style scoped>\n",
       "    .dataframe tbody tr th:only-of-type {\n",
       "        vertical-align: middle;\n",
       "    }\n",
       "\n",
       "    .dataframe tbody tr th {\n",
       "        vertical-align: top;\n",
       "    }\n",
       "\n",
       "    .dataframe thead th {\n",
       "        text-align: right;\n",
       "    }\n",
       "</style>\n",
       "<table border=\"1\" class=\"dataframe\">\n",
       "  <thead>\n",
       "    <tr style=\"text-align: right;\">\n",
       "      <th>User_id</th>\n",
       "      <th>243</th>\n",
       "      <th>254</th>\n",
       "      <th>507</th>\n",
       "      <th>638</th>\n",
       "      <th>643</th>\n",
       "      <th>651</th>\n",
       "      <th>741</th>\n",
       "      <th>805</th>\n",
       "      <th>882</th>\n",
       "      <th>929</th>\n",
       "      <th>...</th>\n",
       "      <th>277965</th>\n",
       "      <th>278026</th>\n",
       "      <th>278137</th>\n",
       "      <th>278144</th>\n",
       "      <th>278188</th>\n",
       "      <th>278356</th>\n",
       "      <th>278418</th>\n",
       "      <th>278582</th>\n",
       "      <th>278633</th>\n",
       "      <th>278843</th>\n",
       "    </tr>\n",
       "    <tr>\n",
       "      <th>Book_title</th>\n",
       "      <th></th>\n",
       "      <th></th>\n",
       "      <th></th>\n",
       "      <th></th>\n",
       "      <th></th>\n",
       "      <th></th>\n",
       "      <th></th>\n",
       "      <th></th>\n",
       "      <th></th>\n",
       "      <th></th>\n",
       "      <th></th>\n",
       "      <th></th>\n",
       "      <th></th>\n",
       "      <th></th>\n",
       "      <th></th>\n",
       "      <th></th>\n",
       "      <th></th>\n",
       "      <th></th>\n",
       "      <th></th>\n",
       "      <th></th>\n",
       "      <th></th>\n",
       "    </tr>\n",
       "  </thead>\n",
       "  <tbody>\n",
       "    <tr>\n",
       "      <th>'Salem's Lot</th>\n",
       "      <td>0.0</td>\n",
       "      <td>0.0</td>\n",
       "      <td>0.0</td>\n",
       "      <td>0.0</td>\n",
       "      <td>0.0</td>\n",
       "      <td>0.0</td>\n",
       "      <td>0.0</td>\n",
       "      <td>0.0</td>\n",
       "      <td>0.0</td>\n",
       "      <td>0.0</td>\n",
       "      <td>...</td>\n",
       "      <td>0.0</td>\n",
       "      <td>0.0</td>\n",
       "      <td>0.0</td>\n",
       "      <td>0.0</td>\n",
       "      <td>0.0</td>\n",
       "      <td>0.0</td>\n",
       "      <td>0.0</td>\n",
       "      <td>0.0</td>\n",
       "      <td>0.0</td>\n",
       "      <td>0.0</td>\n",
       "    </tr>\n",
       "    <tr>\n",
       "      <th>09-Nov</th>\n",
       "      <td>0.0</td>\n",
       "      <td>0.0</td>\n",
       "      <td>0.0</td>\n",
       "      <td>0.0</td>\n",
       "      <td>0.0</td>\n",
       "      <td>0.0</td>\n",
       "      <td>0.0</td>\n",
       "      <td>0.0</td>\n",
       "      <td>0.0</td>\n",
       "      <td>0.0</td>\n",
       "      <td>...</td>\n",
       "      <td>0.0</td>\n",
       "      <td>0.0</td>\n",
       "      <td>0.0</td>\n",
       "      <td>0.0</td>\n",
       "      <td>0.0</td>\n",
       "      <td>0.0</td>\n",
       "      <td>0.0</td>\n",
       "      <td>0.0</td>\n",
       "      <td>0.0</td>\n",
       "      <td>0.0</td>\n",
       "    </tr>\n",
       "    <tr>\n",
       "      <th>10 Lb. Penalty</th>\n",
       "      <td>0.0</td>\n",
       "      <td>0.0</td>\n",
       "      <td>0.0</td>\n",
       "      <td>0.0</td>\n",
       "      <td>0.0</td>\n",
       "      <td>0.0</td>\n",
       "      <td>0.0</td>\n",
       "      <td>0.0</td>\n",
       "      <td>0.0</td>\n",
       "      <td>0.0</td>\n",
       "      <td>...</td>\n",
       "      <td>0.0</td>\n",
       "      <td>0.0</td>\n",
       "      <td>0.0</td>\n",
       "      <td>0.0</td>\n",
       "      <td>0.0</td>\n",
       "      <td>0.0</td>\n",
       "      <td>0.0</td>\n",
       "      <td>0.0</td>\n",
       "      <td>0.0</td>\n",
       "      <td>0.0</td>\n",
       "    </tr>\n",
       "    <tr>\n",
       "      <th>101 Dalmatians</th>\n",
       "      <td>0.0</td>\n",
       "      <td>0.0</td>\n",
       "      <td>0.0</td>\n",
       "      <td>0.0</td>\n",
       "      <td>0.0</td>\n",
       "      <td>0.0</td>\n",
       "      <td>0.0</td>\n",
       "      <td>0.0</td>\n",
       "      <td>0.0</td>\n",
       "      <td>0.0</td>\n",
       "      <td>...</td>\n",
       "      <td>0.0</td>\n",
       "      <td>0.0</td>\n",
       "      <td>0.0</td>\n",
       "      <td>0.0</td>\n",
       "      <td>0.0</td>\n",
       "      <td>0.0</td>\n",
       "      <td>0.0</td>\n",
       "      <td>0.0</td>\n",
       "      <td>0.0</td>\n",
       "      <td>0.0</td>\n",
       "    </tr>\n",
       "    <tr>\n",
       "      <th>14,000 Things to Be Happy About</th>\n",
       "      <td>0.0</td>\n",
       "      <td>0.0</td>\n",
       "      <td>0.0</td>\n",
       "      <td>0.0</td>\n",
       "      <td>0.0</td>\n",
       "      <td>0.0</td>\n",
       "      <td>0.0</td>\n",
       "      <td>0.0</td>\n",
       "      <td>0.0</td>\n",
       "      <td>8.0</td>\n",
       "      <td>...</td>\n",
       "      <td>0.0</td>\n",
       "      <td>0.0</td>\n",
       "      <td>0.0</td>\n",
       "      <td>0.0</td>\n",
       "      <td>0.0</td>\n",
       "      <td>0.0</td>\n",
       "      <td>0.0</td>\n",
       "      <td>0.0</td>\n",
       "      <td>0.0</td>\n",
       "      <td>0.0</td>\n",
       "    </tr>\n",
       "    <tr>\n",
       "      <th>...</th>\n",
       "      <td>...</td>\n",
       "      <td>...</td>\n",
       "      <td>...</td>\n",
       "      <td>...</td>\n",
       "      <td>...</td>\n",
       "      <td>...</td>\n",
       "      <td>...</td>\n",
       "      <td>...</td>\n",
       "      <td>...</td>\n",
       "      <td>...</td>\n",
       "      <td>...</td>\n",
       "      <td>...</td>\n",
       "      <td>...</td>\n",
       "      <td>...</td>\n",
       "      <td>...</td>\n",
       "      <td>...</td>\n",
       "      <td>...</td>\n",
       "      <td>...</td>\n",
       "      <td>...</td>\n",
       "      <td>...</td>\n",
       "      <td>...</td>\n",
       "    </tr>\n",
       "    <tr>\n",
       "      <th>Zoya</th>\n",
       "      <td>0.0</td>\n",
       "      <td>0.0</td>\n",
       "      <td>0.0</td>\n",
       "      <td>0.0</td>\n",
       "      <td>0.0</td>\n",
       "      <td>0.0</td>\n",
       "      <td>0.0</td>\n",
       "      <td>0.0</td>\n",
       "      <td>0.0</td>\n",
       "      <td>0.0</td>\n",
       "      <td>...</td>\n",
       "      <td>0.0</td>\n",
       "      <td>0.0</td>\n",
       "      <td>0.0</td>\n",
       "      <td>0.0</td>\n",
       "      <td>0.0</td>\n",
       "      <td>0.0</td>\n",
       "      <td>0.0</td>\n",
       "      <td>0.0</td>\n",
       "      <td>0.0</td>\n",
       "      <td>0.0</td>\n",
       "    </tr>\n",
       "    <tr>\n",
       "      <th>\\O\\\" Is for Outlaw\"</th>\n",
       "      <td>0.0</td>\n",
       "      <td>0.0</td>\n",
       "      <td>0.0</td>\n",
       "      <td>0.0</td>\n",
       "      <td>0.0</td>\n",
       "      <td>0.0</td>\n",
       "      <td>0.0</td>\n",
       "      <td>0.0</td>\n",
       "      <td>0.0</td>\n",
       "      <td>0.0</td>\n",
       "      <td>...</td>\n",
       "      <td>0.0</td>\n",
       "      <td>0.0</td>\n",
       "      <td>0.0</td>\n",
       "      <td>0.0</td>\n",
       "      <td>0.0</td>\n",
       "      <td>0.0</td>\n",
       "      <td>0.0</td>\n",
       "      <td>0.0</td>\n",
       "      <td>0.0</td>\n",
       "      <td>0.0</td>\n",
       "    </tr>\n",
       "    <tr>\n",
       "      <th>\\Surely You're Joking, Mr. Feynman!\\\": Adventures of a Curious Character\"</th>\n",
       "      <td>0.0</td>\n",
       "      <td>0.0</td>\n",
       "      <td>0.0</td>\n",
       "      <td>0.0</td>\n",
       "      <td>0.0</td>\n",
       "      <td>0.0</td>\n",
       "      <td>0.0</td>\n",
       "      <td>0.0</td>\n",
       "      <td>0.0</td>\n",
       "      <td>0.0</td>\n",
       "      <td>...</td>\n",
       "      <td>0.0</td>\n",
       "      <td>0.0</td>\n",
       "      <td>0.0</td>\n",
       "      <td>0.0</td>\n",
       "      <td>0.0</td>\n",
       "      <td>0.0</td>\n",
       "      <td>0.0</td>\n",
       "      <td>0.0</td>\n",
       "      <td>0.0</td>\n",
       "      <td>0.0</td>\n",
       "    </tr>\n",
       "    <tr>\n",
       "      <th>e</th>\n",
       "      <td>0.0</td>\n",
       "      <td>0.0</td>\n",
       "      <td>0.0</td>\n",
       "      <td>0.0</td>\n",
       "      <td>0.0</td>\n",
       "      <td>0.0</td>\n",
       "      <td>0.0</td>\n",
       "      <td>0.0</td>\n",
       "      <td>0.0</td>\n",
       "      <td>0.0</td>\n",
       "      <td>...</td>\n",
       "      <td>0.0</td>\n",
       "      <td>0.0</td>\n",
       "      <td>0.0</td>\n",
       "      <td>0.0</td>\n",
       "      <td>0.0</td>\n",
       "      <td>0.0</td>\n",
       "      <td>0.0</td>\n",
       "      <td>0.0</td>\n",
       "      <td>0.0</td>\n",
       "      <td>0.0</td>\n",
       "    </tr>\n",
       "    <tr>\n",
       "      <th>stardust</th>\n",
       "      <td>0.0</td>\n",
       "      <td>0.0</td>\n",
       "      <td>0.0</td>\n",
       "      <td>0.0</td>\n",
       "      <td>0.0</td>\n",
       "      <td>8.0</td>\n",
       "      <td>0.0</td>\n",
       "      <td>0.0</td>\n",
       "      <td>0.0</td>\n",
       "      <td>0.0</td>\n",
       "      <td>...</td>\n",
       "      <td>0.0</td>\n",
       "      <td>0.0</td>\n",
       "      <td>0.0</td>\n",
       "      <td>0.0</td>\n",
       "      <td>0.0</td>\n",
       "      <td>0.0</td>\n",
       "      <td>0.0</td>\n",
       "      <td>0.0</td>\n",
       "      <td>0.0</td>\n",
       "      <td>0.0</td>\n",
       "    </tr>\n",
       "  </tbody>\n",
       "</table>\n",
       "<p>4591 rows × 3383 columns</p>\n",
       "</div>"
      ],
      "text/plain": [
       "User_id                                                                    243  \\\n",
       "Book_title                                                                       \n",
       "'Salem's Lot                                                               0.0   \n",
       "09-Nov                                                                     0.0   \n",
       "10 Lb. Penalty                                                             0.0   \n",
       "101 Dalmatians                                                             0.0   \n",
       "14,000 Things to Be Happy About                                            0.0   \n",
       "...                                                                        ...   \n",
       "Zoya                                                                       0.0   \n",
       "\\O\\\" Is for Outlaw\"                                                        0.0   \n",
       "\\Surely You're Joking, Mr. Feynman!\\\": Adventures of a Curious Character\"  0.0   \n",
       "e                                                                          0.0   \n",
       "stardust                                                                   0.0   \n",
       "\n",
       "User_id                                                                    254  \\\n",
       "Book_title                                                                       \n",
       "'Salem's Lot                                                               0.0   \n",
       "09-Nov                                                                     0.0   \n",
       "10 Lb. Penalty                                                             0.0   \n",
       "101 Dalmatians                                                             0.0   \n",
       "14,000 Things to Be Happy About                                            0.0   \n",
       "...                                                                        ...   \n",
       "Zoya                                                                       0.0   \n",
       "\\O\\\" Is for Outlaw\"                                                        0.0   \n",
       "\\Surely You're Joking, Mr. Feynman!\\\": Adventures of a Curious Character\"  0.0   \n",
       "e                                                                          0.0   \n",
       "stardust                                                                   0.0   \n",
       "\n",
       "User_id                                                                    507  \\\n",
       "Book_title                                                                       \n",
       "'Salem's Lot                                                               0.0   \n",
       "09-Nov                                                                     0.0   \n",
       "10 Lb. Penalty                                                             0.0   \n",
       "101 Dalmatians                                                             0.0   \n",
       "14,000 Things to Be Happy About                                            0.0   \n",
       "...                                                                        ...   \n",
       "Zoya                                                                       0.0   \n",
       "\\O\\\" Is for Outlaw\"                                                        0.0   \n",
       "\\Surely You're Joking, Mr. Feynman!\\\": Adventures of a Curious Character\"  0.0   \n",
       "e                                                                          0.0   \n",
       "stardust                                                                   0.0   \n",
       "\n",
       "User_id                                                                    638  \\\n",
       "Book_title                                                                       \n",
       "'Salem's Lot                                                               0.0   \n",
       "09-Nov                                                                     0.0   \n",
       "10 Lb. Penalty                                                             0.0   \n",
       "101 Dalmatians                                                             0.0   \n",
       "14,000 Things to Be Happy About                                            0.0   \n",
       "...                                                                        ...   \n",
       "Zoya                                                                       0.0   \n",
       "\\O\\\" Is for Outlaw\"                                                        0.0   \n",
       "\\Surely You're Joking, Mr. Feynman!\\\": Adventures of a Curious Character\"  0.0   \n",
       "e                                                                          0.0   \n",
       "stardust                                                                   0.0   \n",
       "\n",
       "User_id                                                                    643  \\\n",
       "Book_title                                                                       \n",
       "'Salem's Lot                                                               0.0   \n",
       "09-Nov                                                                     0.0   \n",
       "10 Lb. Penalty                                                             0.0   \n",
       "101 Dalmatians                                                             0.0   \n",
       "14,000 Things to Be Happy About                                            0.0   \n",
       "...                                                                        ...   \n",
       "Zoya                                                                       0.0   \n",
       "\\O\\\" Is for Outlaw\"                                                        0.0   \n",
       "\\Surely You're Joking, Mr. Feynman!\\\": Adventures of a Curious Character\"  0.0   \n",
       "e                                                                          0.0   \n",
       "stardust                                                                   0.0   \n",
       "\n",
       "User_id                                                                    651  \\\n",
       "Book_title                                                                       \n",
       "'Salem's Lot                                                               0.0   \n",
       "09-Nov                                                                     0.0   \n",
       "10 Lb. Penalty                                                             0.0   \n",
       "101 Dalmatians                                                             0.0   \n",
       "14,000 Things to Be Happy About                                            0.0   \n",
       "...                                                                        ...   \n",
       "Zoya                                                                       0.0   \n",
       "\\O\\\" Is for Outlaw\"                                                        0.0   \n",
       "\\Surely You're Joking, Mr. Feynman!\\\": Adventures of a Curious Character\"  0.0   \n",
       "e                                                                          0.0   \n",
       "stardust                                                                   8.0   \n",
       "\n",
       "User_id                                                                    741  \\\n",
       "Book_title                                                                       \n",
       "'Salem's Lot                                                               0.0   \n",
       "09-Nov                                                                     0.0   \n",
       "10 Lb. Penalty                                                             0.0   \n",
       "101 Dalmatians                                                             0.0   \n",
       "14,000 Things to Be Happy About                                            0.0   \n",
       "...                                                                        ...   \n",
       "Zoya                                                                       0.0   \n",
       "\\O\\\" Is for Outlaw\"                                                        0.0   \n",
       "\\Surely You're Joking, Mr. Feynman!\\\": Adventures of a Curious Character\"  0.0   \n",
       "e                                                                          0.0   \n",
       "stardust                                                                   0.0   \n",
       "\n",
       "User_id                                                                    805  \\\n",
       "Book_title                                                                       \n",
       "'Salem's Lot                                                               0.0   \n",
       "09-Nov                                                                     0.0   \n",
       "10 Lb. Penalty                                                             0.0   \n",
       "101 Dalmatians                                                             0.0   \n",
       "14,000 Things to Be Happy About                                            0.0   \n",
       "...                                                                        ...   \n",
       "Zoya                                                                       0.0   \n",
       "\\O\\\" Is for Outlaw\"                                                        0.0   \n",
       "\\Surely You're Joking, Mr. Feynman!\\\": Adventures of a Curious Character\"  0.0   \n",
       "e                                                                          0.0   \n",
       "stardust                                                                   0.0   \n",
       "\n",
       "User_id                                                                    882  \\\n",
       "Book_title                                                                       \n",
       "'Salem's Lot                                                               0.0   \n",
       "09-Nov                                                                     0.0   \n",
       "10 Lb. Penalty                                                             0.0   \n",
       "101 Dalmatians                                                             0.0   \n",
       "14,000 Things to Be Happy About                                            0.0   \n",
       "...                                                                        ...   \n",
       "Zoya                                                                       0.0   \n",
       "\\O\\\" Is for Outlaw\"                                                        0.0   \n",
       "\\Surely You're Joking, Mr. Feynman!\\\": Adventures of a Curious Character\"  0.0   \n",
       "e                                                                          0.0   \n",
       "stardust                                                                   0.0   \n",
       "\n",
       "User_id                                                                    929  \\\n",
       "Book_title                                                                       \n",
       "'Salem's Lot                                                               0.0   \n",
       "09-Nov                                                                     0.0   \n",
       "10 Lb. Penalty                                                             0.0   \n",
       "101 Dalmatians                                                             0.0   \n",
       "14,000 Things to Be Happy About                                            8.0   \n",
       "...                                                                        ...   \n",
       "Zoya                                                                       0.0   \n",
       "\\O\\\" Is for Outlaw\"                                                        0.0   \n",
       "\\Surely You're Joking, Mr. Feynman!\\\": Adventures of a Curious Character\"  0.0   \n",
       "e                                                                          0.0   \n",
       "stardust                                                                   0.0   \n",
       "\n",
       "User_id                                                                    ...  \\\n",
       "Book_title                                                                 ...   \n",
       "'Salem's Lot                                                               ...   \n",
       "09-Nov                                                                     ...   \n",
       "10 Lb. Penalty                                                             ...   \n",
       "101 Dalmatians                                                             ...   \n",
       "14,000 Things to Be Happy About                                            ...   \n",
       "...                                                                        ...   \n",
       "Zoya                                                                       ...   \n",
       "\\O\\\" Is for Outlaw\"                                                        ...   \n",
       "\\Surely You're Joking, Mr. Feynman!\\\": Adventures of a Curious Character\"  ...   \n",
       "e                                                                          ...   \n",
       "stardust                                                                   ...   \n",
       "\n",
       "User_id                                                                    277965  \\\n",
       "Book_title                                                                          \n",
       "'Salem's Lot                                                               0.0      \n",
       "09-Nov                                                                     0.0      \n",
       "10 Lb. Penalty                                                             0.0      \n",
       "101 Dalmatians                                                             0.0      \n",
       "14,000 Things to Be Happy About                                            0.0      \n",
       "...                                                                        ...      \n",
       "Zoya                                                                       0.0      \n",
       "\\O\\\" Is for Outlaw\"                                                        0.0      \n",
       "\\Surely You're Joking, Mr. Feynman!\\\": Adventures of a Curious Character\"  0.0      \n",
       "e                                                                          0.0      \n",
       "stardust                                                                   0.0      \n",
       "\n",
       "User_id                                                                    278026  \\\n",
       "Book_title                                                                          \n",
       "'Salem's Lot                                                               0.0      \n",
       "09-Nov                                                                     0.0      \n",
       "10 Lb. Penalty                                                             0.0      \n",
       "101 Dalmatians                                                             0.0      \n",
       "14,000 Things to Be Happy About                                            0.0      \n",
       "...                                                                        ...      \n",
       "Zoya                                                                       0.0      \n",
       "\\O\\\" Is for Outlaw\"                                                        0.0      \n",
       "\\Surely You're Joking, Mr. Feynman!\\\": Adventures of a Curious Character\"  0.0      \n",
       "e                                                                          0.0      \n",
       "stardust                                                                   0.0      \n",
       "\n",
       "User_id                                                                    278137  \\\n",
       "Book_title                                                                          \n",
       "'Salem's Lot                                                               0.0      \n",
       "09-Nov                                                                     0.0      \n",
       "10 Lb. Penalty                                                             0.0      \n",
       "101 Dalmatians                                                             0.0      \n",
       "14,000 Things to Be Happy About                                            0.0      \n",
       "...                                                                        ...      \n",
       "Zoya                                                                       0.0      \n",
       "\\O\\\" Is for Outlaw\"                                                        0.0      \n",
       "\\Surely You're Joking, Mr. Feynman!\\\": Adventures of a Curious Character\"  0.0      \n",
       "e                                                                          0.0      \n",
       "stardust                                                                   0.0      \n",
       "\n",
       "User_id                                                                    278144  \\\n",
       "Book_title                                                                          \n",
       "'Salem's Lot                                                               0.0      \n",
       "09-Nov                                                                     0.0      \n",
       "10 Lb. Penalty                                                             0.0      \n",
       "101 Dalmatians                                                             0.0      \n",
       "14,000 Things to Be Happy About                                            0.0      \n",
       "...                                                                        ...      \n",
       "Zoya                                                                       0.0      \n",
       "\\O\\\" Is for Outlaw\"                                                        0.0      \n",
       "\\Surely You're Joking, Mr. Feynman!\\\": Adventures of a Curious Character\"  0.0      \n",
       "e                                                                          0.0      \n",
       "stardust                                                                   0.0      \n",
       "\n",
       "User_id                                                                    278188  \\\n",
       "Book_title                                                                          \n",
       "'Salem's Lot                                                               0.0      \n",
       "09-Nov                                                                     0.0      \n",
       "10 Lb. Penalty                                                             0.0      \n",
       "101 Dalmatians                                                             0.0      \n",
       "14,000 Things to Be Happy About                                            0.0      \n",
       "...                                                                        ...      \n",
       "Zoya                                                                       0.0      \n",
       "\\O\\\" Is for Outlaw\"                                                        0.0      \n",
       "\\Surely You're Joking, Mr. Feynman!\\\": Adventures of a Curious Character\"  0.0      \n",
       "e                                                                          0.0      \n",
       "stardust                                                                   0.0      \n",
       "\n",
       "User_id                                                                    278356  \\\n",
       "Book_title                                                                          \n",
       "'Salem's Lot                                                               0.0      \n",
       "09-Nov                                                                     0.0      \n",
       "10 Lb. Penalty                                                             0.0      \n",
       "101 Dalmatians                                                             0.0      \n",
       "14,000 Things to Be Happy About                                            0.0      \n",
       "...                                                                        ...      \n",
       "Zoya                                                                       0.0      \n",
       "\\O\\\" Is for Outlaw\"                                                        0.0      \n",
       "\\Surely You're Joking, Mr. Feynman!\\\": Adventures of a Curious Character\"  0.0      \n",
       "e                                                                          0.0      \n",
       "stardust                                                                   0.0      \n",
       "\n",
       "User_id                                                                    278418  \\\n",
       "Book_title                                                                          \n",
       "'Salem's Lot                                                               0.0      \n",
       "09-Nov                                                                     0.0      \n",
       "10 Lb. Penalty                                                             0.0      \n",
       "101 Dalmatians                                                             0.0      \n",
       "14,000 Things to Be Happy About                                            0.0      \n",
       "...                                                                        ...      \n",
       "Zoya                                                                       0.0      \n",
       "\\O\\\" Is for Outlaw\"                                                        0.0      \n",
       "\\Surely You're Joking, Mr. Feynman!\\\": Adventures of a Curious Character\"  0.0      \n",
       "e                                                                          0.0      \n",
       "stardust                                                                   0.0      \n",
       "\n",
       "User_id                                                                    278582  \\\n",
       "Book_title                                                                          \n",
       "'Salem's Lot                                                               0.0      \n",
       "09-Nov                                                                     0.0      \n",
       "10 Lb. Penalty                                                             0.0      \n",
       "101 Dalmatians                                                             0.0      \n",
       "14,000 Things to Be Happy About                                            0.0      \n",
       "...                                                                        ...      \n",
       "Zoya                                                                       0.0      \n",
       "\\O\\\" Is for Outlaw\"                                                        0.0      \n",
       "\\Surely You're Joking, Mr. Feynman!\\\": Adventures of a Curious Character\"  0.0      \n",
       "e                                                                          0.0      \n",
       "stardust                                                                   0.0      \n",
       "\n",
       "User_id                                                                    278633  \\\n",
       "Book_title                                                                          \n",
       "'Salem's Lot                                                               0.0      \n",
       "09-Nov                                                                     0.0      \n",
       "10 Lb. Penalty                                                             0.0      \n",
       "101 Dalmatians                                                             0.0      \n",
       "14,000 Things to Be Happy About                                            0.0      \n",
       "...                                                                        ...      \n",
       "Zoya                                                                       0.0      \n",
       "\\O\\\" Is for Outlaw\"                                                        0.0      \n",
       "\\Surely You're Joking, Mr. Feynman!\\\": Adventures of a Curious Character\"  0.0      \n",
       "e                                                                          0.0      \n",
       "stardust                                                                   0.0      \n",
       "\n",
       "User_id                                                                    278843  \n",
       "Book_title                                                                         \n",
       "'Salem's Lot                                                               0.0     \n",
       "09-Nov                                                                     0.0     \n",
       "10 Lb. Penalty                                                             0.0     \n",
       "101 Dalmatians                                                             0.0     \n",
       "14,000 Things to Be Happy About                                            0.0     \n",
       "...                                                                        ...     \n",
       "Zoya                                                                       0.0     \n",
       "\\O\\\" Is for Outlaw\"                                                        0.0     \n",
       "\\Surely You're Joking, Mr. Feynman!\\\": Adventures of a Curious Character\"  0.0     \n",
       "e                                                                          0.0     \n",
       "stardust                                                                   0.0     \n",
       "\n",
       "[4591 rows x 3383 columns]"
      ]
     },
     "execution_count": 322,
     "metadata": {},
     "output_type": "execute_result"
    }
   ],
   "source": [
    "pt.fillna(0, inplace=True)\n",
    "pt"
   ]
  },
  {
   "cell_type": "code",
   "execution_count": 323,
   "id": "5c8328a1",
   "metadata": {},
   "outputs": [],
   "source": [
    "from sklearn.metrics.pairwise import cosine_similarity"
   ]
  },
  {
   "cell_type": "code",
   "execution_count": 324,
   "id": "a2f3a858",
   "metadata": {},
   "outputs": [],
   "source": [
    "similarity_score=cosine_similarity(pt)"
   ]
  },
  {
   "cell_type": "code",
   "execution_count": 325,
   "id": "fc3db6be",
   "metadata": {},
   "outputs": [
    {
     "data": {
      "text/plain": [
       "(4591, 4591)"
      ]
     },
     "execution_count": 325,
     "metadata": {},
     "output_type": "execute_result"
    }
   ],
   "source": [
    "similarity_score.shape"
   ]
  },
  {
   "cell_type": "code",
   "execution_count": 333,
   "id": "c30ef40e",
   "metadata": {
    "scrolled": true
   },
   "outputs": [
    {
     "data": {
      "text/plain": [
       "[(1194, 0.3584885719585767),\n",
       " (4212, 0.3584885719585767),\n",
       " (1740, 0.3133753935840093),\n",
       " (2182, 0.3133753935840093),\n",
       " (2441, 0.3071480204107596),\n",
       " (4447, 0.2991577020911751),\n",
       " (3028, 0.2975660764253299),\n",
       " (1693, 0.29701393213651417),\n",
       " (2132, 0.293685281289753)]"
      ]
     },
     "execution_count": 333,
     "metadata": {},
     "output_type": "execute_result"
    }
   ],
   "source": [
    "# Enumerate function shows the index and the similarity, We have entered 0 in similarity_score so it shows all the distance \n",
    "sorted(list(enumerate(similarity_score[1])), key=lambda x:x[1], reverse=True)[1:10]"
   ]
  },
  {
   "cell_type": "code",
   "execution_count": 376,
   "id": "18b79cb3",
   "metadata": {},
   "outputs": [],
   "source": [
    "def recommend(book_names):\n",
    "    index=np.where(pt.index==book_names)[0][0]\n",
    "    Recommendation= sorted(list(enumerate(similarity_score[index])), key=lambda x:x[1], reverse=True)[1:10]\n",
    "    for i in Recommendation:\n",
    "        print(pt.index[i[0]])"
   ]
  },
  {
   "cell_type": "code",
   "execution_count": 377,
   "id": "32f8c650",
   "metadata": {},
   "outputs": [
    {
     "name": "stdout",
     "output_type": "stream",
     "text": [
      "Scarlatti Inheritance\n",
      "Birds of Prey\n",
      "To Cut a Long Story Short\n",
      "Legacy\n",
      "Texas\n",
      "Superstitious\n",
      "'Salem's Lot\n",
      "Shadows\n",
      "The Magic Circle\n"
     ]
    }
   ],
   "source": [
    "recommend(\"The Matarese Circle\")"
   ]
  },
  {
   "cell_type": "markdown",
   "id": "9d6b1de5",
   "metadata": {},
   "source": [
    "### Prediction based on books that are similar"
   ]
  },
  {
   "cell_type": "code",
   "execution_count": 374,
   "id": "972ccf2e",
   "metadata": {},
   "outputs": [],
   "source": [
    "def recommend(user_id):\n",
    "    index1=np.where(pt.columns==user_id)[0][0]\n",
    "    Recommendation= sorted(list(enumerate(similarity_score[index1])), key=lambda x:x[1], reverse=True)[1:10]\n",
    "    for i in Recommendation:\n",
    "        print(pt.index[i[0]])"
   ]
  },
  {
   "cell_type": "code",
   "execution_count": 375,
   "id": "866d793d",
   "metadata": {},
   "outputs": [
    {
     "name": "stdout",
     "output_type": "stream",
     "text": [
      "The Matarese Circle\n",
      "The Shining\n",
      "Scarlatti Inheritance\n",
      "Stephen King's Danse Macabre\n",
      "Startide Rising (The Uplift Saga, Book 2)\n",
      "Birds of Prey\n",
      "Maniac Magee\n",
      "Rose Madder\n",
      "Skeleton Crew\n"
     ]
    }
   ],
   "source": [
    "recommend(243)"
   ]
  },
  {
   "cell_type": "markdown",
   "id": "0bca2ca7",
   "metadata": {},
   "source": [
    "### Prediction based on user_id and there preferance that are similar"
   ]
  },
  {
   "cell_type": "markdown",
   "id": "951e11d3",
   "metadata": {},
   "source": [
    "### Use RMSE to evaluate the predictions"
   ]
  },
  {
   "cell_type": "code",
   "execution_count": 474,
   "id": "58706524",
   "metadata": {
    "scrolled": true
   },
   "outputs": [
    {
     "data": {
      "text/html": [
       "<div>\n",
       "<style scoped>\n",
       "    .dataframe tbody tr th:only-of-type {\n",
       "        vertical-align: middle;\n",
       "    }\n",
       "\n",
       "    .dataframe tbody tr th {\n",
       "        vertical-align: top;\n",
       "    }\n",
       "\n",
       "    .dataframe thead th {\n",
       "        text-align: right;\n",
       "    }\n",
       "</style>\n",
       "<table border=\"1\" class=\"dataframe\">\n",
       "  <thead>\n",
       "    <tr style=\"text-align: right;\">\n",
       "      <th></th>\n",
       "      <th>User_id</th>\n",
       "      <th>Age</th>\n",
       "      <th>Country</th>\n",
       "      <th>Isbn</th>\n",
       "      <th>Rating</th>\n",
       "      <th>Book_title</th>\n",
       "      <th>Book_author</th>\n",
       "      <th>Year_of_publication</th>\n",
       "      <th>Publisher</th>\n",
       "    </tr>\n",
       "  </thead>\n",
       "  <tbody>\n",
       "    <tr>\n",
       "      <th>0</th>\n",
       "      <td>2</td>\n",
       "      <td>18.0</td>\n",
       "      <td>usa</td>\n",
       "      <td>195153448</td>\n",
       "      <td>0</td>\n",
       "      <td>Classical Mythology</td>\n",
       "      <td>Mark P. O. Morford</td>\n",
       "      <td>2002</td>\n",
       "      <td>Oxford University Press</td>\n",
       "    </tr>\n",
       "    <tr>\n",
       "      <th>1</th>\n",
       "      <td>8</td>\n",
       "      <td>32.0</td>\n",
       "      <td>canada</td>\n",
       "      <td>2005018</td>\n",
       "      <td>5</td>\n",
       "      <td>Clara Callan</td>\n",
       "      <td>Richard Bruce Wright</td>\n",
       "      <td>2001</td>\n",
       "      <td>HarperFlamingo Canada</td>\n",
       "    </tr>\n",
       "    <tr>\n",
       "      <th>2</th>\n",
       "      <td>11400</td>\n",
       "      <td>49.0</td>\n",
       "      <td>canada</td>\n",
       "      <td>2005018</td>\n",
       "      <td>0</td>\n",
       "      <td>Clara Callan</td>\n",
       "      <td>Richard Bruce Wright</td>\n",
       "      <td>2001</td>\n",
       "      <td>HarperFlamingo Canada</td>\n",
       "    </tr>\n",
       "    <tr>\n",
       "      <th>3</th>\n",
       "      <td>11676</td>\n",
       "      <td>32.0</td>\n",
       "      <td>nan</td>\n",
       "      <td>2005018</td>\n",
       "      <td>8</td>\n",
       "      <td>Clara Callan</td>\n",
       "      <td>Richard Bruce Wright</td>\n",
       "      <td>2001</td>\n",
       "      <td>HarperFlamingo Canada</td>\n",
       "    </tr>\n",
       "    <tr>\n",
       "      <th>4</th>\n",
       "      <td>41385</td>\n",
       "      <td>32.0</td>\n",
       "      <td>canada</td>\n",
       "      <td>2005018</td>\n",
       "      <td>0</td>\n",
       "      <td>Clara Callan</td>\n",
       "      <td>Richard Bruce Wright</td>\n",
       "      <td>2001</td>\n",
       "      <td>HarperFlamingo Canada</td>\n",
       "    </tr>\n",
       "  </tbody>\n",
       "</table>\n",
       "</div>"
      ],
      "text/plain": [
       "  User_id   Age Country       Isbn  Rating           Book_title  \\\n",
       "0  2       18.0  usa     195153448  0       Classical Mythology   \n",
       "1  8       32.0  canada  2005018    5       Clara Callan          \n",
       "2  11400   49.0  canada  2005018    0       Clara Callan          \n",
       "3  11676   32.0  nan     2005018    8       Clara Callan          \n",
       "4  41385   32.0  canada  2005018    0       Clara Callan          \n",
       "\n",
       "            Book_author  Year_of_publication                Publisher  \n",
       "0  Mark P. O. Morford    2002                 Oxford University Press  \n",
       "1  Richard Bruce Wright  2001                 HarperFlamingo Canada    \n",
       "2  Richard Bruce Wright  2001                 HarperFlamingo Canada    \n",
       "3  Richard Bruce Wright  2001                 HarperFlamingo Canada    \n",
       "4  Richard Bruce Wright  2001                 HarperFlamingo Canada    "
      ]
     },
     "execution_count": 474,
     "metadata": {},
     "output_type": "execute_result"
    }
   ],
   "source": [
    "df.head()"
   ]
  },
  {
   "cell_type": "code",
   "execution_count": 554,
   "id": "484776e1",
   "metadata": {
    "scrolled": true
   },
   "outputs": [
    {
     "data": {
      "text/plain": [
       "(932668, 9)"
      ]
     },
     "execution_count": 554,
     "metadata": {},
     "output_type": "execute_result"
    }
   ],
   "source": [
    "df.shape"
   ]
  },
  {
   "cell_type": "code",
   "execution_count": 556,
   "id": "fc41f339",
   "metadata": {},
   "outputs": [
    {
     "data": {
      "text/plain": [
       "User_id                0\n",
       "Age                    0\n",
       "Country                0\n",
       "Isbn                   0\n",
       "Rating                 0\n",
       "Book_title             0\n",
       "Book_author            0\n",
       "Year_of_publication    0\n",
       "Publisher              0\n",
       "dtype: int64"
      ]
     },
     "execution_count": 556,
     "metadata": {},
     "output_type": "execute_result"
    }
   ],
   "source": [
    "df.isnull().sum()"
   ]
  },
  {
   "cell_type": "code",
   "execution_count": 475,
   "id": "78db81a8",
   "metadata": {},
   "outputs": [],
   "source": [
    "filtered_df = df[(df['Rating'] >= 1) & (df['Rating'] <= 10)]"
   ]
  },
  {
   "cell_type": "code",
   "execution_count": 476,
   "id": "c692a67c",
   "metadata": {},
   "outputs": [],
   "source": [
    "sampled_df = filtered_df.sample(n=10000, random_state=42) "
   ]
  },
  {
   "cell_type": "code",
   "execution_count": 477,
   "id": "80cb5f15",
   "metadata": {},
   "outputs": [],
   "source": [
    "df_new = sampled_df.copy()"
   ]
  },
  {
   "cell_type": "code",
   "execution_count": 478,
   "id": "9ad5dbbe",
   "metadata": {
    "scrolled": true
   },
   "outputs": [
    {
     "data": {
      "text/plain": [
       "(10000, 9)"
      ]
     },
     "execution_count": 478,
     "metadata": {},
     "output_type": "execute_result"
    }
   ],
   "source": [
    "df_new.shape"
   ]
  },
  {
   "cell_type": "code",
   "execution_count": 479,
   "id": "c3bfa71e",
   "metadata": {},
   "outputs": [
    {
     "name": "stdout",
     "output_type": "stream",
     "text": [
      "Num. of Users: 6084\n",
      "Num of Books: 8522\n"
     ]
    }
   ],
   "source": [
    "n_users = df_new.User_id.nunique()\n",
    "n_books = df_new.Isbn.nunique()\n",
    "\n",
    "print('Num. of Users: '+ str(n_users))\n",
    "print('Num of Books: '+str(n_books))"
   ]
  },
  {
   "cell_type": "code",
   "execution_count": 480,
   "id": "bac2ace4",
   "metadata": {},
   "outputs": [
    {
     "name": "stdout",
     "output_type": "stream",
     "text": [
      " Length of isbn List: 8522\n"
     ]
    }
   ],
   "source": [
    "isbn_list = df_new.Isbn.unique()\n",
    "print(\" Length of isbn List:\", len(isbn_list))\n",
    "def get_isbn_numeric_id(Isbn):\n",
    "    #print (\"  isbn is:\" , isbn)\n",
    "    itemindex = np.where(isbn_list==Isbn)\n",
    "    return itemindex[0][0]"
   ]
  },
  {
   "cell_type": "code",
   "execution_count": 481,
   "id": "9ff61446",
   "metadata": {},
   "outputs": [
    {
     "name": "stdout",
     "output_type": "stream",
     "text": [
      " Length of user_id List: 6084\n"
     ]
    }
   ],
   "source": [
    "user_id_list = df_new.User_id.unique()\n",
    "print(\" Length of user_id List:\", len(user_id_list))\n",
    "def get_user_id_numeric_id(User_id):\n",
    "    itemindex = np.where(user_id_list==User_id)\n",
    "    return itemindex[0][0]"
   ]
  },
  {
   "cell_type": "code",
   "execution_count": 482,
   "id": "42b08ae8",
   "metadata": {},
   "outputs": [],
   "source": [
    "df_new['User_id_order'] = df_new['User_id'].apply(get_user_id_numeric_id)"
   ]
  },
  {
   "cell_type": "code",
   "execution_count": 483,
   "id": "82e34b06",
   "metadata": {},
   "outputs": [],
   "source": [
    "df_new['Isbn_id'] = df_new['Isbn'].apply(get_isbn_numeric_id)"
   ]
  },
  {
   "cell_type": "code",
   "execution_count": 484,
   "id": "508a8566",
   "metadata": {
    "scrolled": true
   },
   "outputs": [
    {
     "data": {
      "text/html": [
       "<div>\n",
       "<style scoped>\n",
       "    .dataframe tbody tr th:only-of-type {\n",
       "        vertical-align: middle;\n",
       "    }\n",
       "\n",
       "    .dataframe tbody tr th {\n",
       "        vertical-align: top;\n",
       "    }\n",
       "\n",
       "    .dataframe thead th {\n",
       "        text-align: right;\n",
       "    }\n",
       "</style>\n",
       "<table border=\"1\" class=\"dataframe\">\n",
       "  <thead>\n",
       "    <tr style=\"text-align: right;\">\n",
       "      <th></th>\n",
       "      <th>User_id</th>\n",
       "      <th>Age</th>\n",
       "      <th>Country</th>\n",
       "      <th>Isbn</th>\n",
       "      <th>Rating</th>\n",
       "      <th>Book_title</th>\n",
       "      <th>Book_author</th>\n",
       "      <th>Year_of_publication</th>\n",
       "      <th>Publisher</th>\n",
       "      <th>User_id_order</th>\n",
       "      <th>Isbn_id</th>\n",
       "    </tr>\n",
       "  </thead>\n",
       "  <tbody>\n",
       "    <tr>\n",
       "      <th>839945</th>\n",
       "      <td>140358</td>\n",
       "      <td>32.0</td>\n",
       "      <td>usa</td>\n",
       "      <td>960714006</td>\n",
       "      <td>5</td>\n",
       "      <td>Master Key to Good Golf</td>\n",
       "      <td>Leslie King</td>\n",
       "      <td>1979</td>\n",
       "      <td>Golf Associates</td>\n",
       "      <td>0</td>\n",
       "      <td>0</td>\n",
       "    </tr>\n",
       "    <tr>\n",
       "      <th>320420</th>\n",
       "      <td>188685</td>\n",
       "      <td>21.0</td>\n",
       "      <td>usa</td>\n",
       "      <td>316289124</td>\n",
       "      <td>8</td>\n",
       "      <td>Mr. Midshipman Hornblower (Hornblower Saga)</td>\n",
       "      <td>C.S. Forester</td>\n",
       "      <td>1984</td>\n",
       "      <td>Back Bay Books</td>\n",
       "      <td>1</td>\n",
       "      <td>1</td>\n",
       "    </tr>\n",
       "  </tbody>\n",
       "</table>\n",
       "</div>"
      ],
      "text/plain": [
       "       User_id   Age Country       Isbn  Rating  \\\n",
       "839945  140358  32.0  usa     960714006  5        \n",
       "320420  188685  21.0  usa     316289124  8        \n",
       "\n",
       "                                         Book_title    Book_author  \\\n",
       "839945  Master Key to Good Golf                      Leslie King     \n",
       "320420  Mr. Midshipman Hornblower (Hornblower Saga)  C.S. Forester   \n",
       "\n",
       "        Year_of_publication        Publisher  User_id_order  Isbn_id  \n",
       "839945  1979                 Golf Associates  0              0        \n",
       "320420  1984                 Back Bay Books   1              1        "
      ]
     },
     "execution_count": 484,
     "metadata": {},
     "output_type": "execute_result"
    }
   ],
   "source": [
    "df_new.head(2)"
   ]
  },
  {
   "cell_type": "code",
   "execution_count": 485,
   "id": "aef40202",
   "metadata": {},
   "outputs": [
    {
     "data": {
      "text/html": [
       "<div>\n",
       "<style scoped>\n",
       "    .dataframe tbody tr th:only-of-type {\n",
       "        vertical-align: middle;\n",
       "    }\n",
       "\n",
       "    .dataframe tbody tr th {\n",
       "        vertical-align: top;\n",
       "    }\n",
       "\n",
       "    .dataframe thead th {\n",
       "        text-align: right;\n",
       "    }\n",
       "</style>\n",
       "<table border=\"1\" class=\"dataframe\">\n",
       "  <thead>\n",
       "    <tr style=\"text-align: right;\">\n",
       "      <th></th>\n",
       "      <th>User_id_order</th>\n",
       "      <th>Isbn_id</th>\n",
       "      <th>Rating</th>\n",
       "      <th>Book_title</th>\n",
       "      <th>Book_author</th>\n",
       "      <th>Year_of_publication</th>\n",
       "      <th>Publisher</th>\n",
       "      <th>Isbn</th>\n",
       "      <th>User_id</th>\n",
       "    </tr>\n",
       "  </thead>\n",
       "  <tbody>\n",
       "    <tr>\n",
       "      <th>839945</th>\n",
       "      <td>0</td>\n",
       "      <td>0</td>\n",
       "      <td>5</td>\n",
       "      <td>Master Key to Good Golf</td>\n",
       "      <td>Leslie King</td>\n",
       "      <td>1979</td>\n",
       "      <td>Golf Associates</td>\n",
       "      <td>960714006</td>\n",
       "      <td>140358</td>\n",
       "    </tr>\n",
       "    <tr>\n",
       "      <th>320420</th>\n",
       "      <td>1</td>\n",
       "      <td>1</td>\n",
       "      <td>8</td>\n",
       "      <td>Mr. Midshipman Hornblower (Hornblower Saga)</td>\n",
       "      <td>C.S. Forester</td>\n",
       "      <td>1984</td>\n",
       "      <td>Back Bay Books</td>\n",
       "      <td>316289124</td>\n",
       "      <td>188685</td>\n",
       "    </tr>\n",
       "    <tr>\n",
       "      <th>604292</th>\n",
       "      <td>2</td>\n",
       "      <td>2</td>\n",
       "      <td>6</td>\n",
       "      <td>A Hole in the Earth</td>\n",
       "      <td>Robert Bausch</td>\n",
       "      <td>2001</td>\n",
       "      <td>Harvest Books</td>\n",
       "      <td>156011840</td>\n",
       "      <td>34566</td>\n",
       "    </tr>\n",
       "    <tr>\n",
       "      <th>888480</th>\n",
       "      <td>3</td>\n",
       "      <td>3</td>\n",
       "      <td>5</td>\n",
       "      <td>The Novels of Anne Bronte</td>\n",
       "      <td>Arnold Craig Bell</td>\n",
       "      <td>1996</td>\n",
       "      <td>Merlin Books Ltd</td>\n",
       "      <td>086303635X</td>\n",
       "      <td>189835</td>\n",
       "    </tr>\n",
       "    <tr>\n",
       "      <th>769212</th>\n",
       "      <td>4</td>\n",
       "      <td>4</td>\n",
       "      <td>6</td>\n",
       "      <td>Guardias! Guardias?</td>\n",
       "      <td>Terry Pratchett</td>\n",
       "      <td>1999</td>\n",
       "      <td>Downtown Book Center</td>\n",
       "      <td>8401479460</td>\n",
       "      <td>93018</td>\n",
       "    </tr>\n",
       "  </tbody>\n",
       "</table>\n",
       "</div>"
      ],
      "text/plain": [
       "        User_id_order  Isbn_id  Rating  \\\n",
       "839945  0              0        5        \n",
       "320420  1              1        8        \n",
       "604292  2              2        6        \n",
       "888480  3              3        5        \n",
       "769212  4              4        6        \n",
       "\n",
       "                                         Book_title        Book_author  \\\n",
       "839945  Master Key to Good Golf                      Leslie King         \n",
       "320420  Mr. Midshipman Hornblower (Hornblower Saga)  C.S. Forester       \n",
       "604292  A Hole in the Earth                          Robert Bausch       \n",
       "888480  The Novels of Anne Bronte                    Arnold Craig Bell   \n",
       "769212  Guardias! Guardias?                          Terry Pratchett     \n",
       "\n",
       "        Year_of_publication             Publisher        Isbn User_id  \n",
       "839945  1979                 Golf Associates       960714006   140358  \n",
       "320420  1984                 Back Bay Books        316289124   188685  \n",
       "604292  2001                 Harvest Books         156011840   34566   \n",
       "888480  1996                 Merlin Books Ltd      086303635X  189835  \n",
       "769212  1999                 Downtown Book Center  8401479460  93018   "
      ]
     },
     "execution_count": 485,
     "metadata": {},
     "output_type": "execute_result"
    }
   ],
   "source": [
    "new_col_order = ['User_id_order', 'Isbn_id', 'Rating', 'Book_title', 'Book_author','Year_of_publication','Publisher','Isbn','User_id']\n",
    "df_new = df_new.reindex(columns= new_col_order)\n",
    "df_new.head()"
   ]
  },
  {
   "cell_type": "code",
   "execution_count": 486,
   "id": "3e51d9d0",
   "metadata": {},
   "outputs": [],
   "source": [
    "from sklearn.model_selection import train_test_split\n",
    "train_data, test_data= train_test_split(df_new, test_size=0.20)"
   ]
  },
  {
   "cell_type": "code",
   "execution_count": 487,
   "id": "60cf8e72",
   "metadata": {},
   "outputs": [
    {
     "data": {
      "text/html": [
       "<div>\n",
       "<style scoped>\n",
       "    .dataframe tbody tr th:only-of-type {\n",
       "        vertical-align: middle;\n",
       "    }\n",
       "\n",
       "    .dataframe tbody tr th {\n",
       "        vertical-align: top;\n",
       "    }\n",
       "\n",
       "    .dataframe thead th {\n",
       "        text-align: right;\n",
       "    }\n",
       "</style>\n",
       "<table border=\"1\" class=\"dataframe\">\n",
       "  <thead>\n",
       "    <tr style=\"text-align: right;\">\n",
       "      <th></th>\n",
       "      <th>User_id_order</th>\n",
       "      <th>Isbn_id</th>\n",
       "      <th>Rating</th>\n",
       "      <th>Book_title</th>\n",
       "      <th>Book_author</th>\n",
       "      <th>Year_of_publication</th>\n",
       "      <th>Publisher</th>\n",
       "      <th>Isbn</th>\n",
       "      <th>User_id</th>\n",
       "    </tr>\n",
       "  </thead>\n",
       "  <tbody>\n",
       "    <tr>\n",
       "      <th>811645</th>\n",
       "      <td>3591</td>\n",
       "      <td>7066</td>\n",
       "      <td>8</td>\n",
       "      <td>Lilith: A Snake in the Grass</td>\n",
       "      <td>Jack L. Chalker</td>\n",
       "      <td>1981</td>\n",
       "      <td>Del Rey Books</td>\n",
       "      <td>034529369X</td>\n",
       "      <td>244349</td>\n",
       "    </tr>\n",
       "    <tr>\n",
       "      <th>792890</th>\n",
       "      <td>1821</td>\n",
       "      <td>2161</td>\n",
       "      <td>9</td>\n",
       "      <td>Forget Perfect: Finding Joy, Meaning, and Satisfaction in the Life You'Ve Already Got and the You You Already Are</td>\n",
       "      <td>Lisa Earle</td>\n",
       "      <td>2001</td>\n",
       "      <td>Perigee Books</td>\n",
       "      <td>039952715X</td>\n",
       "      <td>250405</td>\n",
       "    </tr>\n",
       "    <tr>\n",
       "      <th>49956</th>\n",
       "      <td>1031</td>\n",
       "      <td>78</td>\n",
       "      <td>4</td>\n",
       "      <td>The Vampire Lestat (Vampire Chronicles, Book II)</td>\n",
       "      <td>ANNE RICE</td>\n",
       "      <td>1986</td>\n",
       "      <td>Ballantine Books</td>\n",
       "      <td>345313860</td>\n",
       "      <td>223325</td>\n",
       "    </tr>\n",
       "    <tr>\n",
       "      <th>638392</th>\n",
       "      <td>1703</td>\n",
       "      <td>2001</td>\n",
       "      <td>7</td>\n",
       "      <td>The Enigma of Arrival: A Novel</td>\n",
       "      <td>V.S. Naipaul</td>\n",
       "      <td>1988</td>\n",
       "      <td>Vintage Books USA</td>\n",
       "      <td>394757602</td>\n",
       "      <td>39225</td>\n",
       "    </tr>\n",
       "    <tr>\n",
       "      <th>572498</th>\n",
       "      <td>2397</td>\n",
       "      <td>2383</td>\n",
       "      <td>9</td>\n",
       "      <td>Spider's Web</td>\n",
       "      <td>Charles Osborne</td>\n",
       "      <td>2000</td>\n",
       "      <td>St. Martin's Minotaur</td>\n",
       "      <td>312266502</td>\n",
       "      <td>232052</td>\n",
       "    </tr>\n",
       "    <tr>\n",
       "      <th>...</th>\n",
       "      <td>...</td>\n",
       "      <td>...</td>\n",
       "      <td>...</td>\n",
       "      <td>...</td>\n",
       "      <td>...</td>\n",
       "      <td>...</td>\n",
       "      <td>...</td>\n",
       "      <td>...</td>\n",
       "      <td>...</td>\n",
       "    </tr>\n",
       "    <tr>\n",
       "      <th>522304</th>\n",
       "      <td>4512</td>\n",
       "      <td>5948</td>\n",
       "      <td>8</td>\n",
       "      <td>Theory/Practice Hell</td>\n",
       "      <td>Eugene Kogan</td>\n",
       "      <td>1981</td>\n",
       "      <td>Berkley Publishing Group</td>\n",
       "      <td>425051811</td>\n",
       "      <td>21895</td>\n",
       "    </tr>\n",
       "    <tr>\n",
       "      <th>362721</th>\n",
       "      <td>3802</td>\n",
       "      <td>4903</td>\n",
       "      <td>4</td>\n",
       "      <td>In Search of Excellence</td>\n",
       "      <td>Jr., Robert H Waterman</td>\n",
       "      <td>1988</td>\n",
       "      <td>Warner Books</td>\n",
       "      <td>446385077</td>\n",
       "      <td>11532</td>\n",
       "    </tr>\n",
       "    <tr>\n",
       "      <th>105850</th>\n",
       "      <td>3704</td>\n",
       "      <td>6</td>\n",
       "      <td>7</td>\n",
       "      <td>1st to Die: A Novel</td>\n",
       "      <td>James Patterson</td>\n",
       "      <td>2002</td>\n",
       "      <td>Warner Vision</td>\n",
       "      <td>446610038</td>\n",
       "      <td>157655</td>\n",
       "    </tr>\n",
       "    <tr>\n",
       "      <th>302049</th>\n",
       "      <td>1498</td>\n",
       "      <td>1747</td>\n",
       "      <td>10</td>\n",
       "      <td>Christmas Cookie Murder: A Lucy Stone Mystery (Lucy Stone Mysteries (Paperback))</td>\n",
       "      <td>Leslie Meier</td>\n",
       "      <td>2000</td>\n",
       "      <td>Kensington Publishing Corporation</td>\n",
       "      <td>157566691X</td>\n",
       "      <td>193778</td>\n",
       "    </tr>\n",
       "    <tr>\n",
       "      <th>110683</th>\n",
       "      <td>5757</td>\n",
       "      <td>7977</td>\n",
       "      <td>8</td>\n",
       "      <td>Enchantment</td>\n",
       "      <td>Orson Scott Card</td>\n",
       "      <td>2000</td>\n",
       "      <td>Del Rey Books</td>\n",
       "      <td>345416880</td>\n",
       "      <td>112512</td>\n",
       "    </tr>\n",
       "  </tbody>\n",
       "</table>\n",
       "<p>8000 rows × 9 columns</p>\n",
       "</div>"
      ],
      "text/plain": [
       "        User_id_order  Isbn_id  Rating  \\\n",
       "811645  3591           7066     8        \n",
       "792890  1821           2161     9        \n",
       "49956   1031           78       4        \n",
       "638392  1703           2001     7        \n",
       "572498  2397           2383     9        \n",
       "...      ...            ...    ..        \n",
       "522304  4512           5948     8        \n",
       "362721  3802           4903     4        \n",
       "105850  3704           6        7        \n",
       "302049  1498           1747     10       \n",
       "110683  5757           7977     8        \n",
       "\n",
       "                                                                                                               Book_title  \\\n",
       "811645  Lilith: A Snake in the Grass                                                                                        \n",
       "792890  Forget Perfect: Finding Joy, Meaning, and Satisfaction in the Life You'Ve Already Got and the You You Already Are   \n",
       "49956   The Vampire Lestat (Vampire Chronicles, Book II)                                                                    \n",
       "638392  The Enigma of Arrival: A Novel                                                                                      \n",
       "572498  Spider's Web                                                                                                        \n",
       "...              ...                                                                                                        \n",
       "522304  Theory/Practice Hell                                                                                                \n",
       "362721  In Search of Excellence                                                                                             \n",
       "105850  1st to Die: A Novel                                                                                                 \n",
       "302049  Christmas Cookie Murder: A Lucy Stone Mystery (Lucy Stone Mysteries (Paperback))                                    \n",
       "110683  Enchantment                                                                                                         \n",
       "\n",
       "                   Book_author  Year_of_publication  \\\n",
       "811645  Jack L. Chalker         1981                  \n",
       "792890  Lisa Earle              2001                  \n",
       "49956   ANNE RICE               1986                  \n",
       "638392  V.S. Naipaul            1988                  \n",
       "572498  Charles Osborne         2000                  \n",
       "...                 ...          ...                  \n",
       "522304  Eugene Kogan            1981                  \n",
       "362721  Jr., Robert H Waterman  1988                  \n",
       "105850  James Patterson         2002                  \n",
       "302049  Leslie Meier            2000                  \n",
       "110683  Orson Scott Card        2000                  \n",
       "\n",
       "                                Publisher        Isbn User_id  \n",
       "811645  Del Rey Books                      034529369X  244349  \n",
       "792890  Perigee Books                      039952715X  250405  \n",
       "49956   Ballantine Books                   345313860   223325  \n",
       "638392  Vintage Books USA                  394757602   39225   \n",
       "572498  St. Martin's Minotaur              312266502   232052  \n",
       "...                       ...                    ...      ...  \n",
       "522304  Berkley Publishing Group           425051811   21895   \n",
       "362721  Warner Books                       446385077   11532   \n",
       "105850  Warner Vision                      446610038   157655  \n",
       "302049  Kensington Publishing Corporation  157566691X  193778  \n",
       "110683  Del Rey Books                      345416880   112512  \n",
       "\n",
       "[8000 rows x 9 columns]"
      ]
     },
     "execution_count": 487,
     "metadata": {},
     "output_type": "execute_result"
    }
   ],
   "source": [
    "train_data"
   ]
  },
  {
   "cell_type": "code",
   "execution_count": 540,
   "id": "f326fa24",
   "metadata": {},
   "outputs": [],
   "source": [
    "train_data_matrix = np.zeros((n_users, n_books))\n",
    "for col in train_data.itertuples():\n",
    "    train_data_matrix[col[1]-1, col[2]-1] = col[3]  \n",
    "    \n",
    "# Create user-book matrix for testing\n",
    "test_data_matrix = np.zeros((n_users, n_books))\n",
    "for col in test_data.itertuples():\n",
    "    test_data_matrix[col[1]-1, col[2]-1] = col[3]"
   ]
  },
  {
   "cell_type": "code",
   "execution_count": 541,
   "id": "8aa03592",
   "metadata": {},
   "outputs": [],
   "source": [
    "# calculate the similarity\n",
    "from sklearn.metrics import pairwise_distances\n",
    "user_simi=pairwise_distances(train_data_matrix,metric='cosine')\n",
    "item_simi=pairwise_distances(train_data_matrix.T,metric='cosine')\n"
   ]
  },
  {
   "cell_type": "code",
   "execution_count": 542,
   "id": "c2ef8908",
   "metadata": {
    "scrolled": true
   },
   "outputs": [
    {
     "data": {
      "text/plain": [
       "array([[0., 1., 1., ..., 1., 1., 1.],\n",
       "       [1., 0., 1., ..., 1., 1., 1.],\n",
       "       [1., 1., 0., ..., 1., 1., 1.],\n",
       "       ...,\n",
       "       [1., 1., 1., ..., 0., 1., 1.],\n",
       "       [1., 1., 1., ..., 1., 0., 1.],\n",
       "       [1., 1., 1., ..., 1., 1., 0.]])"
      ]
     },
     "execution_count": 542,
     "metadata": {},
     "output_type": "execute_result"
    }
   ],
   "source": [
    "user_simi"
   ]
  },
  {
   "cell_type": "code",
   "execution_count": 568,
   "id": "8e226549",
   "metadata": {},
   "outputs": [
    {
     "data": {
      "text/plain": [
       "array([[0., 1., 1., ..., 1., 1., 1.],\n",
       "       [1., 0., 1., ..., 1., 1., 1.],\n",
       "       [1., 1., 0., ..., 1., 1., 1.],\n",
       "       ...,\n",
       "       [1., 1., 1., ..., 0., 1., 1.],\n",
       "       [1., 1., 1., ..., 1., 0., 1.],\n",
       "       [1., 1., 1., ..., 1., 1., 0.]])"
      ]
     },
     "execution_count": 568,
     "metadata": {},
     "output_type": "execute_result"
    }
   ],
   "source": [
    "item_simi"
   ]
  },
  {
   "cell_type": "code",
   "execution_count": 589,
   "id": "097c6f68",
   "metadata": {},
   "outputs": [],
   "source": [
    "def predict(Ratings, similarity, type='user'):\n",
    "    if type == 'user':\n",
    "        mean_user_rating = Ratings.mean(axis=1)\n",
    "        rating_diff = (Ratings - mean_user_rating[:, np.newaxis])\n",
    "        pred = mean_user_rating[:, np.newaxis] + similarity.dot(rating_diff) / np.array([np.abs(similarity).sum(axis=1)]).T\n",
    "        return pred  # Add a return statement for the 'user' case\n",
    "    elif type == 'item':\n",
    "        pred = Ratings.dot(similarity) / np.array([np.abs(similarity).sum(axis=1)])\n",
    "        return pred  # Add a return statement for the 'item' case\n",
    "    else:\n",
    "        raise ValueError(\"Invalid 'type'. Use 'user' or 'item'.\")\n"
   ]
  },
  {
   "cell_type": "code",
   "execution_count": 590,
   "id": "645e9ebc",
   "metadata": {},
   "outputs": [],
   "source": [
    "item_prediction = predict(train_data_matrix, item_simi, type='item')\n"
   ]
  },
  {
   "cell_type": "code",
   "execution_count": 591,
   "id": "cb6058f6",
   "metadata": {},
   "outputs": [],
   "source": [
    "user_prediction = predict(train_data_matrix, user_simi, type='user')"
   ]
  },
  {
   "cell_type": "code",
   "execution_count": 592,
   "id": "d43957f4",
   "metadata": {},
   "outputs": [
    {
     "name": "stdout",
     "output_type": "stream",
     "text": [
      "[[0.         0.00093893 0.00094284 ... 0.00093897 0.00093941 0.00093908]\n",
      " [0.00152564 0.00028056 0.00153212 ... 0.00152582 0.00152654 0.001526  ]\n",
      " [0.0221805  0.02218221 0.         ... 0.0221831  0.02219352 0.0221857 ]\n",
      " ...\n",
      " [0.00105621 0.0010563  0.0010607  ... 0.00105634 0.00105683 0.00105646]\n",
      " [0.00117357 0.00117366 0.00117855 ... 0.00117371 0.00117426 0.00117385]\n",
      " [0.00176036 0.00176049 0.00176783 ... 0.00176056 0.00176139 0.        ]]\n"
     ]
    }
   ],
   "source": [
    "print(item_prediction)"
   ]
  },
  {
   "cell_type": "code",
   "execution_count": 593,
   "id": "e18111db",
   "metadata": {
    "scrolled": false
   },
   "outputs": [
    {
     "name": "stdout",
     "output_type": "stream",
     "text": [
      "[[-0.00023745  0.00074891  0.00058452 ...  0.00124209  0.0010777\n",
      "   0.00058452]\n",
      " [ 0.00166603  0.00035088  0.00117285 ...  0.00183043  0.00166603\n",
      "   0.00117285]\n",
      " [ 0.02232033  0.02199155  0.02100519 ...  0.02248473  0.02232033\n",
      "   0.02182715]\n",
      " ...\n",
      " [ 0.00119506  0.00086627  0.00070188 ...  0.00135945  0.00119506\n",
      "   0.00070188]\n",
      " [ 0.00131242  0.00098364  0.00081924 ...  0.00147681  0.00131242\n",
      "   0.00081924]\n",
      " [ 0.00189923  0.00157045  0.00140606 ...  0.00206363  0.00189923\n",
      "   0.00058409]]\n"
     ]
    }
   ],
   "source": [
    "print(user_prediction)"
   ]
  },
  {
   "cell_type": "code",
   "execution_count": 574,
   "id": "a931f577",
   "metadata": {},
   "outputs": [],
   "source": [
    "def rmse(actual, prediction):\n",
    "    if prediction is None:\n",
    "        # Handle the None value, e.g., assign a default prediction\n",
    "        prediction = np.zeros_like(actual)  # Assuming a default prediction of zeros\n",
    "    \n",
    "    prediction = prediction.flatten()\n",
    "    actual = actual.flatten()\n",
    "    return np.sqrt(mean_squared_error(actual, prediction))\n"
   ]
  },
  {
   "cell_type": "code",
   "execution_count": 575,
   "id": "b16201be",
   "metadata": {},
   "outputs": [
    {
     "name": "stdout",
     "output_type": "stream",
     "text": [
      "user based rmse 0.09742910097671208\n"
     ]
    }
   ],
   "source": [
    "print('user based rmse',rmse(train_data_matrix,item_prediction))\n"
   ]
  },
  {
   "cell_type": "code",
   "execution_count": 576,
   "id": "dd1b0b27",
   "metadata": {},
   "outputs": [
    {
     "name": "stdout",
     "output_type": "stream",
     "text": [
      "item based rmse 0.09738761396709829\n"
     ]
    }
   ],
   "source": [
    "print('item based rmse',rmse(train_data_matrix,user_prediction))"
   ]
  },
  {
   "cell_type": "code",
   "execution_count": null,
   "id": "78140e93",
   "metadata": {},
   "outputs": [],
   "source": []
  }
 ],
 "metadata": {
  "kernelspec": {
   "display_name": "Python 3 (ipykernel)",
   "language": "python",
   "name": "python3"
  },
  "language_info": {
   "codemirror_mode": {
    "name": "ipython",
    "version": 3
   },
   "file_extension": ".py",
   "mimetype": "text/x-python",
   "name": "python",
   "nbconvert_exporter": "python",
   "pygments_lexer": "ipython3",
   "version": "3.10.9"
  }
 },
 "nbformat": 4,
 "nbformat_minor": 5
}
